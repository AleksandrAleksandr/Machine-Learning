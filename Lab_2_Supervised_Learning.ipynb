{
 "cells": [
  {
   "cell_type": "markdown",
   "metadata": {},
   "source": [
    "## <center>Лабораторная работа №2. Supervised Learning</center>"
   ]
  },
  {
   "cell_type": "markdown",
   "metadata": {},
   "source": [
    "## Данные"
   ]
  },
  {
   "cell_type": "code",
   "execution_count": 1,
   "metadata": {
    "collapsed": true
   },
   "outputs": [],
   "source": [
    "import pandas as pd\n",
    "import seaborn as sns\n",
    "import matplotlib.pyplot as plt\n",
    "import numpy as np"
   ]
  },
  {
   "cell_type": "code",
   "execution_count": 2,
   "metadata": {
    "collapsed": true
   },
   "outputs": [],
   "source": [
    "pd.set_option('display.max_columns', 40)\n",
    "\n",
    "pd.set_option('display.max_colwidth', -1)"
   ]
  },
  {
   "cell_type": "code",
   "execution_count": 314,
   "metadata": {},
   "outputs": [
    {
     "data": {
      "text/plain": [
       "(1044, 35)"
      ]
     },
     "execution_count": 314,
     "metadata": {},
     "output_type": "execute_result"
    }
   ],
   "source": [
    "data = pd.read_csv(\"students_data.csv\")\n",
    "data = data.dropna()\n",
    "data.shape"
   ]
  },
  {
   "cell_type": "code",
   "execution_count": 201,
   "metadata": {},
   "outputs": [
    {
     "data": {
      "text/html": [
       "<div>\n",
       "<style>\n",
       "    .dataframe thead tr:only-child th {\n",
       "        text-align: right;\n",
       "    }\n",
       "\n",
       "    .dataframe thead th {\n",
       "        text-align: left;\n",
       "    }\n",
       "\n",
       "    .dataframe tbody tr th {\n",
       "        vertical-align: top;\n",
       "    }\n",
       "</style>\n",
       "<table border=\"1\" class=\"dataframe\">\n",
       "  <thead>\n",
       "    <tr style=\"text-align: right;\">\n",
       "      <th></th>\n",
       "      <th>ID</th>\n",
       "      <th>Subject</th>\n",
       "      <th>school</th>\n",
       "      <th>sex</th>\n",
       "      <th>age</th>\n",
       "      <th>address</th>\n",
       "      <th>famsize</th>\n",
       "      <th>Pstatus</th>\n",
       "      <th>Medu</th>\n",
       "      <th>Fedu</th>\n",
       "      <th>Mjob</th>\n",
       "      <th>Fjob</th>\n",
       "      <th>reason</th>\n",
       "      <th>guardian</th>\n",
       "      <th>traveltime</th>\n",
       "      <th>studytime</th>\n",
       "      <th>failures</th>\n",
       "      <th>schoolsup</th>\n",
       "      <th>famsup</th>\n",
       "      <th>paid</th>\n",
       "      <th>activities</th>\n",
       "      <th>nursery</th>\n",
       "      <th>higher</th>\n",
       "      <th>internet</th>\n",
       "      <th>romantic</th>\n",
       "      <th>famrel</th>\n",
       "      <th>freetime</th>\n",
       "      <th>goout</th>\n",
       "      <th>Dalc</th>\n",
       "      <th>Walc</th>\n",
       "      <th>health</th>\n",
       "      <th>absences</th>\n",
       "      <th>G1</th>\n",
       "      <th>G2</th>\n",
       "      <th>G3</th>\n",
       "    </tr>\n",
       "  </thead>\n",
       "  <tbody>\n",
       "    <tr>\n",
       "      <th>0</th>\n",
       "      <td>100097</td>\n",
       "      <td>Por</td>\n",
       "      <td>GP</td>\n",
       "      <td>F</td>\n",
       "      <td>16</td>\n",
       "      <td>U</td>\n",
       "      <td>GT3</td>\n",
       "      <td>A</td>\n",
       "      <td>3</td>\n",
       "      <td>4</td>\n",
       "      <td>services</td>\n",
       "      <td>other</td>\n",
       "      <td>course</td>\n",
       "      <td>father</td>\n",
       "      <td>1</td>\n",
       "      <td>1</td>\n",
       "      <td>0</td>\n",
       "      <td>no</td>\n",
       "      <td>no</td>\n",
       "      <td>no</td>\n",
       "      <td>no</td>\n",
       "      <td>yes</td>\n",
       "      <td>yes</td>\n",
       "      <td>yes</td>\n",
       "      <td>no</td>\n",
       "      <td>3</td>\n",
       "      <td>2</td>\n",
       "      <td>1</td>\n",
       "      <td>1</td>\n",
       "      <td>4</td>\n",
       "      <td>5</td>\n",
       "      <td>12</td>\n",
       "      <td>15</td>\n",
       "      <td>13</td>\n",
       "      <td>14</td>\n",
       "    </tr>\n",
       "    <tr>\n",
       "      <th>1</th>\n",
       "      <td>101021</td>\n",
       "      <td>Por</td>\n",
       "      <td>GP</td>\n",
       "      <td>F</td>\n",
       "      <td>17</td>\n",
       "      <td>U</td>\n",
       "      <td>GT3</td>\n",
       "      <td>T</td>\n",
       "      <td>3</td>\n",
       "      <td>2</td>\n",
       "      <td>other</td>\n",
       "      <td>other</td>\n",
       "      <td>course</td>\n",
       "      <td>mother</td>\n",
       "      <td>1</td>\n",
       "      <td>2</td>\n",
       "      <td>0</td>\n",
       "      <td>no</td>\n",
       "      <td>no</td>\n",
       "      <td>no</td>\n",
       "      <td>yes</td>\n",
       "      <td>no</td>\n",
       "      <td>yes</td>\n",
       "      <td>yes</td>\n",
       "      <td>no</td>\n",
       "      <td>5</td>\n",
       "      <td>3</td>\n",
       "      <td>4</td>\n",
       "      <td>1</td>\n",
       "      <td>3</td>\n",
       "      <td>3</td>\n",
       "      <td>2</td>\n",
       "      <td>17</td>\n",
       "      <td>18</td>\n",
       "      <td>17</td>\n",
       "    </tr>\n",
       "    <tr>\n",
       "      <th>2</th>\n",
       "      <td>102965</td>\n",
       "      <td>Por</td>\n",
       "      <td>GP</td>\n",
       "      <td>M</td>\n",
       "      <td>16</td>\n",
       "      <td>U</td>\n",
       "      <td>LE3</td>\n",
       "      <td>T</td>\n",
       "      <td>1</td>\n",
       "      <td>2</td>\n",
       "      <td>health</td>\n",
       "      <td>services</td>\n",
       "      <td>course</td>\n",
       "      <td>mother</td>\n",
       "      <td>2</td>\n",
       "      <td>1</td>\n",
       "      <td>2</td>\n",
       "      <td>no</td>\n",
       "      <td>no</td>\n",
       "      <td>no</td>\n",
       "      <td>no</td>\n",
       "      <td>no</td>\n",
       "      <td>yes</td>\n",
       "      <td>yes</td>\n",
       "      <td>no</td>\n",
       "      <td>4</td>\n",
       "      <td>4</td>\n",
       "      <td>5</td>\n",
       "      <td>3</td>\n",
       "      <td>5</td>\n",
       "      <td>5</td>\n",
       "      <td>0</td>\n",
       "      <td>9</td>\n",
       "      <td>8</td>\n",
       "      <td>10</td>\n",
       "    </tr>\n",
       "    <tr>\n",
       "      <th>3</th>\n",
       "      <td>102989</td>\n",
       "      <td>Por</td>\n",
       "      <td>MS</td>\n",
       "      <td>M</td>\n",
       "      <td>17</td>\n",
       "      <td>U</td>\n",
       "      <td>GT3</td>\n",
       "      <td>T</td>\n",
       "      <td>2</td>\n",
       "      <td>3</td>\n",
       "      <td>other</td>\n",
       "      <td>services</td>\n",
       "      <td>home</td>\n",
       "      <td>father</td>\n",
       "      <td>2</td>\n",
       "      <td>2</td>\n",
       "      <td>0</td>\n",
       "      <td>no</td>\n",
       "      <td>no</td>\n",
       "      <td>no</td>\n",
       "      <td>yes</td>\n",
       "      <td>yes</td>\n",
       "      <td>yes</td>\n",
       "      <td>yes</td>\n",
       "      <td>no</td>\n",
       "      <td>4</td>\n",
       "      <td>4</td>\n",
       "      <td>3</td>\n",
       "      <td>1</td>\n",
       "      <td>1</td>\n",
       "      <td>3</td>\n",
       "      <td>4</td>\n",
       "      <td>14</td>\n",
       "      <td>15</td>\n",
       "      <td>16</td>\n",
       "    </tr>\n",
       "    <tr>\n",
       "      <th>4</th>\n",
       "      <td>103131</td>\n",
       "      <td>Por</td>\n",
       "      <td>GP</td>\n",
       "      <td>F</td>\n",
       "      <td>16</td>\n",
       "      <td>U</td>\n",
       "      <td>GT3</td>\n",
       "      <td>T</td>\n",
       "      <td>1</td>\n",
       "      <td>1</td>\n",
       "      <td>at_home</td>\n",
       "      <td>other</td>\n",
       "      <td>home</td>\n",
       "      <td>mother</td>\n",
       "      <td>2</td>\n",
       "      <td>1</td>\n",
       "      <td>0</td>\n",
       "      <td>no</td>\n",
       "      <td>yes</td>\n",
       "      <td>no</td>\n",
       "      <td>no</td>\n",
       "      <td>yes</td>\n",
       "      <td>yes</td>\n",
       "      <td>no</td>\n",
       "      <td>no</td>\n",
       "      <td>4</td>\n",
       "      <td>3</td>\n",
       "      <td>2</td>\n",
       "      <td>1</td>\n",
       "      <td>4</td>\n",
       "      <td>5</td>\n",
       "      <td>2</td>\n",
       "      <td>12</td>\n",
       "      <td>13</td>\n",
       "      <td>13</td>\n",
       "    </tr>\n",
       "    <tr>\n",
       "      <th>5</th>\n",
       "      <td>103144</td>\n",
       "      <td>Por</td>\n",
       "      <td>GP</td>\n",
       "      <td>M</td>\n",
       "      <td>18</td>\n",
       "      <td>U</td>\n",
       "      <td>LE3</td>\n",
       "      <td>T</td>\n",
       "      <td>3</td>\n",
       "      <td>1</td>\n",
       "      <td>services</td>\n",
       "      <td>services</td>\n",
       "      <td>course</td>\n",
       "      <td>mother</td>\n",
       "      <td>2</td>\n",
       "      <td>1</td>\n",
       "      <td>0</td>\n",
       "      <td>no</td>\n",
       "      <td>no</td>\n",
       "      <td>no</td>\n",
       "      <td>yes</td>\n",
       "      <td>yes</td>\n",
       "      <td>yes</td>\n",
       "      <td>yes</td>\n",
       "      <td>yes</td>\n",
       "      <td>3</td>\n",
       "      <td>3</td>\n",
       "      <td>4</td>\n",
       "      <td>4</td>\n",
       "      <td>5</td>\n",
       "      <td>4</td>\n",
       "      <td>2</td>\n",
       "      <td>11</td>\n",
       "      <td>11</td>\n",
       "      <td>12</td>\n",
       "    </tr>\n",
       "    <tr>\n",
       "      <th>6</th>\n",
       "      <td>105257</td>\n",
       "      <td>Por</td>\n",
       "      <td>MS</td>\n",
       "      <td>F</td>\n",
       "      <td>18</td>\n",
       "      <td>U</td>\n",
       "      <td>GT3</td>\n",
       "      <td>T</td>\n",
       "      <td>1</td>\n",
       "      <td>1</td>\n",
       "      <td>other</td>\n",
       "      <td>other</td>\n",
       "      <td>course</td>\n",
       "      <td>mother</td>\n",
       "      <td>2</td>\n",
       "      <td>2</td>\n",
       "      <td>0</td>\n",
       "      <td>no</td>\n",
       "      <td>no</td>\n",
       "      <td>no</td>\n",
       "      <td>yes</td>\n",
       "      <td>yes</td>\n",
       "      <td>yes</td>\n",
       "      <td>no</td>\n",
       "      <td>no</td>\n",
       "      <td>1</td>\n",
       "      <td>1</td>\n",
       "      <td>1</td>\n",
       "      <td>1</td>\n",
       "      <td>1</td>\n",
       "      <td>5</td>\n",
       "      <td>6</td>\n",
       "      <td>11</td>\n",
       "      <td>12</td>\n",
       "      <td>9</td>\n",
       "    </tr>\n",
       "    <tr>\n",
       "      <th>7</th>\n",
       "      <td>107639</td>\n",
       "      <td>Por</td>\n",
       "      <td>MS</td>\n",
       "      <td>F</td>\n",
       "      <td>15</td>\n",
       "      <td>R</td>\n",
       "      <td>GT3</td>\n",
       "      <td>T</td>\n",
       "      <td>4</td>\n",
       "      <td>4</td>\n",
       "      <td>teacher</td>\n",
       "      <td>other</td>\n",
       "      <td>course</td>\n",
       "      <td>mother</td>\n",
       "      <td>2</td>\n",
       "      <td>1</td>\n",
       "      <td>0</td>\n",
       "      <td>no</td>\n",
       "      <td>no</td>\n",
       "      <td>no</td>\n",
       "      <td>no</td>\n",
       "      <td>yes</td>\n",
       "      <td>yes</td>\n",
       "      <td>yes</td>\n",
       "      <td>yes</td>\n",
       "      <td>1</td>\n",
       "      <td>5</td>\n",
       "      <td>1</td>\n",
       "      <td>3</td>\n",
       "      <td>5</td>\n",
       "      <td>5</td>\n",
       "      <td>0</td>\n",
       "      <td>13</td>\n",
       "      <td>14</td>\n",
       "      <td>14</td>\n",
       "    </tr>\n",
       "    <tr>\n",
       "      <th>8</th>\n",
       "      <td>107914</td>\n",
       "      <td>Math</td>\n",
       "      <td>GP</td>\n",
       "      <td>F</td>\n",
       "      <td>15</td>\n",
       "      <td>U</td>\n",
       "      <td>LE3</td>\n",
       "      <td>T</td>\n",
       "      <td>3</td>\n",
       "      <td>2</td>\n",
       "      <td>services</td>\n",
       "      <td>other</td>\n",
       "      <td>reputation</td>\n",
       "      <td>mother</td>\n",
       "      <td>1</td>\n",
       "      <td>2</td>\n",
       "      <td>0</td>\n",
       "      <td>no</td>\n",
       "      <td>yes</td>\n",
       "      <td>yes</td>\n",
       "      <td>no</td>\n",
       "      <td>yes</td>\n",
       "      <td>yes</td>\n",
       "      <td>yes</td>\n",
       "      <td>no</td>\n",
       "      <td>4</td>\n",
       "      <td>4</td>\n",
       "      <td>4</td>\n",
       "      <td>1</td>\n",
       "      <td>1</td>\n",
       "      <td>5</td>\n",
       "      <td>10</td>\n",
       "      <td>7</td>\n",
       "      <td>6</td>\n",
       "      <td>6</td>\n",
       "    </tr>\n",
       "    <tr>\n",
       "      <th>9</th>\n",
       "      <td>108089</td>\n",
       "      <td>Por</td>\n",
       "      <td>MS</td>\n",
       "      <td>M</td>\n",
       "      <td>16</td>\n",
       "      <td>R</td>\n",
       "      <td>GT3</td>\n",
       "      <td>T</td>\n",
       "      <td>3</td>\n",
       "      <td>4</td>\n",
       "      <td>other</td>\n",
       "      <td>health</td>\n",
       "      <td>other</td>\n",
       "      <td>mother</td>\n",
       "      <td>3</td>\n",
       "      <td>2</td>\n",
       "      <td>0</td>\n",
       "      <td>no</td>\n",
       "      <td>no</td>\n",
       "      <td>no</td>\n",
       "      <td>no</td>\n",
       "      <td>no</td>\n",
       "      <td>yes</td>\n",
       "      <td>no</td>\n",
       "      <td>no</td>\n",
       "      <td>3</td>\n",
       "      <td>4</td>\n",
       "      <td>5</td>\n",
       "      <td>1</td>\n",
       "      <td>2</td>\n",
       "      <td>5</td>\n",
       "      <td>4</td>\n",
       "      <td>9</td>\n",
       "      <td>10</td>\n",
       "      <td>11</td>\n",
       "    </tr>\n",
       "    <tr>\n",
       "      <th>10</th>\n",
       "      <td>108254</td>\n",
       "      <td>Por</td>\n",
       "      <td>GP</td>\n",
       "      <td>M</td>\n",
       "      <td>15</td>\n",
       "      <td>U</td>\n",
       "      <td>LE3</td>\n",
       "      <td>T</td>\n",
       "      <td>4</td>\n",
       "      <td>4</td>\n",
       "      <td>health</td>\n",
       "      <td>services</td>\n",
       "      <td>course</td>\n",
       "      <td>father</td>\n",
       "      <td>1</td>\n",
       "      <td>1</td>\n",
       "      <td>0</td>\n",
       "      <td>no</td>\n",
       "      <td>yes</td>\n",
       "      <td>no</td>\n",
       "      <td>yes</td>\n",
       "      <td>yes</td>\n",
       "      <td>yes</td>\n",
       "      <td>yes</td>\n",
       "      <td>no</td>\n",
       "      <td>4</td>\n",
       "      <td>3</td>\n",
       "      <td>3</td>\n",
       "      <td>1</td>\n",
       "      <td>3</td>\n",
       "      <td>5</td>\n",
       "      <td>0</td>\n",
       "      <td>12</td>\n",
       "      <td>13</td>\n",
       "      <td>12</td>\n",
       "    </tr>\n",
       "    <tr>\n",
       "      <th>11</th>\n",
       "      <td>108296</td>\n",
       "      <td>Por</td>\n",
       "      <td>GP</td>\n",
       "      <td>M</td>\n",
       "      <td>18</td>\n",
       "      <td>U</td>\n",
       "      <td>LE3</td>\n",
       "      <td>T</td>\n",
       "      <td>3</td>\n",
       "      <td>4</td>\n",
       "      <td>services</td>\n",
       "      <td>other</td>\n",
       "      <td>home</td>\n",
       "      <td>mother</td>\n",
       "      <td>1</td>\n",
       "      <td>2</td>\n",
       "      <td>0</td>\n",
       "      <td>no</td>\n",
       "      <td>no</td>\n",
       "      <td>no</td>\n",
       "      <td>yes</td>\n",
       "      <td>yes</td>\n",
       "      <td>yes</td>\n",
       "      <td>yes</td>\n",
       "      <td>yes</td>\n",
       "      <td>4</td>\n",
       "      <td>3</td>\n",
       "      <td>3</td>\n",
       "      <td>1</td>\n",
       "      <td>3</td>\n",
       "      <td>5</td>\n",
       "      <td>6</td>\n",
       "      <td>16</td>\n",
       "      <td>16</td>\n",
       "      <td>17</td>\n",
       "    </tr>\n",
       "    <tr>\n",
       "      <th>12</th>\n",
       "      <td>108753</td>\n",
       "      <td>Math</td>\n",
       "      <td>MS</td>\n",
       "      <td>F</td>\n",
       "      <td>18</td>\n",
       "      <td>R</td>\n",
       "      <td>GT3</td>\n",
       "      <td>T</td>\n",
       "      <td>4</td>\n",
       "      <td>4</td>\n",
       "      <td>teacher</td>\n",
       "      <td>at_home</td>\n",
       "      <td>reputation</td>\n",
       "      <td>mother</td>\n",
       "      <td>3</td>\n",
       "      <td>1</td>\n",
       "      <td>0</td>\n",
       "      <td>no</td>\n",
       "      <td>yes</td>\n",
       "      <td>yes</td>\n",
       "      <td>yes</td>\n",
       "      <td>yes</td>\n",
       "      <td>yes</td>\n",
       "      <td>yes</td>\n",
       "      <td>yes</td>\n",
       "      <td>4</td>\n",
       "      <td>4</td>\n",
       "      <td>3</td>\n",
       "      <td>2</td>\n",
       "      <td>2</td>\n",
       "      <td>5</td>\n",
       "      <td>7</td>\n",
       "      <td>6</td>\n",
       "      <td>5</td>\n",
       "      <td>6</td>\n",
       "    </tr>\n",
       "    <tr>\n",
       "      <th>13</th>\n",
       "      <td>108825</td>\n",
       "      <td>Por</td>\n",
       "      <td>GP</td>\n",
       "      <td>M</td>\n",
       "      <td>15</td>\n",
       "      <td>U</td>\n",
       "      <td>GT3</td>\n",
       "      <td>T</td>\n",
       "      <td>4</td>\n",
       "      <td>3</td>\n",
       "      <td>teacher</td>\n",
       "      <td>other</td>\n",
       "      <td>home</td>\n",
       "      <td>mother</td>\n",
       "      <td>1</td>\n",
       "      <td>2</td>\n",
       "      <td>0</td>\n",
       "      <td>no</td>\n",
       "      <td>yes</td>\n",
       "      <td>no</td>\n",
       "      <td>yes</td>\n",
       "      <td>yes</td>\n",
       "      <td>yes</td>\n",
       "      <td>yes</td>\n",
       "      <td>no</td>\n",
       "      <td>4</td>\n",
       "      <td>3</td>\n",
       "      <td>3</td>\n",
       "      <td>2</td>\n",
       "      <td>3</td>\n",
       "      <td>5</td>\n",
       "      <td>0</td>\n",
       "      <td>11</td>\n",
       "      <td>11</td>\n",
       "      <td>11</td>\n",
       "    </tr>\n",
       "    <tr>\n",
       "      <th>14</th>\n",
       "      <td>114462</td>\n",
       "      <td>Math</td>\n",
       "      <td>GP</td>\n",
       "      <td>F</td>\n",
       "      <td>16</td>\n",
       "      <td>U</td>\n",
       "      <td>LE3</td>\n",
       "      <td>T</td>\n",
       "      <td>2</td>\n",
       "      <td>2</td>\n",
       "      <td>at_home</td>\n",
       "      <td>other</td>\n",
       "      <td>course</td>\n",
       "      <td>mother</td>\n",
       "      <td>1</td>\n",
       "      <td>2</td>\n",
       "      <td>0</td>\n",
       "      <td>no</td>\n",
       "      <td>yes</td>\n",
       "      <td>no</td>\n",
       "      <td>no</td>\n",
       "      <td>yes</td>\n",
       "      <td>yes</td>\n",
       "      <td>no</td>\n",
       "      <td>no</td>\n",
       "      <td>4</td>\n",
       "      <td>3</td>\n",
       "      <td>4</td>\n",
       "      <td>1</td>\n",
       "      <td>2</td>\n",
       "      <td>2</td>\n",
       "      <td>4</td>\n",
       "      <td>8</td>\n",
       "      <td>7</td>\n",
       "      <td>6</td>\n",
       "    </tr>\n",
       "  </tbody>\n",
       "</table>\n",
       "</div>"
      ],
      "text/plain": [
       "        ID Subject school sex  age address famsize Pstatus  Medu  Fedu  \\\n",
       "0   100097  Por     GP     F   16   U       GT3     A       3     4      \n",
       "1   101021  Por     GP     F   17   U       GT3     T       3     2      \n",
       "2   102965  Por     GP     M   16   U       LE3     T       1     2      \n",
       "3   102989  Por     MS     M   17   U       GT3     T       2     3      \n",
       "4   103131  Por     GP     F   16   U       GT3     T       1     1      \n",
       "5   103144  Por     GP     M   18   U       LE3     T       3     1      \n",
       "6   105257  Por     MS     F   18   U       GT3     T       1     1      \n",
       "7   107639  Por     MS     F   15   R       GT3     T       4     4      \n",
       "8   107914  Math    GP     F   15   U       LE3     T       3     2      \n",
       "9   108089  Por     MS     M   16   R       GT3     T       3     4      \n",
       "10  108254  Por     GP     M   15   U       LE3     T       4     4      \n",
       "11  108296  Por     GP     M   18   U       LE3     T       3     4      \n",
       "12  108753  Math    MS     F   18   R       GT3     T       4     4      \n",
       "13  108825  Por     GP     M   15   U       GT3     T       4     3      \n",
       "14  114462  Math    GP     F   16   U       LE3     T       2     2      \n",
       "\n",
       "        Mjob      Fjob      reason guardian  traveltime  studytime  failures  \\\n",
       "0   services  other     course      father   1           1          0          \n",
       "1   other     other     course      mother   1           2          0          \n",
       "2   health    services  course      mother   2           1          2          \n",
       "3   other     services  home        father   2           2          0          \n",
       "4   at_home   other     home        mother   2           1          0          \n",
       "5   services  services  course      mother   2           1          0          \n",
       "6   other     other     course      mother   2           2          0          \n",
       "7   teacher   other     course      mother   2           1          0          \n",
       "8   services  other     reputation  mother   1           2          0          \n",
       "9   other     health    other       mother   3           2          0          \n",
       "10  health    services  course      father   1           1          0          \n",
       "11  services  other     home        mother   1           2          0          \n",
       "12  teacher   at_home   reputation  mother   3           1          0          \n",
       "13  teacher   other     home        mother   1           2          0          \n",
       "14  at_home   other     course      mother   1           2          0          \n",
       "\n",
       "   schoolsup famsup paid activities nursery higher internet romantic  famrel  \\\n",
       "0   no        no     no   no         yes     yes    yes      no       3        \n",
       "1   no        no     no   yes        no      yes    yes      no       5        \n",
       "2   no        no     no   no         no      yes    yes      no       4        \n",
       "3   no        no     no   yes        yes     yes    yes      no       4        \n",
       "4   no        yes    no   no         yes     yes    no       no       4        \n",
       "5   no        no     no   yes        yes     yes    yes      yes      3        \n",
       "6   no        no     no   yes        yes     yes    no       no       1        \n",
       "7   no        no     no   no         yes     yes    yes      yes      1        \n",
       "8   no        yes    yes  no         yes     yes    yes      no       4        \n",
       "9   no        no     no   no         no      yes    no       no       3        \n",
       "10  no        yes    no   yes        yes     yes    yes      no       4        \n",
       "11  no        no     no   yes        yes     yes    yes      yes      4        \n",
       "12  no        yes    yes  yes        yes     yes    yes      yes      4        \n",
       "13  no        yes    no   yes        yes     yes    yes      no       4        \n",
       "14  no        yes    no   no         yes     yes    no       no       4        \n",
       "\n",
       "    freetime  goout  Dalc  Walc  health  absences  G1  G2  G3  \n",
       "0   2         1      1     4     5       12        15  13  14  \n",
       "1   3         4      1     3     3       2         17  18  17  \n",
       "2   4         5      3     5     5       0         9   8   10  \n",
       "3   4         3      1     1     3       4         14  15  16  \n",
       "4   3         2      1     4     5       2         12  13  13  \n",
       "5   3         4      4     5     4       2         11  11  12  \n",
       "6   1         1      1     1     5       6         11  12  9   \n",
       "7   5         1      3     5     5       0         13  14  14  \n",
       "8   4         4      1     1     5       10        7   6   6   \n",
       "9   4         5      1     2     5       4         9   10  11  \n",
       "10  3         3      1     3     5       0         12  13  12  \n",
       "11  3         3      1     3     5       6         16  16  17  \n",
       "12  4         3      2     2     5       7         6   5   6   \n",
       "13  3         3      2     3     5       0         11  11  11  \n",
       "14  3         4      1     2     2       4         8   7   6   "
      ]
     },
     "execution_count": 201,
     "metadata": {},
     "output_type": "execute_result"
    }
   ],
   "source": [
    "data.head(5)"
   ]
  },
  {
   "cell_type": "markdown",
   "metadata": {},
   "source": [
    "## Часть 1. Первичный анализ данных"
   ]
  },
  {
   "cell_type": "markdown",
   "metadata": {},
   "source": [
    "# Задание 1"
   ]
  },
  {
   "cell_type": "code",
   "execution_count": 315,
   "metadata": {
    "scrolled": true
   },
   "outputs": [
    {
     "name": "stdout",
     "output_type": "stream",
     "text": [
      "<class 'pandas.core.frame.DataFrame'>\n",
      "Int64Index: 1044 entries, 0 to 1043\n",
      "Data columns (total 32 columns):\n",
      "age           1044 non-null int64\n",
      "famsize       1044 non-null category\n",
      "Pstatus       1044 non-null category\n",
      "Medu          1044 non-null int64\n",
      "Fedu          1044 non-null int64\n",
      "traveltime    1044 non-null int64\n",
      "studytime     1044 non-null int64\n",
      "failures      1044 non-null int64\n",
      "schoolsup     1044 non-null category\n",
      "famsup        1044 non-null category\n",
      "paid          1044 non-null category\n",
      "activities    1044 non-null category\n",
      "nursery       1044 non-null category\n",
      "higher        1044 non-null category\n",
      "internet      1044 non-null category\n",
      "romantic      1044 non-null category\n",
      "famrel        1044 non-null int64\n",
      "freetime      1044 non-null int64\n",
      "goout         1044 non-null int64\n",
      "Dalc          1044 non-null int64\n",
      "Walc          1044 non-null int64\n",
      "health        1044 non-null int64\n",
      "absences      1044 non-null int64\n",
      "G1            1044 non-null int64\n",
      "G2            1044 non-null int64\n",
      "G3            1044 non-null int64\n",
      "Por           1044 non-null category\n",
      "Math          1044 non-null category\n",
      "GP            1044 non-null category\n",
      "MS            1044 non-null category\n",
      "Male          1044 non-null category\n",
      "Female        1044 non-null category\n",
      "dtypes: category(16), int64(16)\n",
      "memory usage: 156.5 KB\n"
     ]
    }
   ],
   "source": [
    "data['schoolsup'] = data['schoolsup'].map({'no' : 0, 'yes' : 1})\n",
    "data['famsup'] = data['famsup'].map({'no' : 0, 'yes' : 1})\n",
    "data['paid'] = data['paid'].map({'no' : 0, 'yes' : 1})\n",
    "data['activities'] = data['activities'].map({'no' : 0, 'yes' : 1})\n",
    "data['nursery'] = data['nursery'].map({'no' : 0, 'yes' : 1})\n",
    "data['higher'] = data['higher'].map({'no' : 0, 'yes' : 1})\n",
    "data['internet'] = data['internet'].map({'no' : 0, 'yes' : 1})\n",
    "data['romantic'] = data['romantic'].map({'no' : 0, 'yes' : 1})\n",
    "data['famsize'] = data['famsize'].map({'LE3' : 0, 'GT3' : 1})\n",
    "data['Pstatus'] = data['Pstatus'].map({'A' : 0, 'T' : 1})\n",
    "#data['age'] = data['age'] - 14\n",
    "\n",
    "data.schoolsup = data.schoolsup.astype('category')\n",
    "data.famsup = data.famsup.astype('category')\n",
    "data.paid = data.paid.astype('category')\n",
    "data.activities = data.activities.astype('category')\n",
    "data.nursery = data.nursery.astype('category')\n",
    "data.higher = data.higher.astype('category')\n",
    "data.internet = data.internet.astype('category')\n",
    "data.romantic = data.romantic.astype('category')\n",
    "data.famsize = data.famsize.astype('category')\n",
    "data.Pstatus = data.Pstatus.astype('category')\n",
    "\n",
    "data['Por'] = data['Subject'].map({'Math' : 0, 'Por' : 1})\n",
    "data['Math'] = data['Subject'].map({'Por' : 0, 'Math' : 1})\n",
    "data = data.drop(['Subject'], axis=1)\n",
    "data['GP'] = data['school'].map({'MS' : 0, 'GP' : 1})\n",
    "data['MS'] = data['school'].map({'GP' : 0, 'MS' : 1})\n",
    "data = data.drop(['school'], axis=1)\n",
    "data['Male'] = data['sex'].map({'F' : 0, 'M' : 1})\n",
    "data['Female'] = data['sex'].map({'M' : 0, 'F' : 1})\n",
    "data = data.drop(['sex'], axis=1)\n",
    "\n",
    "data.Por = data.Por.astype('category')\n",
    "data.Math = data.Math.astype('category')\n",
    "data.GP = data.GP.astype('category')\n",
    "data.MS = data.MS.astype('category')\n",
    "data.Male = data.Male.astype('category')\n",
    "data.Female = data.Female.astype('category')\n",
    "\n",
    "data = data.drop(['ID', 'address', 'Mjob', 'Fjob', 'reason', 'guardian'], axis=1, inplace=False)\n",
    "data.info()"
   ]
  },
  {
   "cell_type": "code",
   "execution_count": 206,
   "metadata": {},
   "outputs": [
    {
     "data": {
      "text/html": [
       "<div>\n",
       "<style>\n",
       "    .dataframe thead tr:only-child th {\n",
       "        text-align: right;\n",
       "    }\n",
       "\n",
       "    .dataframe thead th {\n",
       "        text-align: left;\n",
       "    }\n",
       "\n",
       "    .dataframe tbody tr th {\n",
       "        vertical-align: top;\n",
       "    }\n",
       "</style>\n",
       "<table border=\"1\" class=\"dataframe\">\n",
       "  <thead>\n",
       "    <tr style=\"text-align: right;\">\n",
       "      <th></th>\n",
       "      <th>age</th>\n",
       "      <th>famsize</th>\n",
       "      <th>Pstatus</th>\n",
       "      <th>Medu</th>\n",
       "      <th>Fedu</th>\n",
       "      <th>traveltime</th>\n",
       "      <th>studytime</th>\n",
       "      <th>failures</th>\n",
       "      <th>schoolsup</th>\n",
       "      <th>famsup</th>\n",
       "      <th>paid</th>\n",
       "      <th>activities</th>\n",
       "      <th>nursery</th>\n",
       "      <th>higher</th>\n",
       "      <th>internet</th>\n",
       "      <th>romantic</th>\n",
       "      <th>famrel</th>\n",
       "      <th>freetime</th>\n",
       "      <th>goout</th>\n",
       "      <th>Dalc</th>\n",
       "      <th>Walc</th>\n",
       "      <th>health</th>\n",
       "      <th>absences</th>\n",
       "      <th>G1</th>\n",
       "      <th>G2</th>\n",
       "      <th>G3</th>\n",
       "      <th>Por</th>\n",
       "      <th>Math</th>\n",
       "      <th>GP</th>\n",
       "      <th>MS</th>\n",
       "      <th>Male</th>\n",
       "      <th>Female</th>\n",
       "    </tr>\n",
       "  </thead>\n",
       "  <tbody>\n",
       "    <tr>\n",
       "      <th>0</th>\n",
       "      <td>2</td>\n",
       "      <td>1</td>\n",
       "      <td>0</td>\n",
       "      <td>3</td>\n",
       "      <td>4</td>\n",
       "      <td>1</td>\n",
       "      <td>1</td>\n",
       "      <td>0</td>\n",
       "      <td>0</td>\n",
       "      <td>0</td>\n",
       "      <td>0</td>\n",
       "      <td>0</td>\n",
       "      <td>1</td>\n",
       "      <td>1</td>\n",
       "      <td>1</td>\n",
       "      <td>0</td>\n",
       "      <td>3</td>\n",
       "      <td>2</td>\n",
       "      <td>1</td>\n",
       "      <td>1</td>\n",
       "      <td>4</td>\n",
       "      <td>5</td>\n",
       "      <td>12</td>\n",
       "      <td>15</td>\n",
       "      <td>13</td>\n",
       "      <td>14</td>\n",
       "      <td>1</td>\n",
       "      <td>0</td>\n",
       "      <td>1</td>\n",
       "      <td>0</td>\n",
       "      <td>0</td>\n",
       "      <td>1</td>\n",
       "    </tr>\n",
       "    <tr>\n",
       "      <th>1</th>\n",
       "      <td>3</td>\n",
       "      <td>1</td>\n",
       "      <td>1</td>\n",
       "      <td>3</td>\n",
       "      <td>2</td>\n",
       "      <td>1</td>\n",
       "      <td>2</td>\n",
       "      <td>0</td>\n",
       "      <td>0</td>\n",
       "      <td>0</td>\n",
       "      <td>0</td>\n",
       "      <td>1</td>\n",
       "      <td>0</td>\n",
       "      <td>1</td>\n",
       "      <td>1</td>\n",
       "      <td>0</td>\n",
       "      <td>5</td>\n",
       "      <td>3</td>\n",
       "      <td>4</td>\n",
       "      <td>1</td>\n",
       "      <td>3</td>\n",
       "      <td>3</td>\n",
       "      <td>2</td>\n",
       "      <td>17</td>\n",
       "      <td>18</td>\n",
       "      <td>17</td>\n",
       "      <td>1</td>\n",
       "      <td>0</td>\n",
       "      <td>1</td>\n",
       "      <td>0</td>\n",
       "      <td>0</td>\n",
       "      <td>1</td>\n",
       "    </tr>\n",
       "    <tr>\n",
       "      <th>2</th>\n",
       "      <td>2</td>\n",
       "      <td>0</td>\n",
       "      <td>1</td>\n",
       "      <td>1</td>\n",
       "      <td>2</td>\n",
       "      <td>2</td>\n",
       "      <td>1</td>\n",
       "      <td>2</td>\n",
       "      <td>0</td>\n",
       "      <td>0</td>\n",
       "      <td>0</td>\n",
       "      <td>0</td>\n",
       "      <td>0</td>\n",
       "      <td>1</td>\n",
       "      <td>1</td>\n",
       "      <td>0</td>\n",
       "      <td>4</td>\n",
       "      <td>4</td>\n",
       "      <td>5</td>\n",
       "      <td>3</td>\n",
       "      <td>5</td>\n",
       "      <td>5</td>\n",
       "      <td>0</td>\n",
       "      <td>9</td>\n",
       "      <td>8</td>\n",
       "      <td>10</td>\n",
       "      <td>1</td>\n",
       "      <td>0</td>\n",
       "      <td>1</td>\n",
       "      <td>0</td>\n",
       "      <td>1</td>\n",
       "      <td>0</td>\n",
       "    </tr>\n",
       "    <tr>\n",
       "      <th>3</th>\n",
       "      <td>3</td>\n",
       "      <td>1</td>\n",
       "      <td>1</td>\n",
       "      <td>2</td>\n",
       "      <td>3</td>\n",
       "      <td>2</td>\n",
       "      <td>2</td>\n",
       "      <td>0</td>\n",
       "      <td>0</td>\n",
       "      <td>0</td>\n",
       "      <td>0</td>\n",
       "      <td>1</td>\n",
       "      <td>1</td>\n",
       "      <td>1</td>\n",
       "      <td>1</td>\n",
       "      <td>0</td>\n",
       "      <td>4</td>\n",
       "      <td>4</td>\n",
       "      <td>3</td>\n",
       "      <td>1</td>\n",
       "      <td>1</td>\n",
       "      <td>3</td>\n",
       "      <td>4</td>\n",
       "      <td>14</td>\n",
       "      <td>15</td>\n",
       "      <td>16</td>\n",
       "      <td>1</td>\n",
       "      <td>0</td>\n",
       "      <td>0</td>\n",
       "      <td>1</td>\n",
       "      <td>1</td>\n",
       "      <td>0</td>\n",
       "    </tr>\n",
       "    <tr>\n",
       "      <th>4</th>\n",
       "      <td>2</td>\n",
       "      <td>1</td>\n",
       "      <td>1</td>\n",
       "      <td>1</td>\n",
       "      <td>1</td>\n",
       "      <td>2</td>\n",
       "      <td>1</td>\n",
       "      <td>0</td>\n",
       "      <td>0</td>\n",
       "      <td>1</td>\n",
       "      <td>0</td>\n",
       "      <td>0</td>\n",
       "      <td>1</td>\n",
       "      <td>1</td>\n",
       "      <td>0</td>\n",
       "      <td>0</td>\n",
       "      <td>4</td>\n",
       "      <td>3</td>\n",
       "      <td>2</td>\n",
       "      <td>1</td>\n",
       "      <td>4</td>\n",
       "      <td>5</td>\n",
       "      <td>2</td>\n",
       "      <td>12</td>\n",
       "      <td>13</td>\n",
       "      <td>13</td>\n",
       "      <td>1</td>\n",
       "      <td>0</td>\n",
       "      <td>1</td>\n",
       "      <td>0</td>\n",
       "      <td>0</td>\n",
       "      <td>1</td>\n",
       "    </tr>\n",
       "  </tbody>\n",
       "</table>\n",
       "</div>"
      ],
      "text/plain": [
       "   age famsize Pstatus  Medu  Fedu  traveltime  studytime  failures schoolsup  \\\n",
       "0  2    1       0       3     4     1           1          0         0          \n",
       "1  3    1       1       3     2     1           2          0         0          \n",
       "2  2    0       1       1     2     2           1          2         0          \n",
       "3  3    1       1       2     3     2           2          0         0          \n",
       "4  2    1       1       1     1     2           1          0         0          \n",
       "\n",
       "  famsup paid activities nursery higher internet romantic  famrel  freetime  \\\n",
       "0  0      0    0          1       1      1        0        3       2          \n",
       "1  0      0    1          0       1      1        0        5       3          \n",
       "2  0      0    0          0       1      1        0        4       4          \n",
       "3  0      0    1          1       1      1        0        4       4          \n",
       "4  1      0    0          1       1      0        0        4       3          \n",
       "\n",
       "   goout  Dalc  Walc  health  absences  G1  G2  G3 Por Math GP MS Male Female  \n",
       "0  1      1     4     5       12        15  13  14  1   0    1  0  0    1      \n",
       "1  4      1     3     3       2         17  18  17  1   0    1  0  0    1      \n",
       "2  5      3     5     5       0         9   8   10  1   0    1  0  1    0      \n",
       "3  3      1     1     3       4         14  15  16  1   0    0  1  1    0      \n",
       "4  2      1     4     5       2         12  13  13  1   0    1  0  0    1      "
      ]
     },
     "execution_count": 206,
     "metadata": {},
     "output_type": "execute_result"
    }
   ],
   "source": [
    "data.head(5)"
   ]
  },
  {
   "cell_type": "code",
   "execution_count": 13,
   "metadata": {},
   "outputs": [
    {
     "data": {
      "text/html": [
       "<div>\n",
       "<style>\n",
       "    .dataframe thead tr:only-child th {\n",
       "        text-align: right;\n",
       "    }\n",
       "\n",
       "    .dataframe thead th {\n",
       "        text-align: left;\n",
       "    }\n",
       "\n",
       "    .dataframe tbody tr th {\n",
       "        vertical-align: top;\n",
       "    }\n",
       "</style>\n",
       "<table border=\"1\" class=\"dataframe\">\n",
       "  <thead>\n",
       "    <tr style=\"text-align: right;\">\n",
       "      <th></th>\n",
       "      <th>famsize</th>\n",
       "      <th>Pstatus</th>\n",
       "      <th>schoolsup</th>\n",
       "      <th>famsup</th>\n",
       "      <th>paid</th>\n",
       "      <th>activities</th>\n",
       "      <th>nursery</th>\n",
       "      <th>higher</th>\n",
       "      <th>internet</th>\n",
       "      <th>romantic</th>\n",
       "      <th>Por</th>\n",
       "      <th>Math</th>\n",
       "      <th>GP</th>\n",
       "      <th>MS</th>\n",
       "      <th>Male</th>\n",
       "      <th>Female</th>\n",
       "    </tr>\n",
       "  </thead>\n",
       "  <tbody>\n",
       "    <tr>\n",
       "      <th>count</th>\n",
       "      <td>1044</td>\n",
       "      <td>1044</td>\n",
       "      <td>1044</td>\n",
       "      <td>1044</td>\n",
       "      <td>1044</td>\n",
       "      <td>1044</td>\n",
       "      <td>1044</td>\n",
       "      <td>1044</td>\n",
       "      <td>1044</td>\n",
       "      <td>1044</td>\n",
       "      <td>1044</td>\n",
       "      <td>1044</td>\n",
       "      <td>1044</td>\n",
       "      <td>1044</td>\n",
       "      <td>1044</td>\n",
       "      <td>1044</td>\n",
       "    </tr>\n",
       "    <tr>\n",
       "      <th>unique</th>\n",
       "      <td>2</td>\n",
       "      <td>2</td>\n",
       "      <td>2</td>\n",
       "      <td>2</td>\n",
       "      <td>2</td>\n",
       "      <td>2</td>\n",
       "      <td>2</td>\n",
       "      <td>2</td>\n",
       "      <td>2</td>\n",
       "      <td>2</td>\n",
       "      <td>2</td>\n",
       "      <td>2</td>\n",
       "      <td>2</td>\n",
       "      <td>2</td>\n",
       "      <td>2</td>\n",
       "      <td>2</td>\n",
       "    </tr>\n",
       "    <tr>\n",
       "      <th>top</th>\n",
       "      <td>1</td>\n",
       "      <td>1</td>\n",
       "      <td>0</td>\n",
       "      <td>1</td>\n",
       "      <td>0</td>\n",
       "      <td>0</td>\n",
       "      <td>1</td>\n",
       "      <td>1</td>\n",
       "      <td>1</td>\n",
       "      <td>0</td>\n",
       "      <td>1</td>\n",
       "      <td>0</td>\n",
       "      <td>1</td>\n",
       "      <td>0</td>\n",
       "      <td>0</td>\n",
       "      <td>1</td>\n",
       "    </tr>\n",
       "    <tr>\n",
       "      <th>freq</th>\n",
       "      <td>738</td>\n",
       "      <td>923</td>\n",
       "      <td>925</td>\n",
       "      <td>640</td>\n",
       "      <td>824</td>\n",
       "      <td>528</td>\n",
       "      <td>835</td>\n",
       "      <td>955</td>\n",
       "      <td>827</td>\n",
       "      <td>673</td>\n",
       "      <td>649</td>\n",
       "      <td>649</td>\n",
       "      <td>772</td>\n",
       "      <td>772</td>\n",
       "      <td>591</td>\n",
       "      <td>591</td>\n",
       "    </tr>\n",
       "  </tbody>\n",
       "</table>\n",
       "</div>"
      ],
      "text/plain": [
       "        famsize  Pstatus  schoolsup  famsup  paid  activities  nursery  \\\n",
       "count   1044     1044     1044       1044    1044  1044        1044      \n",
       "unique  2        2        2          2       2     2           2         \n",
       "top     1        1        0          1       0     0           1         \n",
       "freq    738      923      925        640     824   528         835       \n",
       "\n",
       "        higher  internet  romantic   Por  Math    GP    MS  Male  Female  \n",
       "count   1044    1044      1044      1044  1044  1044  1044  1044  1044    \n",
       "unique  2       2         2         2     2     2     2     2     2       \n",
       "top     1       1         0         1     0     1     0     0     1       \n",
       "freq    955     827       673       649   649   772   772   591   591     "
      ]
     },
     "execution_count": 13,
     "metadata": {},
     "output_type": "execute_result"
    }
   ],
   "source": [
    "data.describe(include=['category'])"
   ]
  },
  {
   "cell_type": "code",
   "execution_count": 14,
   "metadata": {},
   "outputs": [
    {
     "data": {
      "text/html": [
       "<div>\n",
       "<style>\n",
       "    .dataframe thead tr:only-child th {\n",
       "        text-align: right;\n",
       "    }\n",
       "\n",
       "    .dataframe thead th {\n",
       "        text-align: left;\n",
       "    }\n",
       "\n",
       "    .dataframe tbody tr th {\n",
       "        vertical-align: top;\n",
       "    }\n",
       "</style>\n",
       "<table border=\"1\" class=\"dataframe\">\n",
       "  <thead>\n",
       "    <tr style=\"text-align: right;\">\n",
       "      <th></th>\n",
       "      <th>age</th>\n",
       "      <th>Medu</th>\n",
       "      <th>Fedu</th>\n",
       "      <th>traveltime</th>\n",
       "      <th>studytime</th>\n",
       "      <th>failures</th>\n",
       "      <th>famrel</th>\n",
       "      <th>freetime</th>\n",
       "      <th>goout</th>\n",
       "      <th>Dalc</th>\n",
       "      <th>Walc</th>\n",
       "      <th>health</th>\n",
       "      <th>absences</th>\n",
       "      <th>G1</th>\n",
       "      <th>G2</th>\n",
       "      <th>G3</th>\n",
       "    </tr>\n",
       "  </thead>\n",
       "  <tbody>\n",
       "    <tr>\n",
       "      <th>count</th>\n",
       "      <td>1044.000000</td>\n",
       "      <td>1044.000000</td>\n",
       "      <td>1044.000000</td>\n",
       "      <td>1044.000000</td>\n",
       "      <td>1044.000000</td>\n",
       "      <td>1044.000000</td>\n",
       "      <td>1044.000000</td>\n",
       "      <td>1044.000000</td>\n",
       "      <td>1044.000000</td>\n",
       "      <td>1044.000000</td>\n",
       "      <td>1044.000000</td>\n",
       "      <td>1044.000000</td>\n",
       "      <td>1044.000000</td>\n",
       "      <td>1044.000000</td>\n",
       "      <td>1044.000000</td>\n",
       "      <td>1044.000000</td>\n",
       "    </tr>\n",
       "    <tr>\n",
       "      <th>mean</th>\n",
       "      <td>16.726054</td>\n",
       "      <td>2.603448</td>\n",
       "      <td>2.387931</td>\n",
       "      <td>1.522989</td>\n",
       "      <td>1.970307</td>\n",
       "      <td>0.264368</td>\n",
       "      <td>3.935824</td>\n",
       "      <td>3.201149</td>\n",
       "      <td>3.156130</td>\n",
       "      <td>1.494253</td>\n",
       "      <td>2.284483</td>\n",
       "      <td>3.543103</td>\n",
       "      <td>4.434866</td>\n",
       "      <td>11.213602</td>\n",
       "      <td>11.246169</td>\n",
       "      <td>11.341954</td>\n",
       "    </tr>\n",
       "    <tr>\n",
       "      <th>std</th>\n",
       "      <td>1.239975</td>\n",
       "      <td>1.124907</td>\n",
       "      <td>1.099938</td>\n",
       "      <td>0.731727</td>\n",
       "      <td>0.834353</td>\n",
       "      <td>0.656142</td>\n",
       "      <td>0.933401</td>\n",
       "      <td>1.031507</td>\n",
       "      <td>1.152575</td>\n",
       "      <td>0.911714</td>\n",
       "      <td>1.285105</td>\n",
       "      <td>1.424703</td>\n",
       "      <td>6.210017</td>\n",
       "      <td>2.983394</td>\n",
       "      <td>3.285071</td>\n",
       "      <td>3.864796</td>\n",
       "    </tr>\n",
       "    <tr>\n",
       "      <th>min</th>\n",
       "      <td>15.000000</td>\n",
       "      <td>0.000000</td>\n",
       "      <td>0.000000</td>\n",
       "      <td>1.000000</td>\n",
       "      <td>1.000000</td>\n",
       "      <td>0.000000</td>\n",
       "      <td>1.000000</td>\n",
       "      <td>1.000000</td>\n",
       "      <td>1.000000</td>\n",
       "      <td>1.000000</td>\n",
       "      <td>1.000000</td>\n",
       "      <td>1.000000</td>\n",
       "      <td>0.000000</td>\n",
       "      <td>0.000000</td>\n",
       "      <td>0.000000</td>\n",
       "      <td>0.000000</td>\n",
       "    </tr>\n",
       "    <tr>\n",
       "      <th>25%</th>\n",
       "      <td>16.000000</td>\n",
       "      <td>2.000000</td>\n",
       "      <td>1.000000</td>\n",
       "      <td>1.000000</td>\n",
       "      <td>1.000000</td>\n",
       "      <td>0.000000</td>\n",
       "      <td>4.000000</td>\n",
       "      <td>3.000000</td>\n",
       "      <td>2.000000</td>\n",
       "      <td>1.000000</td>\n",
       "      <td>1.000000</td>\n",
       "      <td>3.000000</td>\n",
       "      <td>0.000000</td>\n",
       "      <td>9.000000</td>\n",
       "      <td>9.000000</td>\n",
       "      <td>10.000000</td>\n",
       "    </tr>\n",
       "    <tr>\n",
       "      <th>50%</th>\n",
       "      <td>17.000000</td>\n",
       "      <td>3.000000</td>\n",
       "      <td>2.000000</td>\n",
       "      <td>1.000000</td>\n",
       "      <td>2.000000</td>\n",
       "      <td>0.000000</td>\n",
       "      <td>4.000000</td>\n",
       "      <td>3.000000</td>\n",
       "      <td>3.000000</td>\n",
       "      <td>1.000000</td>\n",
       "      <td>2.000000</td>\n",
       "      <td>4.000000</td>\n",
       "      <td>2.000000</td>\n",
       "      <td>11.000000</td>\n",
       "      <td>11.000000</td>\n",
       "      <td>11.000000</td>\n",
       "    </tr>\n",
       "    <tr>\n",
       "      <th>75%</th>\n",
       "      <td>18.000000</td>\n",
       "      <td>4.000000</td>\n",
       "      <td>3.000000</td>\n",
       "      <td>2.000000</td>\n",
       "      <td>2.000000</td>\n",
       "      <td>0.000000</td>\n",
       "      <td>5.000000</td>\n",
       "      <td>4.000000</td>\n",
       "      <td>4.000000</td>\n",
       "      <td>2.000000</td>\n",
       "      <td>3.000000</td>\n",
       "      <td>5.000000</td>\n",
       "      <td>6.000000</td>\n",
       "      <td>13.000000</td>\n",
       "      <td>13.000000</td>\n",
       "      <td>14.000000</td>\n",
       "    </tr>\n",
       "    <tr>\n",
       "      <th>max</th>\n",
       "      <td>22.000000</td>\n",
       "      <td>4.000000</td>\n",
       "      <td>4.000000</td>\n",
       "      <td>4.000000</td>\n",
       "      <td>4.000000</td>\n",
       "      <td>3.000000</td>\n",
       "      <td>5.000000</td>\n",
       "      <td>5.000000</td>\n",
       "      <td>5.000000</td>\n",
       "      <td>5.000000</td>\n",
       "      <td>5.000000</td>\n",
       "      <td>5.000000</td>\n",
       "      <td>75.000000</td>\n",
       "      <td>19.000000</td>\n",
       "      <td>19.000000</td>\n",
       "      <td>20.000000</td>\n",
       "    </tr>\n",
       "  </tbody>\n",
       "</table>\n",
       "</div>"
      ],
      "text/plain": [
       "               age         Medu         Fedu   traveltime    studytime  \\\n",
       "count  1044.000000  1044.000000  1044.000000  1044.000000  1044.000000   \n",
       "mean   16.726054    2.603448     2.387931     1.522989     1.970307      \n",
       "std    1.239975     1.124907     1.099938     0.731727     0.834353      \n",
       "min    15.000000    0.000000     0.000000     1.000000     1.000000      \n",
       "25%    16.000000    2.000000     1.000000     1.000000     1.000000      \n",
       "50%    17.000000    3.000000     2.000000     1.000000     2.000000      \n",
       "75%    18.000000    4.000000     3.000000     2.000000     2.000000      \n",
       "max    22.000000    4.000000     4.000000     4.000000     4.000000      \n",
       "\n",
       "          failures       famrel     freetime        goout         Dalc  \\\n",
       "count  1044.000000  1044.000000  1044.000000  1044.000000  1044.000000   \n",
       "mean   0.264368     3.935824     3.201149     3.156130     1.494253      \n",
       "std    0.656142     0.933401     1.031507     1.152575     0.911714      \n",
       "min    0.000000     1.000000     1.000000     1.000000     1.000000      \n",
       "25%    0.000000     4.000000     3.000000     2.000000     1.000000      \n",
       "50%    0.000000     4.000000     3.000000     3.000000     1.000000      \n",
       "75%    0.000000     5.000000     4.000000     4.000000     2.000000      \n",
       "max    3.000000     5.000000     5.000000     5.000000     5.000000      \n",
       "\n",
       "              Walc       health     absences           G1           G2  \\\n",
       "count  1044.000000  1044.000000  1044.000000  1044.000000  1044.000000   \n",
       "mean   2.284483     3.543103     4.434866     11.213602    11.246169     \n",
       "std    1.285105     1.424703     6.210017     2.983394     3.285071      \n",
       "min    1.000000     1.000000     0.000000     0.000000     0.000000      \n",
       "25%    1.000000     3.000000     0.000000     9.000000     9.000000      \n",
       "50%    2.000000     4.000000     2.000000     11.000000    11.000000     \n",
       "75%    3.000000     5.000000     6.000000     13.000000    13.000000     \n",
       "max    5.000000     5.000000     75.000000    19.000000    19.000000     \n",
       "\n",
       "                G3  \n",
       "count  1044.000000  \n",
       "mean   11.341954    \n",
       "std    3.864796     \n",
       "min    0.000000     \n",
       "25%    10.000000    \n",
       "50%    11.000000    \n",
       "75%    14.000000    \n",
       "max    20.000000    "
      ]
     },
     "execution_count": 14,
     "metadata": {},
     "output_type": "execute_result"
    }
   ],
   "source": [
    "data.describe(include=['int64'])"
   ]
  },
  {
   "cell_type": "markdown",
   "metadata": {},
   "source": [
    "# Задание 2"
   ]
  },
  {
   "cell_type": "code",
   "execution_count": 6,
   "metadata": {
    "scrolled": true
   },
   "outputs": [
    {
     "data": {
      "image/png": "[encoded data removed]",
      "text/plain": [
       "<matplotlib.figure.Figure at 0x28d2ba1d1d0>"
      ]
     },
     "metadata": {},
     "output_type": "display_data"
    },
    {
     "data": {
      "image/png": "[encoded data removed]",
      "text/plain": [
       "<matplotlib.figure.Figure at 0x28d2bf52390>"
      ]
     },
     "metadata": {},
     "output_type": "display_data"
    },
    {
     "data": {
      "image/png": "[encoded data removed]",
      "text/plain": [
       "<matplotlib.figure.Figure at 0x28d2bffa048>"
      ]
     },
     "metadata": {},
     "output_type": "display_data"
    }
   ],
   "source": [
    "pd.crosstab(data['Subject'], data['G1'])\n",
    "data.G1.value_counts().plot(kind='bar', rot=45, title='G1') \n",
    "plt.show()\n",
    "data.G2.value_counts().plot(kind='bar', rot=45, title='G2') \n",
    "plt.show()\n",
    "data.G3.value_counts().plot(kind='bar', rot=45, title='G3') \n",
    "plt.show() "
   ]
  },
  {
   "cell_type": "code",
   "execution_count": 19,
   "metadata": {},
   "outputs": [
    {
     "data": {
      "text/html": [
       "<div>\n",
       "<style>\n",
       "    .dataframe thead tr:only-child th {\n",
       "        text-align: right;\n",
       "    }\n",
       "\n",
       "    .dataframe thead th {\n",
       "        text-align: left;\n",
       "    }\n",
       "\n",
       "    .dataframe tbody tr th {\n",
       "        vertical-align: top;\n",
       "    }\n",
       "</style>\n",
       "<table border=\"1\" class=\"dataframe\">\n",
       "  <thead>\n",
       "    <tr style=\"text-align: right;\">\n",
       "      <th>G2</th>\n",
       "      <th>0</th>\n",
       "      <th>4</th>\n",
       "      <th>5</th>\n",
       "      <th>6</th>\n",
       "      <th>7</th>\n",
       "      <th>8</th>\n",
       "      <th>9</th>\n",
       "      <th>10</th>\n",
       "      <th>11</th>\n",
       "      <th>12</th>\n",
       "      <th>13</th>\n",
       "      <th>14</th>\n",
       "      <th>15</th>\n",
       "      <th>16</th>\n",
       "      <th>17</th>\n",
       "      <th>18</th>\n",
       "      <th>19</th>\n",
       "    </tr>\n",
       "    <tr>\n",
       "      <th>Subject</th>\n",
       "      <th></th>\n",
       "      <th></th>\n",
       "      <th></th>\n",
       "      <th></th>\n",
       "      <th></th>\n",
       "      <th></th>\n",
       "      <th></th>\n",
       "      <th></th>\n",
       "      <th></th>\n",
       "      <th></th>\n",
       "      <th></th>\n",
       "      <th></th>\n",
       "      <th></th>\n",
       "      <th></th>\n",
       "      <th></th>\n",
       "      <th></th>\n",
       "      <th></th>\n",
       "    </tr>\n",
       "  </thead>\n",
       "  <tbody>\n",
       "    <tr>\n",
       "      <th>Math</th>\n",
       "      <td>13</td>\n",
       "      <td>1</td>\n",
       "      <td>15</td>\n",
       "      <td>14</td>\n",
       "      <td>21</td>\n",
       "      <td>32</td>\n",
       "      <td>50</td>\n",
       "      <td>46</td>\n",
       "      <td>35</td>\n",
       "      <td>41</td>\n",
       "      <td>37</td>\n",
       "      <td>23</td>\n",
       "      <td>34</td>\n",
       "      <td>13</td>\n",
       "      <td>5</td>\n",
       "      <td>12</td>\n",
       "      <td>3</td>\n",
       "    </tr>\n",
       "    <tr>\n",
       "      <th>Por</th>\n",
       "      <td>7</td>\n",
       "      <td>0</td>\n",
       "      <td>3</td>\n",
       "      <td>7</td>\n",
       "      <td>16</td>\n",
       "      <td>40</td>\n",
       "      <td>72</td>\n",
       "      <td>83</td>\n",
       "      <td>103</td>\n",
       "      <td>86</td>\n",
       "      <td>80</td>\n",
       "      <td>54</td>\n",
       "      <td>38</td>\n",
       "      <td>25</td>\n",
       "      <td>20</td>\n",
       "      <td>14</td>\n",
       "      <td>1</td>\n",
       "    </tr>\n",
       "  </tbody>\n",
       "</table>\n",
       "</div>"
      ],
      "text/plain": [
       "G2       0   4   5   6   7   8   9   10   11  12  13  14  15  16  17  18  19\n",
       "Subject                                                                     \n",
       "Math     13   1  15  14  21  32  50  46   35  41  37  23  34  13   5  12   3\n",
       "Por       7   0   3   7  16  40  72  83  103  86  80  54  38  25  20  14   1"
      ]
     },
     "execution_count": 19,
     "metadata": {},
     "output_type": "execute_result"
    }
   ],
   "source": [
    "pd.crosstab(data['Subject'], data['G2'])"
   ]
  },
  {
   "cell_type": "code",
   "execution_count": 20,
   "metadata": {},
   "outputs": [
    {
     "data": {
      "text/html": [
       "<div>\n",
       "<style>\n",
       "    .dataframe thead tr:only-child th {\n",
       "        text-align: right;\n",
       "    }\n",
       "\n",
       "    .dataframe thead th {\n",
       "        text-align: left;\n",
       "    }\n",
       "\n",
       "    .dataframe tbody tr th {\n",
       "        vertical-align: top;\n",
       "    }\n",
       "</style>\n",
       "<table border=\"1\" class=\"dataframe\">\n",
       "  <thead>\n",
       "    <tr style=\"text-align: right;\">\n",
       "      <th>G3</th>\n",
       "      <th>0</th>\n",
       "      <th>1</th>\n",
       "      <th>4</th>\n",
       "      <th>5</th>\n",
       "      <th>6</th>\n",
       "      <th>7</th>\n",
       "      <th>8</th>\n",
       "      <th>9</th>\n",
       "      <th>10</th>\n",
       "      <th>11</th>\n",
       "      <th>12</th>\n",
       "      <th>13</th>\n",
       "      <th>14</th>\n",
       "      <th>15</th>\n",
       "      <th>16</th>\n",
       "      <th>17</th>\n",
       "      <th>18</th>\n",
       "      <th>19</th>\n",
       "      <th>20</th>\n",
       "    </tr>\n",
       "    <tr>\n",
       "      <th>Subject</th>\n",
       "      <th></th>\n",
       "      <th></th>\n",
       "      <th></th>\n",
       "      <th></th>\n",
       "      <th></th>\n",
       "      <th></th>\n",
       "      <th></th>\n",
       "      <th></th>\n",
       "      <th></th>\n",
       "      <th></th>\n",
       "      <th></th>\n",
       "      <th></th>\n",
       "      <th></th>\n",
       "      <th></th>\n",
       "      <th></th>\n",
       "      <th></th>\n",
       "      <th></th>\n",
       "      <th></th>\n",
       "      <th></th>\n",
       "    </tr>\n",
       "  </thead>\n",
       "  <tbody>\n",
       "    <tr>\n",
       "      <th>Math</th>\n",
       "      <td>38</td>\n",
       "      <td>0</td>\n",
       "      <td>1</td>\n",
       "      <td>7</td>\n",
       "      <td>15</td>\n",
       "      <td>9</td>\n",
       "      <td>32</td>\n",
       "      <td>28</td>\n",
       "      <td>56</td>\n",
       "      <td>47</td>\n",
       "      <td>31</td>\n",
       "      <td>31</td>\n",
       "      <td>27</td>\n",
       "      <td>33</td>\n",
       "      <td>16</td>\n",
       "      <td>6</td>\n",
       "      <td>12</td>\n",
       "      <td>5</td>\n",
       "      <td>1</td>\n",
       "    </tr>\n",
       "    <tr>\n",
       "      <th>Por</th>\n",
       "      <td>15</td>\n",
       "      <td>1</td>\n",
       "      <td>0</td>\n",
       "      <td>1</td>\n",
       "      <td>3</td>\n",
       "      <td>10</td>\n",
       "      <td>35</td>\n",
       "      <td>35</td>\n",
       "      <td>97</td>\n",
       "      <td>104</td>\n",
       "      <td>72</td>\n",
       "      <td>82</td>\n",
       "      <td>63</td>\n",
       "      <td>49</td>\n",
       "      <td>36</td>\n",
       "      <td>29</td>\n",
       "      <td>15</td>\n",
       "      <td>2</td>\n",
       "      <td>0</td>\n",
       "    </tr>\n",
       "  </tbody>\n",
       "</table>\n",
       "</div>"
      ],
      "text/plain": [
       "G3       0   1   4   5   6   7   8   9   10   11  12  13  14  15  16  17  18  \\\n",
       "Subject                                                                        \n",
       "Math     38   0   1   7  15   9  32  28  56   47  31  31  27  33  16   6  12   \n",
       "Por      15   1   0   1   3  10  35  35  97  104  72  82  63  49  36  29  15   \n",
       "\n",
       "G3       19  20  \n",
       "Subject          \n",
       "Math      5   1  \n",
       "Por       2   0  "
      ]
     },
     "execution_count": 20,
     "metadata": {},
     "output_type": "execute_result"
    }
   ],
   "source": [
    "pd.crosstab(data['Subject'], data['G3'])"
   ]
  },
  {
   "cell_type": "code",
   "execution_count": 7,
   "metadata": {
    "scrolled": true
   },
   "outputs": [
    {
     "data": {
      "image/png": "[encoded data removed]",
      "text/plain": [
       "<matplotlib.figure.Figure at 0x28d2bebe5c0>"
      ]
     },
     "metadata": {},
     "output_type": "display_data"
    },
    {
     "data": {
      "image/png": "[encoded data removed]",
      "text/plain": [
       "<matplotlib.figure.Figure at 0x28d2c0aa128>"
      ]
     },
     "metadata": {},
     "output_type": "display_data"
    },
    {
     "data": {
      "image/png": "[encoded data removed]",
      "text/plain": [
       "<matplotlib.figure.Figure at 0x28d2c10ad30>"
      ]
     },
     "metadata": {},
     "output_type": "display_data"
    }
   ],
   "source": [
    "sns.countplot(x='G1', hue='Subject', data=data)\n",
    "plt.show()\n",
    "sns.countplot(x='G2', hue='Subject', data=data)\n",
    "plt.show()\n",
    "sns.countplot(x='G3', hue='Subject', data=data)\n",
    "plt.show()"
   ]
  },
  {
   "cell_type": "code",
   "execution_count": 8,
   "metadata": {
    "scrolled": true
   },
   "outputs": [
    {
     "data": {
      "image/png": "[encoded data removed]",
      "text/plain": [
       "<matplotlib.figure.Figure at 0x28d2c1b8710>"
      ]
     },
     "metadata": {},
     "output_type": "display_data"
    },
    {
     "data": {
      "image/png": "[encoded data removed]",
      "text/plain": [
       "<matplotlib.figure.Figure at 0x28d2c39f400>"
      ]
     },
     "metadata": {},
     "output_type": "display_data"
    },
    {
     "data": {
      "image/png": "[encoded data removed]",
      "text/plain": [
       "<matplotlib.figure.Figure at 0x28d2c3bad68>"
      ]
     },
     "metadata": {},
     "output_type": "display_data"
    }
   ],
   "source": [
    "sns.boxplot(x=\"G1\", y=\"Subject\", data = data)\n",
    "plt.show()\n",
    "sns.boxplot(x=\"G2\", y=\"Subject\", data = data)\n",
    "plt.show()\n",
    "sns.boxplot(x=\"G3\", y=\"Subject\", data = data)\n",
    "plt.show()"
   ]
  },
  {
   "cell_type": "code",
   "execution_count": 15,
   "metadata": {},
   "outputs": [
    {
     "data": {
      "image/png": "[encoded data removed]",
      "text/plain": [
       "<matplotlib.figure.Figure at 0x28d2c054ba8>"
      ]
     },
     "metadata": {},
     "output_type": "display_data"
    }
   ],
   "source": [
    "data[['G1']+['G2']+['G3']].hist(by=data['Subject'], figsize = (15, 7))\n",
    "plt.show()"
   ]
  },
  {
   "cell_type": "markdown",
   "metadata": {},
   "source": [
    "# Задание 3"
   ]
  },
  {
   "cell_type": "code",
   "execution_count": 59,
   "metadata": {},
   "outputs": [
    {
     "data": {
      "text/html": [
       "<div>\n",
       "<style>\n",
       "    .dataframe thead tr:only-child th {\n",
       "        text-align: right;\n",
       "    }\n",
       "\n",
       "    .dataframe thead th {\n",
       "        text-align: left;\n",
       "    }\n",
       "\n",
       "    .dataframe tbody tr th {\n",
       "        vertical-align: top;\n",
       "    }\n",
       "</style>\n",
       "<table border=\"1\" class=\"dataframe\">\n",
       "  <thead>\n",
       "    <tr style=\"text-align: right;\">\n",
       "      <th>G3</th>\n",
       "      <th>0</th>\n",
       "      <th>1</th>\n",
       "      <th>4</th>\n",
       "      <th>5</th>\n",
       "      <th>6</th>\n",
       "      <th>7</th>\n",
       "      <th>8</th>\n",
       "      <th>9</th>\n",
       "      <th>10</th>\n",
       "      <th>11</th>\n",
       "      <th>12</th>\n",
       "      <th>13</th>\n",
       "      <th>14</th>\n",
       "      <th>15</th>\n",
       "      <th>16</th>\n",
       "      <th>17</th>\n",
       "      <th>18</th>\n",
       "      <th>19</th>\n",
       "      <th>20</th>\n",
       "    </tr>\n",
       "    <tr>\n",
       "      <th>sex</th>\n",
       "      <th></th>\n",
       "      <th></th>\n",
       "      <th></th>\n",
       "      <th></th>\n",
       "      <th></th>\n",
       "      <th></th>\n",
       "      <th></th>\n",
       "      <th></th>\n",
       "      <th></th>\n",
       "      <th></th>\n",
       "      <th></th>\n",
       "      <th></th>\n",
       "      <th></th>\n",
       "      <th></th>\n",
       "      <th></th>\n",
       "      <th></th>\n",
       "      <th></th>\n",
       "      <th></th>\n",
       "      <th></th>\n",
       "    </tr>\n",
       "  </thead>\n",
       "  <tbody>\n",
       "    <tr>\n",
       "      <th>F</th>\n",
       "      <td>30</td>\n",
       "      <td>0</td>\n",
       "      <td>1</td>\n",
       "      <td>3</td>\n",
       "      <td>13</td>\n",
       "      <td>11</td>\n",
       "      <td>34</td>\n",
       "      <td>33</td>\n",
       "      <td>82</td>\n",
       "      <td>83</td>\n",
       "      <td>55</td>\n",
       "      <td>71</td>\n",
       "      <td>55</td>\n",
       "      <td>48</td>\n",
       "      <td>29</td>\n",
       "      <td>24</td>\n",
       "      <td>16</td>\n",
       "      <td>3</td>\n",
       "      <td>0</td>\n",
       "    </tr>\n",
       "    <tr>\n",
       "      <th>M</th>\n",
       "      <td>23</td>\n",
       "      <td>1</td>\n",
       "      <td>0</td>\n",
       "      <td>5</td>\n",
       "      <td>5</td>\n",
       "      <td>8</td>\n",
       "      <td>33</td>\n",
       "      <td>30</td>\n",
       "      <td>71</td>\n",
       "      <td>68</td>\n",
       "      <td>48</td>\n",
       "      <td>42</td>\n",
       "      <td>35</td>\n",
       "      <td>34</td>\n",
       "      <td>23</td>\n",
       "      <td>11</td>\n",
       "      <td>11</td>\n",
       "      <td>4</td>\n",
       "      <td>1</td>\n",
       "    </tr>\n",
       "  </tbody>\n",
       "</table>\n",
       "</div>"
      ],
      "text/plain": [
       "G3   0   1   4   5   6   7   8   9   10  11  12  13  14  15  16  17  18  19  \\\n",
       "sex                                                                           \n",
       "F    30   0   1   3  13  11  34  33  82  83  55  71  55  48  29  24  16   3   \n",
       "M    23   1   0   5   5   8  33  30  71  68  48  42  35  34  23  11  11   4   \n",
       "\n",
       "G3   20  \n",
       "sex      \n",
       "F     0  \n",
       "M     1  "
      ]
     },
     "execution_count": 59,
     "metadata": {},
     "output_type": "execute_result"
    }
   ],
   "source": [
    "pd.crosstab(data['sex'], data['G3'])"
   ]
  },
  {
   "cell_type": "code",
   "execution_count": 25,
   "metadata": {},
   "outputs": [
    {
     "data": {
      "image/png": "[encoded data removed]",
      "text/plain": [
       "<matplotlib.figure.Figure at 0x28d2c27f8d0>"
      ]
     },
     "metadata": {},
     "output_type": "display_data"
    },
    {
     "data": {
      "image/png": "[encoded data removed]",
      "text/plain": [
       "<matplotlib.figure.Figure at 0x28d2c17bd30>"
      ]
     },
     "metadata": {},
     "output_type": "display_data"
    },
    {
     "data": {
      "image/png": "[encoded data removed]",
      "text/plain": [
       "<matplotlib.figure.Figure at 0x28d2bc93fd0>"
      ]
     },
     "metadata": {},
     "output_type": "display_data"
    },
    {
     "data": {
      "image/png": "[encoded data removed]",
      "text/plain": [
       "<matplotlib.figure.Figure at 0x28d2ca266a0>"
      ]
     },
     "metadata": {},
     "output_type": "display_data"
    },
    {
     "data": {
      "image/png": "[encoded data removed]",
      "text/plain": [
       "<matplotlib.figure.Figure at 0x28d2cde42b0>"
      ]
     },
     "metadata": {},
     "output_type": "display_data"
    },
    {
     "data": {
      "image/png": "[encoded data removed]",
      "text/plain": [
       "<matplotlib.figure.Figure at 0x28d2c223390>"
      ]
     },
     "metadata": {},
     "output_type": "display_data"
    },
    {
     "data": {
      "image/png": "[encoded data removed]",
      "text/plain": [
       "<matplotlib.figure.Figure at 0x28d2becbba8>"
      ]
     },
     "metadata": {},
     "output_type": "display_data"
    }
   ],
   "source": [
    "sns.countplot(x='G3', hue='sex', data=data)\n",
    "plt.show()\n",
    "sns.countplot(x='G3', hue='traveltime', data=data)\n",
    "plt.show()\n",
    "sns.countplot(x='G3', hue='famsup', data=data)\n",
    "plt.show()\n",
    "sns.countplot(x='G3', hue='schoolsup', data=data)\n",
    "plt.show()\n",
    "sns.countplot(x='G3', hue='internet', data=data)\n",
    "plt.show()\n",
    "sns.countplot(x='G3', hue='romantic', data=data)\n",
    "plt.show()\n",
    "sns.countplot(x='G3', hue='Dalc', data=data)\n",
    "plt.show()"
   ]
  },
  {
   "cell_type": "markdown",
   "metadata": {},
   "source": [
    "# Задание 4"
   ]
  },
  {
   "cell_type": "code",
   "execution_count": 96,
   "metadata": {},
   "outputs": [
    {
     "name": "stdout",
     "output_type": "stream",
     "text": [
      "  Неудовлетворительно\n",
      "reason\n",
      "course        46\n",
      "home          22\n",
      "other         14\n",
      "reputation    18\n",
      "dtype: int64\n",
      "  Удовлетворительно\n",
      "reason\n",
      "course        282\n",
      "home          168\n",
      "other          69\n",
      "reputation    131\n",
      "dtype: int64\n",
      "  Хорошо\n",
      "reason\n",
      "course        89\n",
      "home          60\n",
      "other         23\n",
      "reputation    87\n",
      "dtype: int64\n",
      "  Отлично\n",
      "reason\n",
      "course        13\n",
      "home           8\n",
      "other          2\n",
      "reputation    12\n",
      "dtype: int64\n"
     ]
    }
   ],
   "source": [
    "print('  Неудовлетворительно')\n",
    "print(pd.crosstab(data['G3'], data['reason'])[-19:-13].sum())\n",
    "print('  Удовлетворительно')\n",
    "print(pd.crosstab(data['G3'], data['reason'])[-13:-7].sum())\n",
    "print('  Хорошо')\n",
    "print(pd.crosstab(data['G3'], data['reason'])[-7:-3].sum())\n",
    "print('  Отлично')\n",
    "print(pd.crosstab(data['G3'], data['reason'])[-3:].sum())"
   ]
  },
  {
   "cell_type": "markdown",
   "metadata": {},
   "source": [
    "# Задание 5"
   ]
  },
  {
   "cell_type": "code",
   "execution_count": 318,
   "metadata": {},
   "outputs": [
    {
     "data": {
      "image/png": "[encoded data removed]",
      "text/plain": [
       "<matplotlib.figure.Figure at 0x1e7921b71d0>"
      ]
     },
     "metadata": {},
     "output_type": "display_data"
    }
   ],
   "source": [
    "plt.figure(figsize=(10, 8))\n",
    "sns.heatmap(data.corr(), annot=True, fmt=\".2f\", linewidths=.5)\n",
    "plt.show()"
   ]
  },
  {
   "cell_type": "markdown",
   "metadata": {},
   "source": [
    "Из таблицы видно, что признаки G1, G2 больше всех влияют на итоговую оценку. \n",
    "Также видно, что признаки absences, Walc, Dalc, goout, failures и traveltime отрицательно влияют на результат.\n",
    "Положительно влияют Medu, Fedu, studytime, famrel."
   ]
  },
  {
   "cell_type": "markdown",
   "metadata": {},
   "source": [
    "# Часть 2"
   ]
  },
  {
   "cell_type": "code",
   "execution_count": 5,
   "metadata": {
    "collapsed": true
   },
   "outputs": [],
   "source": [
    "from sklearn.model_selection import train_test_split"
   ]
  },
  {
   "cell_type": "code",
   "execution_count": 185,
   "metadata": {},
   "outputs": [],
   "source": [
    "data = data.drop(['G2'], axis=1)\n",
    "data2 = data.copy()\n",
    "data2 = data2.drop(['G1'], axis=1)"
   ]
  },
  {
   "cell_type": "code",
   "execution_count": 246,
   "metadata": {
    "collapsed": true
   },
   "outputs": [],
   "source": [
    "(trainData, \n",
    " testData, \n",
    " trainDependentVariables, \n",
    " testDependentVariables) = train_test_split(data.drop('G3', axis=1),\n",
    "                                            data['G3'],\n",
    "                                            test_size=0.3, \n",
    "                                            random_state=5)"
   ]
  },
  {
   "cell_type": "code",
   "execution_count": 236,
   "metadata": {},
   "outputs": [
    {
     "data": {
      "text/plain": [
       "(730, 29)"
      ]
     },
     "execution_count": 236,
     "metadata": {},
     "output_type": "execute_result"
    }
   ],
   "source": [
    "trainData.shape"
   ]
  },
  {
   "cell_type": "code",
   "execution_count": 237,
   "metadata": {},
   "outputs": [
    {
     "data": {
      "text/plain": [
       "(314, 29)"
      ]
     },
     "execution_count": 237,
     "metadata": {},
     "output_type": "execute_result"
    }
   ],
   "source": [
    "testData.shape"
   ]
  },
  {
   "cell_type": "markdown",
   "metadata": {},
   "source": [
    "# Линейная регрессия"
   ]
  },
  {
   "cell_type": "code",
   "execution_count": 32,
   "metadata": {
    "collapsed": true
   },
   "outputs": [],
   "source": [
    "from sklearn import linear_model\n",
    "from sklearn import metrics\n",
    "from sklearn.model_selection import KFold"
   ]
  },
  {
   "cell_type": "code",
   "execution_count": 247,
   "metadata": {},
   "outputs": [
    {
     "data": {
      "text/plain": [
       "LinearRegression(copy_X=True, fit_intercept=True, n_jobs=1, normalize=False)"
      ]
     },
     "execution_count": 247,
     "metadata": {},
     "output_type": "execute_result"
    }
   ],
   "source": [
    "regressionModel = linear_model.LinearRegression()\n",
    "\n",
    "regressionModel.fit(trainData, trainDependentVariables)"
   ]
  },
  {
   "cell_type": "code",
   "execution_count": 248,
   "metadata": {
    "collapsed": true,
    "scrolled": true
   },
   "outputs": [],
   "source": [
    "predictedDependentVariables = regressionModel.predict(testData)"
   ]
  },
  {
   "cell_type": "code",
   "execution_count": 249,
   "metadata": {},
   "outputs": [
    {
     "data": {
      "image/png": "[encoded data removed]",
      "text/plain": [
       "<matplotlib.figure.Figure at 0x16e5159a9b0>"
      ]
     },
     "metadata": {},
     "output_type": "display_data"
    }
   ],
   "source": [
    "plt.plot(testDependentVariables[1:100].values, 'b-', label='true')\n",
    "plt.plot(predictedDependentVariables[1:100], 'r-', label='pred')\n",
    "\n",
    "plt.xlabel(\"observations\")\n",
    "plt.ylabel(\"G3\")\n",
    "\n",
    "plt.legend(loc='best')\n",
    "\n",
    "plt.show()"
   ]
  },
  {
   "cell_type": "code",
   "execution_count": 250,
   "metadata": {},
   "outputs": [
    {
     "name": "stdout",
     "output_type": "stream",
     "text": [
      "MSE:   4.556322630456208\n",
      "RMSE:  2.1345544337065308\n",
      "R2:    0.6847560867958371\n",
      "MAE:   1.4116053654393668\n",
      "MedAE: 0.9642194912530169\n"
     ]
    }
   ],
   "source": [
    "mse = metrics.mean_squared_error(y_pred=predictedDependentVariables, \n",
    "                                 y_true=testDependentVariables)\n",
    "\n",
    "rmse = np.sqrt(mse)\n",
    "\n",
    "mae = metrics.mean_absolute_error(y_pred=predictedDependentVariables, \n",
    "                                  y_true=testDependentVariables)\n",
    "\n",
    "medae = metrics.median_absolute_error(y_pred=predictedDependentVariables, \n",
    "                                      y_true=testDependentVariables)\n",
    "\n",
    "R2 = metrics.r2_score(y_pred=predictedDependentVariables, \n",
    "                      y_true=testDependentVariables)\n",
    "print(\"MSE:   {}\\nRMSE:  {}\\nR2:    {}\\nMAE:   {}\\nMedAE: {}\".format(mse, rmse, R2, mae, medae))"
   ]
  },
  {
   "cell_type": "code",
   "execution_count": 251,
   "metadata": {},
   "outputs": [
    {
     "data": {
      "text/plain": [
       "age           1.010379\n",
       "famsize       0.581940\n",
       "Pstatus      -0.581940\n",
       "Medu         -0.576256\n",
       "Fedu         -0.430468\n",
       "traveltime    0.361890\n",
       "studytime    -0.264157\n",
       "failures      0.263675\n",
       "schoolsup     0.214447\n",
       "famsup       -0.117218\n",
       "paid         -0.106739\n",
       "activities    0.086082\n",
       "nursery      -0.083881\n",
       "higher       -0.083464\n",
       "internet      0.073305\n",
       "romantic     -0.073305\n",
       "famrel        0.068977\n",
       "freetime      0.057217\n",
       "goout        -0.055507\n",
       "Dalc          0.049762\n",
       "Walc         -0.041268\n",
       "health       -0.036400\n",
       "absences      0.034732\n",
       "G1            0.032895\n",
       "Por          -0.030076\n",
       "Math          0.020075\n",
       "GP            0.008470\n",
       "MS            0.008001\n",
       "Male         -0.004151\n",
       "Female        0.004151\n",
       "dtype: float64"
      ]
     },
     "execution_count": 251,
     "metadata": {},
     "output_type": "execute_result"
    }
   ],
   "source": [
    "pd.Series(sorted(regressionModel.coef_, \n",
    "                 key=abs, \n",
    "                 reverse=True), \n",
    "          index=trainData.columns)"
   ]
  },
  {
   "cell_type": "markdown",
   "metadata": {},
   "source": [
    "Без G1"
   ]
  },
  {
   "cell_type": "code",
   "execution_count": 252,
   "metadata": {
    "collapsed": true
   },
   "outputs": [],
   "source": [
    "(trainData, \n",
    " testData, \n",
    " trainDependentVariables, \n",
    " testDependentVariables) = train_test_split(data2.drop('G3', axis=1),\n",
    "                                            data2['G3'],\n",
    "                                            test_size=0.3, \n",
    "                                            random_state=5)"
   ]
  },
  {
   "cell_type": "code",
   "execution_count": 253,
   "metadata": {},
   "outputs": [
    {
     "name": "stdout",
     "output_type": "stream",
     "text": [
      "MSE:   10.338501102620398\n",
      "RMSE:  3.215353962259894\n",
      "R2:    0.284697373607786\n",
      "MAE:   2.354195750447211\n",
      "MedAE: 1.8231116735776336\n"
     ]
    }
   ],
   "source": [
    "regressionModel.fit(trainData, trainDependentVariables)\n",
    "predictedDependentVariables = regressionModel.predict(testData)\n",
    "\n",
    "mse = metrics.mean_squared_error(y_pred=predictedDependentVariables, \n",
    "                                 y_true=testDependentVariables)\n",
    "\n",
    "rmse = np.sqrt(mse)\n",
    "\n",
    "mae = metrics.mean_absolute_error(y_pred=predictedDependentVariables, \n",
    "                                  y_true=testDependentVariables)\n",
    "\n",
    "medae = metrics.median_absolute_error(y_pred=predictedDependentVariables, \n",
    "                                      y_true=testDependentVariables)\n",
    "\n",
    "R2 = metrics.r2_score(y_pred=predictedDependentVariables, \n",
    "                      y_true=testDependentVariables)\n",
    "print(\"MSE:   {}\\nRMSE:  {}\\nR2:    {}\\nMAE:   {}\\nMedAE: {}\".format(mse, rmse, R2, mae, medae))"
   ]
  },
  {
   "cell_type": "code",
   "execution_count": 254,
   "metadata": {},
   "outputs": [
    {
     "data": {
      "text/plain": [
       "age           1.686441\n",
       "famsize      -1.418333\n",
       "Pstatus      -1.364969\n",
       "Medu          0.856622\n",
       "Fedu         -0.856622\n",
       "traveltime   -0.701363\n",
       "studytime     0.589193\n",
       "failures     -0.589193\n",
       "schoolsup     0.489531\n",
       "famsup       -0.480813\n",
       "paid         -0.374150\n",
       "activities    0.320135\n",
       "nursery       0.313722\n",
       "higher       -0.270198\n",
       "internet     -0.267909\n",
       "romantic      0.190248\n",
       "famrel       -0.186979\n",
       "freetime      0.142615\n",
       "goout        -0.136655\n",
       "Dalc         -0.127549\n",
       "Walc         -0.100205\n",
       "health       -0.097134\n",
       "absences      0.097134\n",
       "Por           0.094263\n",
       "Math          0.087998\n",
       "GP            0.070082\n",
       "MS           -0.023184\n",
       "Male          0.007284\n",
       "Female       -0.001305\n",
       "dtype: float64"
      ]
     },
     "execution_count": 254,
     "metadata": {},
     "output_type": "execute_result"
    }
   ],
   "source": [
    "pd.Series(sorted(regressionModel.coef_, \n",
    "                 key=abs, \n",
    "                 reverse=True), \n",
    "          index=trainData.columns)"
   ]
  },
  {
   "cell_type": "markdown",
   "metadata": {},
   "source": [
    "# Гребневая регрессия"
   ]
  },
  {
   "cell_type": "code",
   "execution_count": 186,
   "metadata": {
    "collapsed": true
   },
   "outputs": [],
   "source": [
    "(trainData, \n",
    " testData, \n",
    " trainDependentVariables, \n",
    " testDependentVariables) = train_test_split(data.drop('G3', axis=1),\n",
    "                                            data['G3'],\n",
    "                                            test_size=0.3, \n",
    "                                            random_state=5)"
   ]
  },
  {
   "cell_type": "code",
   "execution_count": 256,
   "metadata": {
    "collapsed": true
   },
   "outputs": [],
   "source": [
    "ridgeModel = linear_model.Ridge(alpha=1)\n",
    "\n",
    "ridgeModel.fit(trainData, trainDependentVariables)\n",
    "predictedDependentVariables = ridgeModel.predict(testData)"
   ]
  },
  {
   "cell_type": "code",
   "execution_count": 257,
   "metadata": {},
   "outputs": [
    {
     "name": "stdout",
     "output_type": "stream",
     "text": [
      "MSE:   4.55573164740248\n",
      "RMSE:  2.1344159968015792\n",
      "R2:    0.6847969758692424\n",
      "MAE:   1.411282732209139\n",
      "MedAE: 0.9628297500375345\n"
     ]
    }
   ],
   "source": [
    "mse = metrics.mean_squared_error(y_pred=predictedDependentVariables, \n",
    "                                 y_true=testDependentVariables)\n",
    "\n",
    "rmse = np.sqrt(mse)\n",
    "\n",
    "mae = metrics.mean_absolute_error(y_pred=predictedDependentVariables, \n",
    "                                  y_true=testDependentVariables)\n",
    "\n",
    "medae = metrics.median_absolute_error(y_pred=predictedDependentVariables, \n",
    "                                      y_true=testDependentVariables)\n",
    "\n",
    "R2 = metrics.r2_score(y_pred=predictedDependentVariables, \n",
    "                      y_true=testDependentVariables)\n",
    "\n",
    "print(\"MSE:   {}\\nRMSE:  {}\\nR2:    {}\\nMAE:   {}\\nMedAE: {}\".format(mse, rmse, R2, mae, medae))"
   ]
  },
  {
   "cell_type": "code",
   "execution_count": 258,
   "metadata": {},
   "outputs": [
    {
     "name": "stderr",
     "output_type": "stream",
     "text": [
      "C:\\Anaconda3\\lib\\site-packages\\scipy\\linalg\\basic.py:223: RuntimeWarning: scipy.linalg.solve\n",
      "Ill-conditioned matrix detected. Result is not guaranteed to be accurate.\n",
      "Reciprocal condition number: 1.4536296204197061e-18\n",
      "  ' condition number: {}'.format(rcond), RuntimeWarning)\n",
      "C:\\Anaconda3\\lib\\site-packages\\scipy\\linalg\\basic.py:223: RuntimeWarning: scipy.linalg.solve\n",
      "Ill-conditioned matrix detected. Result is not guaranteed to be accurate.\n",
      "Reciprocal condition number: 7.931572431913462e-35\n",
      "  ' condition number: {}'.format(rcond), RuntimeWarning)\n",
      "C:\\Anaconda3\\lib\\site-packages\\scipy\\linalg\\basic.py:223: RuntimeWarning: scipy.linalg.solve\n",
      "Ill-conditioned matrix detected. Result is not guaranteed to be accurate.\n",
      "Reciprocal condition number: 4.3366115048636238e-19\n",
      "  ' condition number: {}'.format(rcond), RuntimeWarning)\n"
     ]
    },
    {
     "data": {
      "text/plain": [
       "RidgeCV(alphas=array([ 0. ,  0.1,  0.2,  0.3,  0.4,  0.5,  0.6,  0.7,  0.8,  0.9,  1. ,\n",
       "        1.1,  1.2,  1.3,  1.4,  1.5,  1.6,  1.7,  1.8,  1.9,  2. ,  2.1,\n",
       "        2.2,  2.3,  2.4,  2.5,  2.6,  2.7,  2.8,  2.9,  3. ,  3.1,  3.2,\n",
       "        3.3,  3.4,  3.5,  3.6,  3.7,  3.8,  3.9,  4. ,  4.1,  4.2,  4.3,\n",
       "        4.4,  4.5,  4.6,  4.7,  4.8,  4.9]),\n",
       "    cv=5, fit_intercept=True, gcv_mode=None, normalize=False,\n",
       "    scoring='neg_mean_squared_error', store_cv_values=False)"
      ]
     },
     "execution_count": 258,
     "metadata": {},
     "output_type": "execute_result"
    }
   ],
   "source": [
    "from sklearn.metrics import mean_squared_error\n",
    "ridgeModel = linear_model.RidgeCV(alphas=np.array(range(0, 50, 1))/10, \n",
    "                                  cv=5,\n",
    "                                 scoring='neg_mean_squared_error')\n",
    "\n",
    "ridgeModel.fit(trainData, trainDependentVariables)"
   ]
  },
  {
   "cell_type": "code",
   "execution_count": 259,
   "metadata": {},
   "outputs": [
    {
     "data": {
      "text/plain": [
       "4.9000000000000004"
      ]
     },
     "execution_count": 259,
     "metadata": {},
     "output_type": "execute_result"
    }
   ],
   "source": [
    "ridgeModel.alpha_"
   ]
  },
  {
   "cell_type": "code",
   "execution_count": 260,
   "metadata": {
    "collapsed": true
   },
   "outputs": [],
   "source": [
    "predictedDependentVariables = ridgeModel.predict(testData)"
   ]
  },
  {
   "cell_type": "code",
   "execution_count": 261,
   "metadata": {},
   "outputs": [
    {
     "name": "stdout",
     "output_type": "stream",
     "text": [
      "MSE:   4.553781874569693\n",
      "RMSE:  2.13395920171162\n",
      "R2:    0.6849318772069041\n",
      "MAE:   1.4102451835549152\n",
      "MedAE: 0.968333312752633\n"
     ]
    }
   ],
   "source": [
    "mse = metrics.mean_squared_error(y_pred=predictedDependentVariables, \n",
    "                                 y_true=testDependentVariables)\n",
    "\n",
    "rmse = np.sqrt(mse)\n",
    "\n",
    "mae = metrics.mean_absolute_error(y_pred=predictedDependentVariables, \n",
    "                                  y_true=testDependentVariables)\n",
    "\n",
    "medae = metrics.median_absolute_error(y_pred=predictedDependentVariables, \n",
    "                                      y_true=testDependentVariables)\n",
    "\n",
    "R2 = metrics.r2_score(y_pred=predictedDependentVariables, \n",
    "                      y_true=testDependentVariables)\n",
    "\n",
    "print(\"MSE:   {}\\nRMSE:  {}\\nR2:    {}\\nMAE:   {}\\nMedAE: {}\".format(mse, rmse, R2, mae, medae))"
   ]
  },
  {
   "cell_type": "code",
   "execution_count": 262,
   "metadata": {},
   "outputs": [
    {
     "data": {
      "text/plain": [
       "age           1.009533\n",
       "famsize       0.568472\n",
       "Pstatus      -0.568472\n",
       "Medu         -0.557227\n",
       "Fedu         -0.423862\n",
       "traveltime    0.335612\n",
       "studytime    -0.245463\n",
       "failures      0.239293\n",
       "schoolsup     0.203506\n",
       "famsup       -0.110665\n",
       "paid         -0.106053\n",
       "activities   -0.083583\n",
       "nursery       0.081344\n",
       "higher       -0.080829\n",
       "internet      0.073567\n",
       "romantic     -0.073567\n",
       "famrel        0.068994\n",
       "freetime      0.057452\n",
       "goout        -0.054587\n",
       "Dalc          0.048760\n",
       "Walc         -0.042038\n",
       "health       -0.036624\n",
       "absences      0.034482\n",
       "G1            0.033275\n",
       "Por          -0.028989\n",
       "Math          0.016907\n",
       "GP            0.008734\n",
       "MS            0.008381\n",
       "Male         -0.003162\n",
       "Female        0.003162\n",
       "dtype: float64"
      ]
     },
     "execution_count": 262,
     "metadata": {},
     "output_type": "execute_result"
    }
   ],
   "source": [
    "pd.Series(sorted(ridgeModel.coef_, \n",
    "                 key=abs, \n",
    "                 reverse=True), \n",
    "          index=trainData.columns)"
   ]
  },
  {
   "cell_type": "markdown",
   "metadata": {},
   "source": [
    "# Лассо"
   ]
  },
  {
   "cell_type": "code",
   "execution_count": 263,
   "metadata": {},
   "outputs": [
    {
     "name": "stderr",
     "output_type": "stream",
     "text": [
      "C:\\Anaconda3\\lib\\site-packages\\ipykernel_launcher.py:3: UserWarning: With alpha=0, this algorithm does not converge well. You are advised to use the LinearRegression estimator\n",
      "  This is separate from the ipykernel package so we can avoid doing imports until\n",
      "C:\\Anaconda3\\lib\\site-packages\\sklearn\\linear_model\\coordinate_descent.py:477: UserWarning: Coordinate descent with no regularization may lead to unexpected results and is discouraged.\n",
      "  positive)\n",
      "C:\\Anaconda3\\lib\\site-packages\\sklearn\\linear_model\\coordinate_descent.py:491: ConvergenceWarning: Objective did not converge. You might want to increase the number of iterations. Fitting data with very small alpha may cause precision problems.\n",
      "  ConvergenceWarning)\n"
     ]
    }
   ],
   "source": [
    "lassoModel = linear_model.Lasso(alpha=0)\n",
    "\n",
    "lassoModel.fit(trainData, trainDependentVariables)\n",
    "\n",
    "predictedDependentVariables = lassoModel.predict(testData)"
   ]
  },
  {
   "cell_type": "code",
   "execution_count": 264,
   "metadata": {},
   "outputs": [
    {
     "name": "stdout",
     "output_type": "stream",
     "text": [
      "MSE:   4.556322630456209\n",
      "RMSE:  2.1345544337065308\n",
      "R2:    0.6847560867958371\n",
      "MAE:   1.411605365439364\n",
      "MedAE: 0.9642194912530284\n"
     ]
    }
   ],
   "source": [
    "mse = metrics.mean_squared_error(y_pred=predictedDependentVariables, \n",
    "                                 y_true=testDependentVariables)\n",
    "\n",
    "rmse = np.sqrt(mse)\n",
    "\n",
    "mae = metrics.mean_absolute_error(y_pred=predictedDependentVariables, \n",
    "                                  y_true=testDependentVariables)\n",
    "\n",
    "medae = metrics.median_absolute_error(y_pred=predictedDependentVariables, \n",
    "                                      y_true=testDependentVariables)\n",
    "\n",
    "R2 = metrics.r2_score(y_pred=predictedDependentVariables, \n",
    "                      y_true=testDependentVariables)\n",
    "\n",
    "print(\"MSE:   {}\\nRMSE:  {}\\nR2:    {}\\nMAE:   {}\\nMedAE: {}\".format(mse, rmse, R2, mae, medae))"
   ]
  },
  {
   "cell_type": "code",
   "execution_count": 265,
   "metadata": {},
   "outputs": [
    {
     "data": {
      "text/plain": [
       "LassoCV(alphas=array([ 0.01,  0.02, ...,  0.98,  0.99]), copy_X=True, cv=5,\n",
       "    eps=0.001, fit_intercept=True, max_iter=1000, n_alphas=100, n_jobs=1,\n",
       "    normalize=False, positive=False, precompute='auto', random_state=None,\n",
       "    selection='cyclic', tol=0.0001, verbose=False)"
      ]
     },
     "execution_count": 265,
     "metadata": {},
     "output_type": "execute_result"
    }
   ],
   "source": [
    "lassoModel = linear_model.LassoCV(alphas=np.array(range(1, 100, 1))/100, \n",
    "                                  cv=5)\n",
    "\n",
    "lassoModel.fit(trainData, trainDependentVariables)"
   ]
  },
  {
   "cell_type": "code",
   "execution_count": 266,
   "metadata": {},
   "outputs": [
    {
     "data": {
      "text/plain": [
       "0.059999999999999998"
      ]
     },
     "execution_count": 266,
     "metadata": {},
     "output_type": "execute_result"
    }
   ],
   "source": [
    "lassoModel.alpha_"
   ]
  },
  {
   "cell_type": "code",
   "execution_count": 267,
   "metadata": {
    "collapsed": true
   },
   "outputs": [],
   "source": [
    "predictedDependentVariables = lassoModel.predict(testData)"
   ]
  },
  {
   "cell_type": "code",
   "execution_count": 268,
   "metadata": {},
   "outputs": [
    {
     "name": "stdout",
     "output_type": "stream",
     "text": [
      "MSE:   4.612064788586478\n",
      "RMSE:  2.1475718354892064\n",
      "R2:    0.6808993853537639\n",
      "MAE:   1.4096456609574863\n",
      "MedAE: 0.9079068448919978\n"
     ]
    }
   ],
   "source": [
    "mse = metrics.mean_squared_error(y_pred=predictedDependentVariables, \n",
    "                                 y_true=testDependentVariables)\n",
    "\n",
    "rmse = np.sqrt(mse)\n",
    "\n",
    "mae = metrics.mean_absolute_error(y_pred=predictedDependentVariables, \n",
    "                                  y_true=testDependentVariables)\n",
    "\n",
    "medae = metrics.median_absolute_error(y_pred=predictedDependentVariables, \n",
    "                                      y_true=testDependentVariables)\n",
    "\n",
    "R2 = metrics.r2_score(y_pred=predictedDependentVariables, \n",
    "                      y_true=testDependentVariables)\n",
    "\n",
    "print(\"MSE:   {}\\nRMSE:  {}\\nR2:    {}\\nMAE:   {}\\nMedAE: {}\".format(mse, rmse, R2, mae, medae))"
   ]
  },
  {
   "cell_type": "code",
   "execution_count": 269,
   "metadata": {},
   "outputs": [
    {
     "data": {
      "text/plain": [
       "age           1.013805e+00\n",
       "famsize       7.699573e-01\n",
       "Pstatus      -2.914241e-01\n",
       "Medu         -2.479199e-01\n",
       "Fedu         -6.015420e-02\n",
       "traveltime    3.115237e-02\n",
       "studytime    -1.808064e-02\n",
       "failures     -3.044083e-03\n",
       "schoolsup    -8.279005e-17\n",
       "famsup        0.000000e+00\n",
       "paid         -0.000000e+00\n",
       "activities   -0.000000e+00\n",
       "nursery       0.000000e+00\n",
       "higher        0.000000e+00\n",
       "internet     -0.000000e+00\n",
       "romantic      0.000000e+00\n",
       "famrel        0.000000e+00\n",
       "freetime      0.000000e+00\n",
       "goout        -0.000000e+00\n",
       "Dalc         -0.000000e+00\n",
       "Walc          0.000000e+00\n",
       "health        0.000000e+00\n",
       "absences      0.000000e+00\n",
       "G1           -0.000000e+00\n",
       "Por          -0.000000e+00\n",
       "Math         -0.000000e+00\n",
       "GP            0.000000e+00\n",
       "MS           -0.000000e+00\n",
       "Male         -0.000000e+00\n",
       "Female        0.000000e+00\n",
       "dtype: float64"
      ]
     },
     "execution_count": 269,
     "metadata": {},
     "output_type": "execute_result"
    }
   ],
   "source": [
    "pd.Series(sorted(lassoModel.coef_, \n",
    "                 key=abs, \n",
    "                 reverse=True), \n",
    "          index=trainData.columns)"
   ]
  },
  {
   "cell_type": "code",
   "execution_count": 270,
   "metadata": {},
   "outputs": [
    {
     "data": {
      "text/plain": [
       "age           1.082773e+00\n",
       "famsize       1.009635e+00\n",
       "Pstatus      -5.165356e-01\n",
       "Medu         -4.002728e-01\n",
       "Fedu          2.460336e-01\n",
       "traveltime    1.677566e-01\n",
       "studytime    -1.636946e-01\n",
       "failures      1.539845e-01\n",
       "schoolsup    -1.050211e-01\n",
       "famsup       -9.174142e-02\n",
       "paid         -7.953421e-02\n",
       "activities    6.045228e-02\n",
       "nursery       5.305136e-02\n",
       "higher       -4.418953e-02\n",
       "internet     -4.052385e-02\n",
       "romantic     -3.999731e-02\n",
       "famrel       -3.669457e-02\n",
       "freetime      3.549307e-02\n",
       "goout         1.227035e-02\n",
       "Dalc          1.101454e-02\n",
       "Walc         -1.322908e-03\n",
       "health       -1.288420e-15\n",
       "absences     -0.000000e+00\n",
       "G1           -0.000000e+00\n",
       "Por           0.000000e+00\n",
       "Math          0.000000e+00\n",
       "GP            0.000000e+00\n",
       "MS            0.000000e+00\n",
       "Male         -0.000000e+00\n",
       "Female        0.000000e+00\n",
       "dtype: float64"
      ]
     },
     "execution_count": 270,
     "metadata": {},
     "output_type": "execute_result"
    }
   ],
   "source": [
    "lassoModel = linear_model.Lasso(alpha=0.01).fit(trainData, trainDependentVariables)\n",
    "\n",
    "predictedDependentVariables = lassoModel.predict(testData)\n",
    "\n",
    "pd.Series(sorted(lassoModel.coef_, \n",
    "                 key=abs, \n",
    "                 reverse=True), \n",
    "          index=trainData.columns)"
   ]
  },
  {
   "cell_type": "markdown",
   "metadata": {},
   "source": [
    "# KNN"
   ]
  },
  {
   "cell_type": "code",
   "execution_count": 65,
   "metadata": {
    "collapsed": true
   },
   "outputs": [],
   "source": [
    "from sklearn import preprocessing"
   ]
  },
  {
   "cell_type": "code",
   "execution_count": 187,
   "metadata": {},
   "outputs": [],
   "source": [
    "data.iloc[:,1:] = preprocessing.scale(data.iloc[:,1:])"
   ]
  },
  {
   "cell_type": "code",
   "execution_count": 64,
   "metadata": {
    "collapsed": true
   },
   "outputs": [],
   "source": [
    "from sklearn.neighbors import KNeighborsRegressor"
   ]
  },
  {
   "cell_type": "code",
   "execution_count": 188,
   "metadata": {
    "collapsed": true
   },
   "outputs": [],
   "source": [
    "knrModel = KNeighborsRegressor(n_neighbors=5)\n",
    "\n",
    "knrModel.fit(trainData, trainDependentVariables)\n",
    "\n",
    "predictedDependentVariables = knrModel.predict(testData) "
   ]
  },
  {
   "cell_type": "code",
   "execution_count": 189,
   "metadata": {},
   "outputs": [
    {
     "name": "stdout",
     "output_type": "stream",
     "text": [
      "MSE:   4.876942675159236\n",
      "RMSE:  2.2083801020565357\n",
      "R2:    0.66257295233818\n",
      "MAE:   1.4713375796178343\n",
      "MedAE: 1.0\n"
     ]
    }
   ],
   "source": [
    "mse = metrics.mean_squared_error(y_pred=predictedDependentVariables, \n",
    "                                 y_true=testDependentVariables)\n",
    "\n",
    "rmse = np.sqrt(mse)\n",
    "\n",
    "mae = metrics.mean_absolute_error(y_pred=predictedDependentVariables, \n",
    "                                  y_true=testDependentVariables)\n",
    "\n",
    "medae = metrics.median_absolute_error(y_pred=predictedDependentVariables, \n",
    "                                      y_true=testDependentVariables)\n",
    "\n",
    "R2 = metrics.r2_score(y_pred=predictedDependentVariables, \n",
    "                      y_true=testDependentVariables)\n",
    "\n",
    "print(\"MSE:   {}\\nRMSE:  {}\\nR2:    {}\\nMAE:   {}\\nMedAE: {}\".format(mse, rmse, R2, mae, medae))"
   ]
  },
  {
   "cell_type": "markdown",
   "metadata": {},
   "source": [
    "Кросс-валидация, для оценки качества модели была использована ошибка median absolute error"
   ]
  },
  {
   "cell_type": "code",
   "execution_count": 190,
   "metadata": {},
   "outputs": [
    {
     "name": "stdout",
     "output_type": "stream",
     "text": [
      "21\n",
      "1.04285714286\n"
     ]
    }
   ],
   "source": [
    "minErr = 1.1\n",
    "param = 0\n",
    "for i in range(3, 30):\n",
    "    medae = 0\n",
    "    kf = KFold(n_splits = 10, shuffle = True)\n",
    "    knrModel = KNeighborsRegressor(n_neighbors=i)\n",
    "        \n",
    "    for train_index, test_index in kf.split(trainData):\n",
    "            knrModel.fit(trainData.iloc[train_index], trainDependentVariables.iloc[train_index])\n",
    "            predictedDependentVariables = knrModel.predict(trainData.iloc[test_index])\n",
    "            medae += metrics.median_absolute_error(y_pred=predictedDependentVariables, \n",
    "                                      y_true=trainDependentVariables.iloc[test_index])\n",
    "    medae = medae/10;\n",
    "    if (medae < minErr):\n",
    "        minErr = medae\n",
    "        param = i\n",
    "print(param)\n",
    "print(minErr)"
   ]
  },
  {
   "cell_type": "code",
   "execution_count": 191,
   "metadata": {},
   "outputs": [
    {
     "name": "stdout",
     "output_type": "stream",
     "text": [
      "MSE:   4.352405505726706\n",
      "RMSE:  2.086241957618221\n",
      "R2:    0.6988647523980869\n",
      "MAE:   1.4150743099787686\n",
      "MedAE: 1.0476190476190474\n"
     ]
    }
   ],
   "source": [
    "knrModel = KNeighborsRegressor(n_neighbors=21)\n",
    "\n",
    "knrModel.fit(trainData, trainDependentVariables)\n",
    "\n",
    "predictedDependentVariables = knrModel.predict(testData)\n",
    "\n",
    "mse = metrics.mean_squared_error(y_pred=predictedDependentVariables, \n",
    "                                 y_true=testDependentVariables)\n",
    "\n",
    "rmse = np.sqrt(mse)\n",
    "\n",
    "mae = metrics.mean_absolute_error(y_pred=predictedDependentVariables, \n",
    "                                  y_true=testDependentVariables)\n",
    "\n",
    "medae = metrics.median_absolute_error(y_pred=predictedDependentVariables, \n",
    "                                      y_true=testDependentVariables)\n",
    "\n",
    "R2 = metrics.r2_score(y_pred=predictedDependentVariables, \n",
    "                      y_true=testDependentVariables)\n",
    "\n",
    "print(\"MSE:   {}\\nRMSE:  {}\\nR2:    {}\\nMAE:   {}\\nMedAE: {}\".format(mse, rmse, R2, mae, medae))"
   ]
  },
  {
   "cell_type": "markdown",
   "metadata": {},
   "source": [
    "# Radius Neighbors"
   ]
  },
  {
   "cell_type": "code",
   "execution_count": 75,
   "metadata": {
    "collapsed": true
   },
   "outputs": [],
   "source": [
    "from sklearn.neighbors import RadiusNeighborsRegressor"
   ]
  },
  {
   "cell_type": "code",
   "execution_count": 204,
   "metadata": {},
   "outputs": [
    {
     "name": "stderr",
     "output_type": "stream",
     "text": [
      "C:\\Anaconda3\\lib\\site-packages\\numpy\\core\\fromnumeric.py:2909: RuntimeWarning: Mean of empty slice.\n",
      "  out=out, **kwargs)\n",
      "C:\\Anaconda3\\lib\\site-packages\\numpy\\core\\_methods.py:73: RuntimeWarning: invalid value encountered in true_divide\n",
      "  ret, rcount, out=ret, casting='unsafe', subok=False)\n"
     ]
    },
    {
     "data": {
      "text/plain": [
       "314"
      ]
     },
     "execution_count": 204,
     "metadata": {},
     "output_type": "execute_result"
    }
   ],
   "source": [
    "rnrModel = RadiusNeighborsRegressor(radius=3)\n",
    "\n",
    "rnrModel.fit(trainData, trainDependentVariables)\n",
    "\n",
    "predictedDependentVariables = rnrModel.predict(testData)\n",
    "len(predictedDependentVariables)"
   ]
  },
  {
   "cell_type": "code",
   "execution_count": 205,
   "metadata": {},
   "outputs": [
    {
     "data": {
      "text/plain": [
       "76"
      ]
     },
     "execution_count": 205,
     "metadata": {},
     "output_type": "execute_result"
    }
   ],
   "source": [
    "is_nan = np.isnan(predictedDependentVariables)\n",
    "predictedDependentVariables = predictedDependentVariables[~is_nan]\n",
    "len(predictedDependentVariables)"
   ]
  },
  {
   "cell_type": "code",
   "execution_count": 206,
   "metadata": {},
   "outputs": [
    {
     "name": "stdout",
     "output_type": "stream",
     "text": [
      "MSE:   7.105354532163744\n",
      "RMSE:  2.665587089585284\n",
      "R2:    0.3897410034381974\n",
      "MAE:   1.582236842105263\n",
      "MedAE: 1.0\n"
     ]
    }
   ],
   "source": [
    "mse = metrics.mean_squared_error(y_pred=predictedDependentVariables, \n",
    "                                 y_true=testDependentVariables[~is_nan])\n",
    "\n",
    "rmse = np.sqrt(mse)\n",
    "\n",
    "mae = metrics.mean_absolute_error(y_pred=predictedDependentVariables, \n",
    "                                  y_true=testDependentVariables[~is_nan])\n",
    "\n",
    "medae = metrics.median_absolute_error(y_pred=predictedDependentVariables, \n",
    "                                      y_true=testDependentVariables[~is_nan])\n",
    "\n",
    "R2 = metrics.r2_score(y_pred=predictedDependentVariables, \n",
    "                      y_true=testDependentVariables[~is_nan])\n",
    "\n",
    "print(\"MSE:   {}\\nRMSE:  {}\\nR2:    {}\\nMAE:   {}\\nMedAE: {}\".format(mse, rmse, R2, mae, medae))"
   ]
  },
  {
   "cell_type": "markdown",
   "metadata": {},
   "source": [
    "При radius < 5.8 получается слишком много значений, для которых не удалось выполнить прогноз "
   ]
  },
  {
   "cell_type": "code",
   "execution_count": 210,
   "metadata": {},
   "outputs": [
    {
     "name": "stdout",
     "output_type": "stream",
     "text": [
      "313\n",
      "MSE:   4.92515312079726\n",
      "RMSE:  2.219268600417097\n",
      "R2:    0.6603021043895685\n",
      "MAE:   1.494671635158114\n",
      "MedAE: 1.0823529411764703\n"
     ]
    },
    {
     "name": "stderr",
     "output_type": "stream",
     "text": [
      "C:\\Anaconda3\\lib\\site-packages\\numpy\\core\\fromnumeric.py:2909: RuntimeWarning: Mean of empty slice.\n",
      "  out=out, **kwargs)\n",
      "C:\\Anaconda3\\lib\\site-packages\\numpy\\core\\_methods.py:73: RuntimeWarning: invalid value encountered in true_divide\n",
      "  ret, rcount, out=ret, casting='unsafe', subok=False)\n"
     ]
    }
   ],
   "source": [
    "rnrModel = RadiusNeighborsRegressor(radius=5.8)\n",
    "\n",
    "rnrModel.fit(trainData, trainDependentVariables)\n",
    "\n",
    "predictedDependentVariables = rnrModel.predict(testData)\n",
    "\n",
    "is_nan = np.isnan(predictedDependentVariables)\n",
    "predictedDependentVariables = predictedDependentVariables[~is_nan]\n",
    "print(len(predictedDependentVariables))\n",
    "\n",
    "mse = metrics.mean_squared_error(y_pred=predictedDependentVariables, \n",
    "                                 y_true=testDependentVariables[~is_nan])\n",
    "\n",
    "rmse = np.sqrt(mse)\n",
    "\n",
    "mae = metrics.mean_absolute_error(y_pred=predictedDependentVariables, \n",
    "                                  y_true=testDependentVariables[~is_nan])\n",
    "\n",
    "medae = metrics.median_absolute_error(y_pred=predictedDependentVariables, \n",
    "                                      y_true=testDependentVariables[~is_nan])\n",
    "\n",
    "R2 = metrics.r2_score(y_pred=predictedDependentVariables, \n",
    "                      y_true=testDependentVariables[~is_nan])\n",
    "\n",
    "print(\"MSE:   {}\\nRMSE:  {}\\nR2:    {}\\nMAE:   {}\\nMedAE: {}\".format(mse, rmse, R2, mae, medae))"
   ]
  },
  {
   "cell_type": "markdown",
   "metadata": {},
   "source": [
    "Качество решения получилось ниже без использования признака G1 (ошибка почти в 2 раза больше).\n",
    "Признаки sex, school, subject, G1, absences - имеют наибольшие веса. \n",
    "Наименьший вес у age, famsize, Pstatus, Medu, Fedu, traveltime."
   ]
  },
  {
   "cell_type": "markdown",
   "metadata": {},
   "source": [
    "# Задание 2. Бинарная классификация"
   ]
  },
  {
   "cell_type": "code",
   "execution_count": 212,
   "metadata": {},
   "outputs": [
    {
     "data": {
      "text/html": [
       "<div>\n",
       "<style>\n",
       "    .dataframe thead tr:only-child th {\n",
       "        text-align: right;\n",
       "    }\n",
       "\n",
       "    .dataframe thead th {\n",
       "        text-align: left;\n",
       "    }\n",
       "\n",
       "    .dataframe tbody tr th {\n",
       "        vertical-align: top;\n",
       "    }\n",
       "</style>\n",
       "<table border=\"1\" class=\"dataframe\">\n",
       "  <thead>\n",
       "    <tr style=\"text-align: right;\">\n",
       "      <th></th>\n",
       "      <th>age</th>\n",
       "      <th>famsize</th>\n",
       "      <th>Pstatus</th>\n",
       "      <th>Medu</th>\n",
       "      <th>Fedu</th>\n",
       "      <th>traveltime</th>\n",
       "      <th>studytime</th>\n",
       "      <th>failures</th>\n",
       "      <th>schoolsup</th>\n",
       "      <th>famsup</th>\n",
       "      <th>paid</th>\n",
       "      <th>activities</th>\n",
       "      <th>nursery</th>\n",
       "      <th>higher</th>\n",
       "      <th>internet</th>\n",
       "      <th>romantic</th>\n",
       "      <th>famrel</th>\n",
       "      <th>freetime</th>\n",
       "      <th>goout</th>\n",
       "      <th>Dalc</th>\n",
       "      <th>Walc</th>\n",
       "      <th>health</th>\n",
       "      <th>absences</th>\n",
       "      <th>G3</th>\n",
       "      <th>Por</th>\n",
       "      <th>Math</th>\n",
       "      <th>GP</th>\n",
       "      <th>MS</th>\n",
       "      <th>Male</th>\n",
       "      <th>Female</th>\n",
       "      <th>passed</th>\n",
       "    </tr>\n",
       "  </thead>\n",
       "  <tbody>\n",
       "    <tr>\n",
       "      <th>0</th>\n",
       "      <td>16</td>\n",
       "      <td>1</td>\n",
       "      <td>0</td>\n",
       "      <td>3</td>\n",
       "      <td>4</td>\n",
       "      <td>1</td>\n",
       "      <td>1</td>\n",
       "      <td>0</td>\n",
       "      <td>0</td>\n",
       "      <td>0</td>\n",
       "      <td>0</td>\n",
       "      <td>0</td>\n",
       "      <td>1</td>\n",
       "      <td>1</td>\n",
       "      <td>1</td>\n",
       "      <td>0</td>\n",
       "      <td>3</td>\n",
       "      <td>2</td>\n",
       "      <td>1</td>\n",
       "      <td>1</td>\n",
       "      <td>4</td>\n",
       "      <td>5</td>\n",
       "      <td>12</td>\n",
       "      <td>14</td>\n",
       "      <td>1</td>\n",
       "      <td>0</td>\n",
       "      <td>1</td>\n",
       "      <td>0</td>\n",
       "      <td>0</td>\n",
       "      <td>1</td>\n",
       "      <td>1</td>\n",
       "    </tr>\n",
       "    <tr>\n",
       "      <th>1</th>\n",
       "      <td>17</td>\n",
       "      <td>1</td>\n",
       "      <td>1</td>\n",
       "      <td>3</td>\n",
       "      <td>2</td>\n",
       "      <td>1</td>\n",
       "      <td>2</td>\n",
       "      <td>0</td>\n",
       "      <td>0</td>\n",
       "      <td>0</td>\n",
       "      <td>0</td>\n",
       "      <td>1</td>\n",
       "      <td>0</td>\n",
       "      <td>1</td>\n",
       "      <td>1</td>\n",
       "      <td>0</td>\n",
       "      <td>5</td>\n",
       "      <td>3</td>\n",
       "      <td>4</td>\n",
       "      <td>1</td>\n",
       "      <td>3</td>\n",
       "      <td>3</td>\n",
       "      <td>2</td>\n",
       "      <td>17</td>\n",
       "      <td>1</td>\n",
       "      <td>0</td>\n",
       "      <td>1</td>\n",
       "      <td>0</td>\n",
       "      <td>0</td>\n",
       "      <td>1</td>\n",
       "      <td>1</td>\n",
       "    </tr>\n",
       "    <tr>\n",
       "      <th>2</th>\n",
       "      <td>16</td>\n",
       "      <td>0</td>\n",
       "      <td>1</td>\n",
       "      <td>1</td>\n",
       "      <td>2</td>\n",
       "      <td>2</td>\n",
       "      <td>1</td>\n",
       "      <td>2</td>\n",
       "      <td>0</td>\n",
       "      <td>0</td>\n",
       "      <td>0</td>\n",
       "      <td>0</td>\n",
       "      <td>0</td>\n",
       "      <td>1</td>\n",
       "      <td>1</td>\n",
       "      <td>0</td>\n",
       "      <td>4</td>\n",
       "      <td>4</td>\n",
       "      <td>5</td>\n",
       "      <td>3</td>\n",
       "      <td>5</td>\n",
       "      <td>5</td>\n",
       "      <td>0</td>\n",
       "      <td>10</td>\n",
       "      <td>1</td>\n",
       "      <td>0</td>\n",
       "      <td>1</td>\n",
       "      <td>0</td>\n",
       "      <td>1</td>\n",
       "      <td>0</td>\n",
       "      <td>1</td>\n",
       "    </tr>\n",
       "    <tr>\n",
       "      <th>3</th>\n",
       "      <td>17</td>\n",
       "      <td>1</td>\n",
       "      <td>1</td>\n",
       "      <td>2</td>\n",
       "      <td>3</td>\n",
       "      <td>2</td>\n",
       "      <td>2</td>\n",
       "      <td>0</td>\n",
       "      <td>0</td>\n",
       "      <td>0</td>\n",
       "      <td>0</td>\n",
       "      <td>1</td>\n",
       "      <td>1</td>\n",
       "      <td>1</td>\n",
       "      <td>1</td>\n",
       "      <td>0</td>\n",
       "      <td>4</td>\n",
       "      <td>4</td>\n",
       "      <td>3</td>\n",
       "      <td>1</td>\n",
       "      <td>1</td>\n",
       "      <td>3</td>\n",
       "      <td>4</td>\n",
       "      <td>16</td>\n",
       "      <td>1</td>\n",
       "      <td>0</td>\n",
       "      <td>0</td>\n",
       "      <td>1</td>\n",
       "      <td>1</td>\n",
       "      <td>0</td>\n",
       "      <td>1</td>\n",
       "    </tr>\n",
       "    <tr>\n",
       "      <th>4</th>\n",
       "      <td>16</td>\n",
       "      <td>1</td>\n",
       "      <td>1</td>\n",
       "      <td>1</td>\n",
       "      <td>1</td>\n",
       "      <td>2</td>\n",
       "      <td>1</td>\n",
       "      <td>0</td>\n",
       "      <td>0</td>\n",
       "      <td>1</td>\n",
       "      <td>0</td>\n",
       "      <td>0</td>\n",
       "      <td>1</td>\n",
       "      <td>1</td>\n",
       "      <td>0</td>\n",
       "      <td>0</td>\n",
       "      <td>4</td>\n",
       "      <td>3</td>\n",
       "      <td>2</td>\n",
       "      <td>1</td>\n",
       "      <td>4</td>\n",
       "      <td>5</td>\n",
       "      <td>2</td>\n",
       "      <td>13</td>\n",
       "      <td>1</td>\n",
       "      <td>0</td>\n",
       "      <td>1</td>\n",
       "      <td>0</td>\n",
       "      <td>0</td>\n",
       "      <td>1</td>\n",
       "      <td>1</td>\n",
       "    </tr>\n",
       "    <tr>\n",
       "      <th>5</th>\n",
       "      <td>18</td>\n",
       "      <td>0</td>\n",
       "      <td>1</td>\n",
       "      <td>3</td>\n",
       "      <td>1</td>\n",
       "      <td>2</td>\n",
       "      <td>1</td>\n",
       "      <td>0</td>\n",
       "      <td>0</td>\n",
       "      <td>0</td>\n",
       "      <td>0</td>\n",
       "      <td>1</td>\n",
       "      <td>1</td>\n",
       "      <td>1</td>\n",
       "      <td>1</td>\n",
       "      <td>1</td>\n",
       "      <td>3</td>\n",
       "      <td>3</td>\n",
       "      <td>4</td>\n",
       "      <td>4</td>\n",
       "      <td>5</td>\n",
       "      <td>4</td>\n",
       "      <td>2</td>\n",
       "      <td>12</td>\n",
       "      <td>1</td>\n",
       "      <td>0</td>\n",
       "      <td>1</td>\n",
       "      <td>0</td>\n",
       "      <td>1</td>\n",
       "      <td>0</td>\n",
       "      <td>1</td>\n",
       "    </tr>\n",
       "    <tr>\n",
       "      <th>6</th>\n",
       "      <td>18</td>\n",
       "      <td>1</td>\n",
       "      <td>1</td>\n",
       "      <td>1</td>\n",
       "      <td>1</td>\n",
       "      <td>2</td>\n",
       "      <td>2</td>\n",
       "      <td>0</td>\n",
       "      <td>0</td>\n",
       "      <td>0</td>\n",
       "      <td>0</td>\n",
       "      <td>1</td>\n",
       "      <td>1</td>\n",
       "      <td>1</td>\n",
       "      <td>0</td>\n",
       "      <td>0</td>\n",
       "      <td>1</td>\n",
       "      <td>1</td>\n",
       "      <td>1</td>\n",
       "      <td>1</td>\n",
       "      <td>1</td>\n",
       "      <td>5</td>\n",
       "      <td>6</td>\n",
       "      <td>9</td>\n",
       "      <td>1</td>\n",
       "      <td>0</td>\n",
       "      <td>0</td>\n",
       "      <td>1</td>\n",
       "      <td>0</td>\n",
       "      <td>1</td>\n",
       "      <td>1</td>\n",
       "    </tr>\n",
       "    <tr>\n",
       "      <th>7</th>\n",
       "      <td>15</td>\n",
       "      <td>1</td>\n",
       "      <td>1</td>\n",
       "      <td>4</td>\n",
       "      <td>4</td>\n",
       "      <td>2</td>\n",
       "      <td>1</td>\n",
       "      <td>0</td>\n",
       "      <td>0</td>\n",
       "      <td>0</td>\n",
       "      <td>0</td>\n",
       "      <td>0</td>\n",
       "      <td>1</td>\n",
       "      <td>1</td>\n",
       "      <td>1</td>\n",
       "      <td>1</td>\n",
       "      <td>1</td>\n",
       "      <td>5</td>\n",
       "      <td>1</td>\n",
       "      <td>3</td>\n",
       "      <td>5</td>\n",
       "      <td>5</td>\n",
       "      <td>0</td>\n",
       "      <td>14</td>\n",
       "      <td>1</td>\n",
       "      <td>0</td>\n",
       "      <td>0</td>\n",
       "      <td>1</td>\n",
       "      <td>0</td>\n",
       "      <td>1</td>\n",
       "      <td>1</td>\n",
       "    </tr>\n",
       "    <tr>\n",
       "      <th>8</th>\n",
       "      <td>15</td>\n",
       "      <td>0</td>\n",
       "      <td>1</td>\n",
       "      <td>3</td>\n",
       "      <td>2</td>\n",
       "      <td>1</td>\n",
       "      <td>2</td>\n",
       "      <td>0</td>\n",
       "      <td>0</td>\n",
       "      <td>1</td>\n",
       "      <td>1</td>\n",
       "      <td>0</td>\n",
       "      <td>1</td>\n",
       "      <td>1</td>\n",
       "      <td>1</td>\n",
       "      <td>0</td>\n",
       "      <td>4</td>\n",
       "      <td>4</td>\n",
       "      <td>4</td>\n",
       "      <td>1</td>\n",
       "      <td>1</td>\n",
       "      <td>5</td>\n",
       "      <td>10</td>\n",
       "      <td>6</td>\n",
       "      <td>0</td>\n",
       "      <td>1</td>\n",
       "      <td>1</td>\n",
       "      <td>0</td>\n",
       "      <td>0</td>\n",
       "      <td>1</td>\n",
       "      <td>0</td>\n",
       "    </tr>\n",
       "    <tr>\n",
       "      <th>9</th>\n",
       "      <td>16</td>\n",
       "      <td>1</td>\n",
       "      <td>1</td>\n",
       "      <td>3</td>\n",
       "      <td>4</td>\n",
       "      <td>3</td>\n",
       "      <td>2</td>\n",
       "      <td>0</td>\n",
       "      <td>0</td>\n",
       "      <td>0</td>\n",
       "      <td>0</td>\n",
       "      <td>0</td>\n",
       "      <td>0</td>\n",
       "      <td>1</td>\n",
       "      <td>0</td>\n",
       "      <td>0</td>\n",
       "      <td>3</td>\n",
       "      <td>4</td>\n",
       "      <td>5</td>\n",
       "      <td>1</td>\n",
       "      <td>2</td>\n",
       "      <td>5</td>\n",
       "      <td>4</td>\n",
       "      <td>11</td>\n",
       "      <td>1</td>\n",
       "      <td>0</td>\n",
       "      <td>0</td>\n",
       "      <td>1</td>\n",
       "      <td>1</td>\n",
       "      <td>0</td>\n",
       "      <td>1</td>\n",
       "    </tr>\n",
       "  </tbody>\n",
       "</table>\n",
       "</div>"
      ],
      "text/plain": [
       "   age famsize Pstatus  Medu  Fedu  traveltime  studytime  failures schoolsup  \\\n",
       "0  16   1       0       3     4     1           1          0         0          \n",
       "1  17   1       1       3     2     1           2          0         0          \n",
       "2  16   0       1       1     2     2           1          2         0          \n",
       "3  17   1       1       2     3     2           2          0         0          \n",
       "4  16   1       1       1     1     2           1          0         0          \n",
       "5  18   0       1       3     1     2           1          0         0          \n",
       "6  18   1       1       1     1     2           2          0         0          \n",
       "7  15   1       1       4     4     2           1          0         0          \n",
       "8  15   0       1       3     2     1           2          0         0          \n",
       "9  16   1       1       3     4     3           2          0         0          \n",
       "\n",
       "  famsup paid activities nursery higher internet romantic  famrel  freetime  \\\n",
       "0  0      0    0          1       1      1        0        3       2          \n",
       "1  0      0    1          0       1      1        0        5       3          \n",
       "2  0      0    0          0       1      1        0        4       4          \n",
       "3  0      0    1          1       1      1        0        4       4          \n",
       "4  1      0    0          1       1      0        0        4       3          \n",
       "5  0      0    1          1       1      1        1        3       3          \n",
       "6  0      0    1          1       1      0        0        1       1          \n",
       "7  0      0    0          1       1      1        1        1       5          \n",
       "8  1      1    0          1       1      1        0        4       4          \n",
       "9  0      0    0          0       1      0        0        3       4          \n",
       "\n",
       "   goout  Dalc  Walc  health  absences  G3 Por Math GP MS Male Female  passed  \n",
       "0  1      1     4     5       12        14  1   0    1  0  0    1      1       \n",
       "1  4      1     3     3       2         17  1   0    1  0  0    1      1       \n",
       "2  5      3     5     5       0         10  1   0    1  0  1    0      1       \n",
       "3  3      1     1     3       4         16  1   0    0  1  1    0      1       \n",
       "4  2      1     4     5       2         13  1   0    1  0  0    1      1       \n",
       "5  4      4     5     4       2         12  1   0    1  0  1    0      1       \n",
       "6  1      1     1     5       6         9   1   0    0  1  0    1      1       \n",
       "7  1      3     5     5       0         14  1   0    0  1  0    1      1       \n",
       "8  4      1     1     5       10        6   0   1    1  0  0    1      0       \n",
       "9  5      1     2     5       4         11  1   0    0  1  1    0      1       "
      ]
     },
     "execution_count": 212,
     "metadata": {},
     "output_type": "execute_result"
    }
   ],
   "source": [
    "data2['passed'] = data2['G3']\n",
    "data2.loc[data2['passed'] < 8, 'passed'] = 0\n",
    "data2.loc[data2['passed'] >= 8, 'passed'] = 1\n",
    "data2.head(10)"
   ]
  },
  {
   "cell_type": "code",
   "execution_count": 213,
   "metadata": {
    "collapsed": true
   },
   "outputs": [],
   "source": [
    "(trainData, \n",
    " testData, \n",
    " trainDependentVariables, \n",
    " testDependentVariables) = train_test_split(data2.drop('passed', axis=1),\n",
    "                                            data2['passed'],\n",
    "                                            test_size=0.3, \n",
    "                                            random_state=5)"
   ]
  },
  {
   "cell_type": "markdown",
   "metadata": {},
   "source": [
    "# KNN"
   ]
  },
  {
   "cell_type": "code",
   "execution_count": 9,
   "metadata": {
    "collapsed": true
   },
   "outputs": [],
   "source": [
    "from sklearn.neighbors import KNeighborsClassifier\n",
    "from sklearn.model_selection import cross_val_score"
   ]
  },
  {
   "cell_type": "code",
   "execution_count": 214,
   "metadata": {},
   "outputs": [
    {
     "data": {
      "text/plain": [
       "KNeighborsClassifier(algorithm='auto', leaf_size=30, metric='minkowski',\n",
       "           metric_params=None, n_jobs=1, n_neighbors=5, p=2,\n",
       "           weights='uniform')"
      ]
     },
     "execution_count": 214,
     "metadata": {},
     "output_type": "execute_result"
    }
   ],
   "source": [
    "knnKlass = KNeighborsClassifier(n_neighbors=5)\n",
    "knnKlass.fit(trainData, trainDependentVariables)\n",
    "#cross_val_score(knnKlass, trainData, trainDependentVariables)"
   ]
  },
  {
   "cell_type": "code",
   "execution_count": 215,
   "metadata": {},
   "outputs": [
    {
     "data": {
      "text/plain": [
       "array([1, 1, 1, 1, 1, 1, 1, 1, 1, 1, 1, 1, 1, 1, 1, 1, 1, 1, 1, 1, 1, 1, 1,\n",
       "       1, 1, 1, 1, 1, 1, 1, 1, 1, 0, 1, 1, 0, 1, 1, 1, 0, 1, 1, 1, 1, 1, 1,\n",
       "       1, 0, 1, 1, 0, 1, 1, 1, 1, 1, 1, 1, 1, 1, 1, 1, 1, 1, 1, 1, 1, 1, 1,\n",
       "       1, 1, 1, 1, 1, 1, 1, 1, 1, 1, 1, 0, 1, 1, 1, 1, 1, 1, 1, 1, 1, 1, 1,\n",
       "       1, 1, 1, 1, 1, 1, 1, 1, 1, 1, 1, 1, 1, 0, 1, 1, 1, 1, 1, 1, 1, 1, 1,\n",
       "       1, 1, 1, 1, 1, 1, 1, 1, 1, 1, 1, 1, 1, 1, 1, 1, 1, 1, 1, 0, 1, 1, 1,\n",
       "       1, 1, 1, 1, 1, 1, 1, 1, 1, 1, 1, 1, 1, 1, 1, 1, 1, 1, 1, 1, 1, 1, 1,\n",
       "       1, 1, 1, 1, 1, 1, 1, 1, 0, 1, 1, 1, 1, 1, 1, 0, 1, 1, 1, 1, 1, 1, 1,\n",
       "       0, 1, 1, 1, 1, 1, 1, 1, 1, 1, 1, 1, 1, 1, 0, 1, 1, 1, 0, 1, 1, 1, 1,\n",
       "       1, 1, 1, 1, 1, 1, 0, 1, 1, 1, 1, 1, 1, 1, 1, 1, 1, 1, 0, 1, 1, 1, 1,\n",
       "       0, 1, 1, 1, 1, 1, 1, 1, 0, 1, 1, 1, 1, 1, 1, 1, 1, 1, 1, 1, 1, 1, 1,\n",
       "       1, 1, 1, 1, 1, 1, 1, 1, 1, 1, 1, 1, 1, 1, 1, 1, 1, 1, 1, 1, 1, 1, 1,\n",
       "       1, 1, 1, 1, 1, 1, 1, 1, 1, 1, 1, 1, 1, 1, 0, 1, 1, 1, 1, 0, 1, 1, 1,\n",
       "       1, 1, 1, 1, 1, 1, 0, 1, 1, 1, 1, 1, 1, 0, 1], dtype=int64)"
      ]
     },
     "execution_count": 215,
     "metadata": {},
     "output_type": "execute_result"
    }
   ],
   "source": [
    "predictedDependentVariables = knnKlass.predict(testData)\n",
    "predictedDependentVariables"
   ]
  },
  {
   "cell_type": "code",
   "execution_count": 216,
   "metadata": {},
   "outputs": [
    {
     "name": "stdout",
     "output_type": "stream",
     "text": [
      "             precision    recall  f1-score   support\n",
      "\n",
      "          0       0.95      0.77      0.85        26\n",
      "          1       0.98      1.00      0.99       288\n",
      "\n",
      "avg / total       0.98      0.98      0.98       314\n",
      "\n"
     ]
    }
   ],
   "source": [
    "print(metrics.classification_report(testDependentVariables, predictedDependentVariables))"
   ]
  },
  {
   "cell_type": "markdown",
   "metadata": {},
   "source": [
    "Кросс-валидация на основе метрики Accuracy:"
   ]
  },
  {
   "cell_type": "code",
   "execution_count": 217,
   "metadata": {},
   "outputs": [
    {
     "name": "stdout",
     "output_type": "stream",
     "text": [
      "6\n",
      "0.97397260274\n"
     ]
    }
   ],
   "source": [
    "accuracy = 0\n",
    "param = 0\n",
    "for i in range(5, 20):\n",
    "    error = 0\n",
    "    kf = KFold(n_splits = 5, shuffle = True)\n",
    "    knnKlass = KNeighborsClassifier(n_neighbors=i)\n",
    "        \n",
    "    for train_index, test_index in kf.split(trainData):\n",
    "            knnKlass.fit(trainData.iloc[train_index], trainDependentVariables.iloc[train_index])\n",
    "            predictedDependentVariables = knnKlass.predict(trainData.iloc[test_index])\n",
    "            error += metrics.accuracy_score(trainDependentVariables.iloc[test_index], predictedDependentVariables)\n",
    "            \n",
    "    error = error/5;\n",
    "    #print(error)\n",
    "    if (error > accuracy):\n",
    "        accuracy = error\n",
    "        param = i\n",
    "print(param)\n",
    "print(accuracy)"
   ]
  },
  {
   "cell_type": "code",
   "execution_count": 219,
   "metadata": {},
   "outputs": [
    {
     "name": "stdout",
     "output_type": "stream",
     "text": [
      "leaf_size  5\n"
     ]
    }
   ],
   "source": [
    "minEr = 0\n",
    "param = 0\n",
    "for i in range(5, 50):\n",
    "    knnKlass = KNeighborsClassifier(n_neighbors=6, leaf_size=i)\n",
    "    knnKlass.fit(trainData, trainDependentVariables)\n",
    "    predictedDependentVariables = knnKlass.predict(testData)\n",
    "    #print(metrics.accuracy_score(testDependentVariables, predictedDependentVariables))\n",
    "    if (metrics.accuracy_score(testDependentVariables, predictedDependentVariables) > minEr):\n",
    "        minEr = metrics.accuracy_score(testDependentVariables, predictedDependentVariables)\n",
    "        param = i\n",
    "print(\"leaf_size \",param) "
   ]
  },
  {
   "cell_type": "code",
   "execution_count": 220,
   "metadata": {},
   "outputs": [
    {
     "name": "stdout",
     "output_type": "stream",
     "text": [
      "             precision    recall  f1-score   support\n",
      "\n",
      "          0       0.95      0.81      0.88        26\n",
      "          1       0.98      1.00      0.99       288\n",
      "\n",
      "avg / total       0.98      0.98      0.98       314\n",
      "\n"
     ]
    }
   ],
   "source": [
    "knnKlass = KNeighborsClassifier(n_neighbors=6, leaf_size=5)\n",
    "knnKlass.fit(trainData, trainDependentVariables)\n",
    "predictedDependentVariables = knnKlass.predict(testData)\n",
    "print(metrics.classification_report(testDependentVariables, predictedDependentVariables))"
   ]
  },
  {
   "cell_type": "markdown",
   "metadata": {},
   "source": [
    "# Radius"
   ]
  },
  {
   "cell_type": "code",
   "execution_count": 152,
   "metadata": {
    "collapsed": true
   },
   "outputs": [],
   "source": [
    "from sklearn.neighbors import RadiusNeighborsClassifier"
   ]
  },
  {
   "cell_type": "code",
   "execution_count": 222,
   "metadata": {},
   "outputs": [
    {
     "data": {
      "text/plain": [
       "RadiusNeighborsClassifier(algorithm='auto', leaf_size=30, metric='minkowski',\n",
       "             metric_params=None, outlier_label=None, p=2, radius=8,\n",
       "             weights='uniform')"
      ]
     },
     "execution_count": 222,
     "metadata": {},
     "output_type": "execute_result"
    }
   ],
   "source": [
    "radClass = RadiusNeighborsClassifier(radius=8)\n",
    "radClass.fit(trainData, trainDependentVariables)"
   ]
  },
  {
   "cell_type": "code",
   "execution_count": 223,
   "metadata": {},
   "outputs": [
    {
     "data": {
      "text/plain": [
       "314"
      ]
     },
     "execution_count": 223,
     "metadata": {},
     "output_type": "execute_result"
    }
   ],
   "source": [
    "predictedDependentVariables = radClass.predict(testData)\n",
    "is_nan = np.isnan(predictedDependentVariables)\n",
    "predictedDependentVariables = predictedDependentVariables[~is_nan]\n",
    "len(predictedDependentVariables)"
   ]
  },
  {
   "cell_type": "code",
   "execution_count": 224,
   "metadata": {},
   "outputs": [
    {
     "name": "stdout",
     "output_type": "stream",
     "text": [
      "             precision    recall  f1-score   support\n",
      "\n",
      "          0       1.00      0.62      0.76        26\n",
      "          1       0.97      1.00      0.98       288\n",
      "\n",
      "avg / total       0.97      0.97      0.96       314\n",
      "\n"
     ]
    }
   ],
   "source": [
    "print(metrics.classification_report(testDependentVariables, predictedDependentVariables))"
   ]
  },
  {
   "cell_type": "markdown",
   "metadata": {},
   "source": [
    "# LogisticRegression"
   ]
  },
  {
   "cell_type": "code",
   "execution_count": 156,
   "metadata": {
    "collapsed": true
   },
   "outputs": [],
   "source": [
    "from sklearn.linear_model import LogisticRegression"
   ]
  },
  {
   "cell_type": "code",
   "execution_count": 157,
   "metadata": {},
   "outputs": [
    {
     "data": {
      "text/plain": [
       "LogisticRegression(C=1.0, class_weight=None, dual=False, fit_intercept=True,\n",
       "          intercept_scaling=1, max_iter=100, multi_class='ovr', n_jobs=1,\n",
       "          penalty='l2', random_state=None, solver='liblinear', tol=0.0001,\n",
       "          verbose=0, warm_start=False)"
      ]
     },
     "execution_count": 157,
     "metadata": {},
     "output_type": "execute_result"
    }
   ],
   "source": [
    "logClass = LogisticRegression()\n",
    "logClass.fit(trainData, trainDependentVariables)"
   ]
  },
  {
   "cell_type": "code",
   "execution_count": 158,
   "metadata": {},
   "outputs": [
    {
     "data": {
      "text/plain": [
       "array([1, 1, 1, 1, 1, 1, 1, 1, 1, 1, 1, 1, 1, 1, 1, 1, 1, 1, 1, 1, 1, 1, 1,\n",
       "       1, 1, 1, 1, 1, 1, 1, 1, 1, 0, 1, 1, 0, 1, 1, 1, 0, 1, 1, 1, 1, 1, 1,\n",
       "       1, 0, 1, 1, 0, 1, 1, 1, 1, 1, 1, 1, 1, 1, 1, 1, 1, 1, 1, 1, 1, 0, 1,\n",
       "       1, 1, 1, 1, 1, 1, 1, 1, 1, 1, 1, 1, 1, 1, 1, 1, 1, 1, 1, 1, 1, 1, 1,\n",
       "       1, 1, 1, 1, 1, 1, 1, 1, 1, 1, 1, 1, 1, 0, 1, 1, 1, 1, 1, 1, 1, 1, 1,\n",
       "       1, 1, 1, 1, 1, 1, 1, 1, 1, 1, 1, 1, 1, 1, 1, 1, 1, 1, 1, 0, 1, 1, 1,\n",
       "       1, 1, 1, 1, 1, 1, 0, 1, 1, 1, 1, 1, 1, 1, 1, 1, 1, 1, 1, 1, 1, 1, 1,\n",
       "       1, 1, 1, 1, 1, 1, 1, 1, 0, 1, 1, 1, 1, 1, 1, 0, 1, 1, 1, 1, 1, 1, 1,\n",
       "       0, 1, 1, 1, 1, 1, 1, 1, 1, 1, 1, 1, 1, 1, 0, 1, 1, 1, 0, 1, 1, 1, 1,\n",
       "       1, 1, 1, 1, 1, 1, 0, 1, 1, 1, 1, 1, 1, 1, 1, 1, 1, 1, 0, 1, 1, 1, 1,\n",
       "       0, 1, 1, 1, 1, 1, 1, 1, 0, 1, 1, 1, 1, 1, 1, 1, 1, 1, 1, 1, 1, 1, 1,\n",
       "       1, 1, 1, 1, 1, 1, 1, 1, 1, 1, 1, 1, 1, 1, 1, 1, 1, 1, 1, 0, 1, 1, 1,\n",
       "       1, 1, 1, 1, 1, 1, 1, 1, 1, 1, 1, 1, 1, 1, 0, 1, 1, 1, 1, 1, 1, 1, 1,\n",
       "       1, 1, 1, 1, 1, 1, 0, 1, 1, 1, 1, 1, 1, 0, 1], dtype=int64)"
      ]
     },
     "execution_count": 158,
     "metadata": {},
     "output_type": "execute_result"
    }
   ],
   "source": [
    "predictedDependentVariables = logClass.predict(testData)\n",
    "predictedDependentVariables"
   ]
  },
  {
   "cell_type": "code",
   "execution_count": 159,
   "metadata": {},
   "outputs": [
    {
     "name": "stdout",
     "output_type": "stream",
     "text": [
      "             precision    recall  f1-score   support\n",
      "\n",
      "          0       1.00      0.85      0.92        26\n",
      "          1       0.99      1.00      0.99       288\n",
      "\n",
      "avg / total       0.99      0.99      0.99       314\n",
      "\n"
     ]
    }
   ],
   "source": [
    "print(metrics.classification_report(testDependentVariables, predictedDependentVariables))"
   ]
  },
  {
   "cell_type": "markdown",
   "metadata": {},
   "source": [
    "# DecisionTree"
   ]
  },
  {
   "cell_type": "code",
   "execution_count": 250,
   "metadata": {
    "collapsed": true
   },
   "outputs": [],
   "source": [
    "from sklearn.tree import DecisionTreeClassifier"
   ]
  },
  {
   "cell_type": "code",
   "execution_count": 251,
   "metadata": {},
   "outputs": [
    {
     "data": {
      "text/plain": [
       "DecisionTreeClassifier(class_weight=None, criterion='gini', max_depth=None,\n",
       "            max_features=None, max_leaf_nodes=None,\n",
       "            min_impurity_decrease=0.0, min_impurity_split=None,\n",
       "            min_samples_leaf=1, min_samples_split=2,\n",
       "            min_weight_fraction_leaf=0.0, presort=False, random_state=None,\n",
       "            splitter='best')"
      ]
     },
     "execution_count": 251,
     "metadata": {},
     "output_type": "execute_result"
    }
   ],
   "source": [
    "dtree_model = DecisionTreeClassifier()\n",
    "\n",
    "dtree_model.fit(trainData, trainDependentVariables)"
   ]
  },
  {
   "cell_type": "code",
   "execution_count": 254,
   "metadata": {},
   "outputs": [
    {
     "data": {
      "text/plain": [
       "array([1, 1, 1, 1, 1, 1, 1, 1, 1, 1, 1, 1, 1, 1, 1, 1, 1, 1, 1, 1, 1, 1, 1,\n",
       "       1, 1, 1, 1, 1, 1, 1, 1, 1, 0, 1, 1, 0, 1, 1, 1, 0, 1, 1, 1, 1, 1, 1,\n",
       "       1, 0, 1, 1, 0, 1, 1, 1, 1, 1, 1, 1, 1, 1, 1, 1, 1, 1, 1, 1, 1, 0, 1,\n",
       "       1, 1, 1, 1, 1, 1, 1, 1, 1, 1, 1, 1, 1, 1, 1, 1, 1, 1, 1, 1, 1, 1, 1,\n",
       "       1, 1, 1, 1, 1, 1, 1, 1, 1, 1, 1, 1, 1, 0, 1, 1, 1, 1, 1, 1, 1, 1, 1,\n",
       "       1, 1, 1, 1, 1, 1, 1, 1, 1, 1, 1, 1, 1, 1, 1, 1, 1, 1, 1, 0, 1, 1, 1,\n",
       "       1, 1, 1, 1, 1, 1, 0, 1, 1, 1, 1, 1, 1, 1, 0, 1, 1, 1, 1, 1, 1, 1, 1,\n",
       "       1, 1, 1, 1, 1, 1, 1, 1, 0, 1, 1, 1, 1, 1, 1, 0, 1, 1, 1, 1, 1, 1, 0,\n",
       "       0, 1, 1, 1, 1, 1, 1, 1, 1, 1, 1, 1, 1, 1, 0, 1, 1, 1, 0, 1, 1, 1, 1,\n",
       "       1, 1, 1, 1, 1, 1, 0, 1, 1, 1, 1, 1, 1, 1, 1, 1, 1, 1, 0, 1, 1, 1, 1,\n",
       "       0, 1, 1, 1, 1, 1, 1, 1, 0, 1, 1, 1, 1, 1, 1, 1, 1, 1, 1, 1, 1, 1, 1,\n",
       "       1, 1, 1, 1, 1, 1, 1, 1, 1, 1, 1, 1, 1, 1, 1, 1, 1, 1, 1, 0, 1, 1, 1,\n",
       "       1, 1, 1, 1, 1, 1, 1, 1, 1, 1, 1, 1, 1, 1, 0, 1, 0, 1, 1, 0, 1, 1, 1,\n",
       "       1, 1, 1, 1, 1, 1, 0, 1, 1, 1, 1, 1, 1, 0, 1], dtype=int64)"
      ]
     },
     "execution_count": 254,
     "metadata": {},
     "output_type": "execute_result"
    }
   ],
   "source": [
    "predictedDenendentVariable = dtree_model.predict(testData)\n",
    "predictedDenendentVariable"
   ]
  },
  {
   "cell_type": "code",
   "execution_count": 255,
   "metadata": {},
   "outputs": [
    {
     "name": "stdout",
     "output_type": "stream",
     "text": [
      "             precision    recall  f1-score   support\n",
      "\n",
      "          0       1.00      1.00      1.00        26\n",
      "          1       1.00      1.00      1.00       288\n",
      "\n",
      "avg / total       1.00      1.00      1.00       314\n",
      "\n"
     ]
    }
   ],
   "source": [
    "print(metrics.classification_report(testDependentVariables, predictedDenendentVariable))"
   ]
  },
  {
   "cell_type": "code",
   "execution_count": 256,
   "metadata": {},
   "outputs": [
    {
     "data": {
      "text/plain": [
       "1.0"
      ]
     },
     "execution_count": 256,
     "metadata": {},
     "output_type": "execute_result"
    }
   ],
   "source": [
    "metrics.accuracy_score(testDependentVariables, predictedDenendentVariable)"
   ]
  },
  {
   "cell_type": "markdown",
   "metadata": {
    "collapsed": true
   },
   "source": [
    "# Задание 3. Многоклассовая классификация"
   ]
  },
  {
   "cell_type": "code",
   "execution_count": 257,
   "metadata": {},
   "outputs": [
    {
     "data": {
      "text/html": [
       "<div>\n",
       "<style>\n",
       "    .dataframe thead tr:only-child th {\n",
       "        text-align: right;\n",
       "    }\n",
       "\n",
       "    .dataframe thead th {\n",
       "        text-align: left;\n",
       "    }\n",
       "\n",
       "    .dataframe tbody tr th {\n",
       "        vertical-align: top;\n",
       "    }\n",
       "</style>\n",
       "<table border=\"1\" class=\"dataframe\">\n",
       "  <thead>\n",
       "    <tr style=\"text-align: right;\">\n",
       "      <th></th>\n",
       "      <th>age</th>\n",
       "      <th>famsize</th>\n",
       "      <th>Pstatus</th>\n",
       "      <th>Medu</th>\n",
       "      <th>Fedu</th>\n",
       "      <th>traveltime</th>\n",
       "      <th>studytime</th>\n",
       "      <th>failures</th>\n",
       "      <th>schoolsup</th>\n",
       "      <th>famsup</th>\n",
       "      <th>paid</th>\n",
       "      <th>activities</th>\n",
       "      <th>nursery</th>\n",
       "      <th>higher</th>\n",
       "      <th>internet</th>\n",
       "      <th>romantic</th>\n",
       "      <th>famrel</th>\n",
       "      <th>freetime</th>\n",
       "      <th>goout</th>\n",
       "      <th>Dalc</th>\n",
       "      <th>Walc</th>\n",
       "      <th>health</th>\n",
       "      <th>absences</th>\n",
       "      <th>G3</th>\n",
       "      <th>Por</th>\n",
       "      <th>Math</th>\n",
       "      <th>GP</th>\n",
       "      <th>MS</th>\n",
       "      <th>Male</th>\n",
       "      <th>Female</th>\n",
       "      <th>passed</th>\n",
       "      <th>grade</th>\n",
       "    </tr>\n",
       "  </thead>\n",
       "  <tbody>\n",
       "    <tr>\n",
       "      <th>0</th>\n",
       "      <td>16</td>\n",
       "      <td>1</td>\n",
       "      <td>0</td>\n",
       "      <td>3</td>\n",
       "      <td>4</td>\n",
       "      <td>1</td>\n",
       "      <td>1</td>\n",
       "      <td>0</td>\n",
       "      <td>0</td>\n",
       "      <td>0</td>\n",
       "      <td>0</td>\n",
       "      <td>0</td>\n",
       "      <td>1</td>\n",
       "      <td>1</td>\n",
       "      <td>1</td>\n",
       "      <td>0</td>\n",
       "      <td>3</td>\n",
       "      <td>2</td>\n",
       "      <td>1</td>\n",
       "      <td>1</td>\n",
       "      <td>4</td>\n",
       "      <td>5</td>\n",
       "      <td>12</td>\n",
       "      <td>14</td>\n",
       "      <td>1</td>\n",
       "      <td>0</td>\n",
       "      <td>1</td>\n",
       "      <td>0</td>\n",
       "      <td>0</td>\n",
       "      <td>1</td>\n",
       "      <td>1</td>\n",
       "      <td>4</td>\n",
       "    </tr>\n",
       "    <tr>\n",
       "      <th>1</th>\n",
       "      <td>17</td>\n",
       "      <td>1</td>\n",
       "      <td>1</td>\n",
       "      <td>3</td>\n",
       "      <td>2</td>\n",
       "      <td>1</td>\n",
       "      <td>2</td>\n",
       "      <td>0</td>\n",
       "      <td>0</td>\n",
       "      <td>0</td>\n",
       "      <td>0</td>\n",
       "      <td>1</td>\n",
       "      <td>0</td>\n",
       "      <td>1</td>\n",
       "      <td>1</td>\n",
       "      <td>0</td>\n",
       "      <td>5</td>\n",
       "      <td>3</td>\n",
       "      <td>4</td>\n",
       "      <td>1</td>\n",
       "      <td>3</td>\n",
       "      <td>3</td>\n",
       "      <td>2</td>\n",
       "      <td>17</td>\n",
       "      <td>1</td>\n",
       "      <td>0</td>\n",
       "      <td>1</td>\n",
       "      <td>0</td>\n",
       "      <td>0</td>\n",
       "      <td>1</td>\n",
       "      <td>1</td>\n",
       "      <td>4</td>\n",
       "    </tr>\n",
       "    <tr>\n",
       "      <th>2</th>\n",
       "      <td>16</td>\n",
       "      <td>0</td>\n",
       "      <td>1</td>\n",
       "      <td>1</td>\n",
       "      <td>2</td>\n",
       "      <td>2</td>\n",
       "      <td>1</td>\n",
       "      <td>2</td>\n",
       "      <td>0</td>\n",
       "      <td>0</td>\n",
       "      <td>0</td>\n",
       "      <td>0</td>\n",
       "      <td>0</td>\n",
       "      <td>1</td>\n",
       "      <td>1</td>\n",
       "      <td>0</td>\n",
       "      <td>4</td>\n",
       "      <td>4</td>\n",
       "      <td>5</td>\n",
       "      <td>3</td>\n",
       "      <td>5</td>\n",
       "      <td>5</td>\n",
       "      <td>0</td>\n",
       "      <td>10</td>\n",
       "      <td>1</td>\n",
       "      <td>0</td>\n",
       "      <td>1</td>\n",
       "      <td>0</td>\n",
       "      <td>1</td>\n",
       "      <td>0</td>\n",
       "      <td>1</td>\n",
       "      <td>3</td>\n",
       "    </tr>\n",
       "    <tr>\n",
       "      <th>3</th>\n",
       "      <td>17</td>\n",
       "      <td>1</td>\n",
       "      <td>1</td>\n",
       "      <td>2</td>\n",
       "      <td>3</td>\n",
       "      <td>2</td>\n",
       "      <td>2</td>\n",
       "      <td>0</td>\n",
       "      <td>0</td>\n",
       "      <td>0</td>\n",
       "      <td>0</td>\n",
       "      <td>1</td>\n",
       "      <td>1</td>\n",
       "      <td>1</td>\n",
       "      <td>1</td>\n",
       "      <td>0</td>\n",
       "      <td>4</td>\n",
       "      <td>4</td>\n",
       "      <td>3</td>\n",
       "      <td>1</td>\n",
       "      <td>1</td>\n",
       "      <td>3</td>\n",
       "      <td>4</td>\n",
       "      <td>16</td>\n",
       "      <td>1</td>\n",
       "      <td>0</td>\n",
       "      <td>0</td>\n",
       "      <td>1</td>\n",
       "      <td>1</td>\n",
       "      <td>0</td>\n",
       "      <td>1</td>\n",
       "      <td>4</td>\n",
       "    </tr>\n",
       "    <tr>\n",
       "      <th>4</th>\n",
       "      <td>16</td>\n",
       "      <td>1</td>\n",
       "      <td>1</td>\n",
       "      <td>1</td>\n",
       "      <td>1</td>\n",
       "      <td>2</td>\n",
       "      <td>1</td>\n",
       "      <td>0</td>\n",
       "      <td>0</td>\n",
       "      <td>1</td>\n",
       "      <td>0</td>\n",
       "      <td>0</td>\n",
       "      <td>1</td>\n",
       "      <td>1</td>\n",
       "      <td>0</td>\n",
       "      <td>0</td>\n",
       "      <td>4</td>\n",
       "      <td>3</td>\n",
       "      <td>2</td>\n",
       "      <td>1</td>\n",
       "      <td>4</td>\n",
       "      <td>5</td>\n",
       "      <td>2</td>\n",
       "      <td>13</td>\n",
       "      <td>1</td>\n",
       "      <td>0</td>\n",
       "      <td>1</td>\n",
       "      <td>0</td>\n",
       "      <td>0</td>\n",
       "      <td>1</td>\n",
       "      <td>1</td>\n",
       "      <td>3</td>\n",
       "    </tr>\n",
       "    <tr>\n",
       "      <th>5</th>\n",
       "      <td>18</td>\n",
       "      <td>0</td>\n",
       "      <td>1</td>\n",
       "      <td>3</td>\n",
       "      <td>1</td>\n",
       "      <td>2</td>\n",
       "      <td>1</td>\n",
       "      <td>0</td>\n",
       "      <td>0</td>\n",
       "      <td>0</td>\n",
       "      <td>0</td>\n",
       "      <td>1</td>\n",
       "      <td>1</td>\n",
       "      <td>1</td>\n",
       "      <td>1</td>\n",
       "      <td>1</td>\n",
       "      <td>3</td>\n",
       "      <td>3</td>\n",
       "      <td>4</td>\n",
       "      <td>4</td>\n",
       "      <td>5</td>\n",
       "      <td>4</td>\n",
       "      <td>2</td>\n",
       "      <td>12</td>\n",
       "      <td>1</td>\n",
       "      <td>0</td>\n",
       "      <td>1</td>\n",
       "      <td>0</td>\n",
       "      <td>1</td>\n",
       "      <td>0</td>\n",
       "      <td>1</td>\n",
       "      <td>3</td>\n",
       "    </tr>\n",
       "    <tr>\n",
       "      <th>6</th>\n",
       "      <td>18</td>\n",
       "      <td>1</td>\n",
       "      <td>1</td>\n",
       "      <td>1</td>\n",
       "      <td>1</td>\n",
       "      <td>2</td>\n",
       "      <td>2</td>\n",
       "      <td>0</td>\n",
       "      <td>0</td>\n",
       "      <td>0</td>\n",
       "      <td>0</td>\n",
       "      <td>1</td>\n",
       "      <td>1</td>\n",
       "      <td>1</td>\n",
       "      <td>0</td>\n",
       "      <td>0</td>\n",
       "      <td>1</td>\n",
       "      <td>1</td>\n",
       "      <td>1</td>\n",
       "      <td>1</td>\n",
       "      <td>1</td>\n",
       "      <td>5</td>\n",
       "      <td>6</td>\n",
       "      <td>9</td>\n",
       "      <td>1</td>\n",
       "      <td>0</td>\n",
       "      <td>0</td>\n",
       "      <td>1</td>\n",
       "      <td>0</td>\n",
       "      <td>1</td>\n",
       "      <td>1</td>\n",
       "      <td>3</td>\n",
       "    </tr>\n",
       "    <tr>\n",
       "      <th>7</th>\n",
       "      <td>15</td>\n",
       "      <td>1</td>\n",
       "      <td>1</td>\n",
       "      <td>4</td>\n",
       "      <td>4</td>\n",
       "      <td>2</td>\n",
       "      <td>1</td>\n",
       "      <td>0</td>\n",
       "      <td>0</td>\n",
       "      <td>0</td>\n",
       "      <td>0</td>\n",
       "      <td>0</td>\n",
       "      <td>1</td>\n",
       "      <td>1</td>\n",
       "      <td>1</td>\n",
       "      <td>1</td>\n",
       "      <td>1</td>\n",
       "      <td>5</td>\n",
       "      <td>1</td>\n",
       "      <td>3</td>\n",
       "      <td>5</td>\n",
       "      <td>5</td>\n",
       "      <td>0</td>\n",
       "      <td>14</td>\n",
       "      <td>1</td>\n",
       "      <td>0</td>\n",
       "      <td>0</td>\n",
       "      <td>1</td>\n",
       "      <td>0</td>\n",
       "      <td>1</td>\n",
       "      <td>1</td>\n",
       "      <td>4</td>\n",
       "    </tr>\n",
       "    <tr>\n",
       "      <th>8</th>\n",
       "      <td>15</td>\n",
       "      <td>0</td>\n",
       "      <td>1</td>\n",
       "      <td>3</td>\n",
       "      <td>2</td>\n",
       "      <td>1</td>\n",
       "      <td>2</td>\n",
       "      <td>0</td>\n",
       "      <td>0</td>\n",
       "      <td>1</td>\n",
       "      <td>1</td>\n",
       "      <td>0</td>\n",
       "      <td>1</td>\n",
       "      <td>1</td>\n",
       "      <td>1</td>\n",
       "      <td>0</td>\n",
       "      <td>4</td>\n",
       "      <td>4</td>\n",
       "      <td>4</td>\n",
       "      <td>1</td>\n",
       "      <td>1</td>\n",
       "      <td>5</td>\n",
       "      <td>10</td>\n",
       "      <td>6</td>\n",
       "      <td>0</td>\n",
       "      <td>1</td>\n",
       "      <td>1</td>\n",
       "      <td>0</td>\n",
       "      <td>0</td>\n",
       "      <td>1</td>\n",
       "      <td>0</td>\n",
       "      <td>2</td>\n",
       "    </tr>\n",
       "    <tr>\n",
       "      <th>9</th>\n",
       "      <td>16</td>\n",
       "      <td>1</td>\n",
       "      <td>1</td>\n",
       "      <td>3</td>\n",
       "      <td>4</td>\n",
       "      <td>3</td>\n",
       "      <td>2</td>\n",
       "      <td>0</td>\n",
       "      <td>0</td>\n",
       "      <td>0</td>\n",
       "      <td>0</td>\n",
       "      <td>0</td>\n",
       "      <td>0</td>\n",
       "      <td>1</td>\n",
       "      <td>0</td>\n",
       "      <td>0</td>\n",
       "      <td>3</td>\n",
       "      <td>4</td>\n",
       "      <td>5</td>\n",
       "      <td>1</td>\n",
       "      <td>2</td>\n",
       "      <td>5</td>\n",
       "      <td>4</td>\n",
       "      <td>11</td>\n",
       "      <td>1</td>\n",
       "      <td>0</td>\n",
       "      <td>0</td>\n",
       "      <td>1</td>\n",
       "      <td>1</td>\n",
       "      <td>0</td>\n",
       "      <td>1</td>\n",
       "      <td>3</td>\n",
       "    </tr>\n",
       "    <tr>\n",
       "      <th>10</th>\n",
       "      <td>15</td>\n",
       "      <td>0</td>\n",
       "      <td>1</td>\n",
       "      <td>4</td>\n",
       "      <td>4</td>\n",
       "      <td>1</td>\n",
       "      <td>1</td>\n",
       "      <td>0</td>\n",
       "      <td>0</td>\n",
       "      <td>1</td>\n",
       "      <td>0</td>\n",
       "      <td>1</td>\n",
       "      <td>1</td>\n",
       "      <td>1</td>\n",
       "      <td>1</td>\n",
       "      <td>0</td>\n",
       "      <td>4</td>\n",
       "      <td>3</td>\n",
       "      <td>3</td>\n",
       "      <td>1</td>\n",
       "      <td>3</td>\n",
       "      <td>5</td>\n",
       "      <td>0</td>\n",
       "      <td>12</td>\n",
       "      <td>1</td>\n",
       "      <td>0</td>\n",
       "      <td>1</td>\n",
       "      <td>0</td>\n",
       "      <td>1</td>\n",
       "      <td>0</td>\n",
       "      <td>1</td>\n",
       "      <td>3</td>\n",
       "    </tr>\n",
       "    <tr>\n",
       "      <th>11</th>\n",
       "      <td>18</td>\n",
       "      <td>0</td>\n",
       "      <td>1</td>\n",
       "      <td>3</td>\n",
       "      <td>4</td>\n",
       "      <td>1</td>\n",
       "      <td>2</td>\n",
       "      <td>0</td>\n",
       "      <td>0</td>\n",
       "      <td>0</td>\n",
       "      <td>0</td>\n",
       "      <td>1</td>\n",
       "      <td>1</td>\n",
       "      <td>1</td>\n",
       "      <td>1</td>\n",
       "      <td>1</td>\n",
       "      <td>4</td>\n",
       "      <td>3</td>\n",
       "      <td>3</td>\n",
       "      <td>1</td>\n",
       "      <td>3</td>\n",
       "      <td>5</td>\n",
       "      <td>6</td>\n",
       "      <td>17</td>\n",
       "      <td>1</td>\n",
       "      <td>0</td>\n",
       "      <td>1</td>\n",
       "      <td>0</td>\n",
       "      <td>1</td>\n",
       "      <td>0</td>\n",
       "      <td>1</td>\n",
       "      <td>4</td>\n",
       "    </tr>\n",
       "    <tr>\n",
       "      <th>12</th>\n",
       "      <td>18</td>\n",
       "      <td>1</td>\n",
       "      <td>1</td>\n",
       "      <td>4</td>\n",
       "      <td>4</td>\n",
       "      <td>3</td>\n",
       "      <td>1</td>\n",
       "      <td>0</td>\n",
       "      <td>0</td>\n",
       "      <td>1</td>\n",
       "      <td>1</td>\n",
       "      <td>1</td>\n",
       "      <td>1</td>\n",
       "      <td>1</td>\n",
       "      <td>1</td>\n",
       "      <td>1</td>\n",
       "      <td>4</td>\n",
       "      <td>4</td>\n",
       "      <td>3</td>\n",
       "      <td>2</td>\n",
       "      <td>2</td>\n",
       "      <td>5</td>\n",
       "      <td>7</td>\n",
       "      <td>6</td>\n",
       "      <td>0</td>\n",
       "      <td>1</td>\n",
       "      <td>0</td>\n",
       "      <td>1</td>\n",
       "      <td>0</td>\n",
       "      <td>1</td>\n",
       "      <td>0</td>\n",
       "      <td>2</td>\n",
       "    </tr>\n",
       "    <tr>\n",
       "      <th>13</th>\n",
       "      <td>15</td>\n",
       "      <td>1</td>\n",
       "      <td>1</td>\n",
       "      <td>4</td>\n",
       "      <td>3</td>\n",
       "      <td>1</td>\n",
       "      <td>2</td>\n",
       "      <td>0</td>\n",
       "      <td>0</td>\n",
       "      <td>1</td>\n",
       "      <td>0</td>\n",
       "      <td>1</td>\n",
       "      <td>1</td>\n",
       "      <td>1</td>\n",
       "      <td>1</td>\n",
       "      <td>0</td>\n",
       "      <td>4</td>\n",
       "      <td>3</td>\n",
       "      <td>3</td>\n",
       "      <td>2</td>\n",
       "      <td>3</td>\n",
       "      <td>5</td>\n",
       "      <td>0</td>\n",
       "      <td>11</td>\n",
       "      <td>1</td>\n",
       "      <td>0</td>\n",
       "      <td>1</td>\n",
       "      <td>0</td>\n",
       "      <td>1</td>\n",
       "      <td>0</td>\n",
       "      <td>1</td>\n",
       "      <td>3</td>\n",
       "    </tr>\n",
       "    <tr>\n",
       "      <th>14</th>\n",
       "      <td>16</td>\n",
       "      <td>0</td>\n",
       "      <td>1</td>\n",
       "      <td>2</td>\n",
       "      <td>2</td>\n",
       "      <td>1</td>\n",
       "      <td>2</td>\n",
       "      <td>0</td>\n",
       "      <td>0</td>\n",
       "      <td>1</td>\n",
       "      <td>0</td>\n",
       "      <td>0</td>\n",
       "      <td>1</td>\n",
       "      <td>1</td>\n",
       "      <td>0</td>\n",
       "      <td>0</td>\n",
       "      <td>4</td>\n",
       "      <td>3</td>\n",
       "      <td>4</td>\n",
       "      <td>1</td>\n",
       "      <td>2</td>\n",
       "      <td>2</td>\n",
       "      <td>4</td>\n",
       "      <td>6</td>\n",
       "      <td>0</td>\n",
       "      <td>1</td>\n",
       "      <td>1</td>\n",
       "      <td>0</td>\n",
       "      <td>0</td>\n",
       "      <td>1</td>\n",
       "      <td>0</td>\n",
       "      <td>2</td>\n",
       "    </tr>\n",
       "    <tr>\n",
       "      <th>15</th>\n",
       "      <td>17</td>\n",
       "      <td>1</td>\n",
       "      <td>1</td>\n",
       "      <td>1</td>\n",
       "      <td>3</td>\n",
       "      <td>3</td>\n",
       "      <td>2</td>\n",
       "      <td>1</td>\n",
       "      <td>0</td>\n",
       "      <td>1</td>\n",
       "      <td>0</td>\n",
       "      <td>1</td>\n",
       "      <td>1</td>\n",
       "      <td>1</td>\n",
       "      <td>1</td>\n",
       "      <td>0</td>\n",
       "      <td>5</td>\n",
       "      <td>2</td>\n",
       "      <td>4</td>\n",
       "      <td>1</td>\n",
       "      <td>4</td>\n",
       "      <td>5</td>\n",
       "      <td>20</td>\n",
       "      <td>8</td>\n",
       "      <td>0</td>\n",
       "      <td>1</td>\n",
       "      <td>1</td>\n",
       "      <td>0</td>\n",
       "      <td>1</td>\n",
       "      <td>0</td>\n",
       "      <td>1</td>\n",
       "      <td>3</td>\n",
       "    </tr>\n",
       "    <tr>\n",
       "      <th>16</th>\n",
       "      <td>16</td>\n",
       "      <td>1</td>\n",
       "      <td>1</td>\n",
       "      <td>2</td>\n",
       "      <td>2</td>\n",
       "      <td>1</td>\n",
       "      <td>1</td>\n",
       "      <td>2</td>\n",
       "      <td>0</td>\n",
       "      <td>1</td>\n",
       "      <td>1</td>\n",
       "      <td>0</td>\n",
       "      <td>0</td>\n",
       "      <td>1</td>\n",
       "      <td>1</td>\n",
       "      <td>0</td>\n",
       "      <td>1</td>\n",
       "      <td>2</td>\n",
       "      <td>2</td>\n",
       "      <td>1</td>\n",
       "      <td>3</td>\n",
       "      <td>5</td>\n",
       "      <td>14</td>\n",
       "      <td>8</td>\n",
       "      <td>0</td>\n",
       "      <td>1</td>\n",
       "      <td>1</td>\n",
       "      <td>0</td>\n",
       "      <td>0</td>\n",
       "      <td>1</td>\n",
       "      <td>1</td>\n",
       "      <td>3</td>\n",
       "    </tr>\n",
       "    <tr>\n",
       "      <th>17</th>\n",
       "      <td>18</td>\n",
       "      <td>1</td>\n",
       "      <td>1</td>\n",
       "      <td>4</td>\n",
       "      <td>4</td>\n",
       "      <td>1</td>\n",
       "      <td>2</td>\n",
       "      <td>0</td>\n",
       "      <td>0</td>\n",
       "      <td>1</td>\n",
       "      <td>1</td>\n",
       "      <td>0</td>\n",
       "      <td>1</td>\n",
       "      <td>1</td>\n",
       "      <td>1</td>\n",
       "      <td>0</td>\n",
       "      <td>4</td>\n",
       "      <td>4</td>\n",
       "      <td>4</td>\n",
       "      <td>3</td>\n",
       "      <td>3</td>\n",
       "      <td>5</td>\n",
       "      <td>2</td>\n",
       "      <td>11</td>\n",
       "      <td>0</td>\n",
       "      <td>1</td>\n",
       "      <td>1</td>\n",
       "      <td>0</td>\n",
       "      <td>0</td>\n",
       "      <td>1</td>\n",
       "      <td>1</td>\n",
       "      <td>3</td>\n",
       "    </tr>\n",
       "    <tr>\n",
       "      <th>18</th>\n",
       "      <td>15</td>\n",
       "      <td>0</td>\n",
       "      <td>0</td>\n",
       "      <td>2</td>\n",
       "      <td>1</td>\n",
       "      <td>1</td>\n",
       "      <td>1</td>\n",
       "      <td>0</td>\n",
       "      <td>0</td>\n",
       "      <td>0</td>\n",
       "      <td>0</td>\n",
       "      <td>1</td>\n",
       "      <td>1</td>\n",
       "      <td>1</td>\n",
       "      <td>1</td>\n",
       "      <td>0</td>\n",
       "      <td>4</td>\n",
       "      <td>3</td>\n",
       "      <td>3</td>\n",
       "      <td>1</td>\n",
       "      <td>2</td>\n",
       "      <td>5</td>\n",
       "      <td>11</td>\n",
       "      <td>12</td>\n",
       "      <td>1</td>\n",
       "      <td>0</td>\n",
       "      <td>0</td>\n",
       "      <td>1</td>\n",
       "      <td>1</td>\n",
       "      <td>0</td>\n",
       "      <td>1</td>\n",
       "      <td>3</td>\n",
       "    </tr>\n",
       "    <tr>\n",
       "      <th>19</th>\n",
       "      <td>17</td>\n",
       "      <td>1</td>\n",
       "      <td>1</td>\n",
       "      <td>1</td>\n",
       "      <td>1</td>\n",
       "      <td>3</td>\n",
       "      <td>1</td>\n",
       "      <td>1</td>\n",
       "      <td>0</td>\n",
       "      <td>1</td>\n",
       "      <td>0</td>\n",
       "      <td>0</td>\n",
       "      <td>1</td>\n",
       "      <td>1</td>\n",
       "      <td>1</td>\n",
       "      <td>1</td>\n",
       "      <td>5</td>\n",
       "      <td>2</td>\n",
       "      <td>1</td>\n",
       "      <td>1</td>\n",
       "      <td>2</td>\n",
       "      <td>1</td>\n",
       "      <td>0</td>\n",
       "      <td>9</td>\n",
       "      <td>1</td>\n",
       "      <td>0</td>\n",
       "      <td>0</td>\n",
       "      <td>1</td>\n",
       "      <td>0</td>\n",
       "      <td>1</td>\n",
       "      <td>1</td>\n",
       "      <td>3</td>\n",
       "    </tr>\n",
       "  </tbody>\n",
       "</table>\n",
       "</div>"
      ],
      "text/plain": [
       "    age famsize Pstatus  Medu  Fedu  traveltime  studytime  failures  \\\n",
       "0   16   1       0       3     4     1           1          0          \n",
       "1   17   1       1       3     2     1           2          0          \n",
       "2   16   0       1       1     2     2           1          2          \n",
       "3   17   1       1       2     3     2           2          0          \n",
       "4   16   1       1       1     1     2           1          0          \n",
       "5   18   0       1       3     1     2           1          0          \n",
       "6   18   1       1       1     1     2           2          0          \n",
       "7   15   1       1       4     4     2           1          0          \n",
       "8   15   0       1       3     2     1           2          0          \n",
       "9   16   1       1       3     4     3           2          0          \n",
       "10  15   0       1       4     4     1           1          0          \n",
       "11  18   0       1       3     4     1           2          0          \n",
       "12  18   1       1       4     4     3           1          0          \n",
       "13  15   1       1       4     3     1           2          0          \n",
       "14  16   0       1       2     2     1           2          0          \n",
       "15  17   1       1       1     3     3           2          1          \n",
       "16  16   1       1       2     2     1           1          2          \n",
       "17  18   1       1       4     4     1           2          0          \n",
       "18  15   0       0       2     1     1           1          0          \n",
       "19  17   1       1       1     1     3           1          1          \n",
       "\n",
       "   schoolsup famsup paid activities nursery higher internet romantic  famrel  \\\n",
       "0   0         0      0    0          1       1      1        0        3        \n",
       "1   0         0      0    1          0       1      1        0        5        \n",
       "2   0         0      0    0          0       1      1        0        4        \n",
       "3   0         0      0    1          1       1      1        0        4        \n",
       "4   0         1      0    0          1       1      0        0        4        \n",
       "5   0         0      0    1          1       1      1        1        3        \n",
       "6   0         0      0    1          1       1      0        0        1        \n",
       "7   0         0      0    0          1       1      1        1        1        \n",
       "8   0         1      1    0          1       1      1        0        4        \n",
       "9   0         0      0    0          0       1      0        0        3        \n",
       "10  0         1      0    1          1       1      1        0        4        \n",
       "11  0         0      0    1          1       1      1        1        4        \n",
       "12  0         1      1    1          1       1      1        1        4        \n",
       "13  0         1      0    1          1       1      1        0        4        \n",
       "14  0         1      0    0          1       1      0        0        4        \n",
       "15  0         1      0    1          1       1      1        0        5        \n",
       "16  0         1      1    0          0       1      1        0        1        \n",
       "17  0         1      1    0          1       1      1        0        4        \n",
       "18  0         0      0    1          1       1      1        0        4        \n",
       "19  0         1      0    0          1       1      1        1        5        \n",
       "\n",
       "    freetime  goout  Dalc  Walc  health  absences  G3 Por Math GP MS Male  \\\n",
       "0   2         1      1     4     5       12        14  1   0    1  0  0     \n",
       "1   3         4      1     3     3       2         17  1   0    1  0  0     \n",
       "2   4         5      3     5     5       0         10  1   0    1  0  1     \n",
       "3   4         3      1     1     3       4         16  1   0    0  1  1     \n",
       "4   3         2      1     4     5       2         13  1   0    1  0  0     \n",
       "5   3         4      4     5     4       2         12  1   0    1  0  1     \n",
       "6   1         1      1     1     5       6         9   1   0    0  1  0     \n",
       "7   5         1      3     5     5       0         14  1   0    0  1  0     \n",
       "8   4         4      1     1     5       10        6   0   1    1  0  0     \n",
       "9   4         5      1     2     5       4         11  1   0    0  1  1     \n",
       "10  3         3      1     3     5       0         12  1   0    1  0  1     \n",
       "11  3         3      1     3     5       6         17  1   0    1  0  1     \n",
       "12  4         3      2     2     5       7         6   0   1    0  1  0     \n",
       "13  3         3      2     3     5       0         11  1   0    1  0  1     \n",
       "14  3         4      1     2     2       4         6   0   1    1  0  0     \n",
       "15  2         4      1     4     5       20        8   0   1    1  0  1     \n",
       "16  2         2      1     3     5       14        8   0   1    1  0  0     \n",
       "17  4         4      3     3     5       2         11  0   1    1  0  0     \n",
       "18  3         3      1     2     5       11        12  1   0    0  1  1     \n",
       "19  2         1      1     2     1       0         9   1   0    0  1  0     \n",
       "\n",
       "   Female  passed  grade  \n",
       "0   1      1       4      \n",
       "1   1      1       4      \n",
       "2   0      1       3      \n",
       "3   0      1       4      \n",
       "4   1      1       3      \n",
       "5   0      1       3      \n",
       "6   1      1       3      \n",
       "7   1      1       4      \n",
       "8   1      0       2      \n",
       "9   0      1       3      \n",
       "10  0      1       3      \n",
       "11  0      1       4      \n",
       "12  1      0       2      \n",
       "13  0      1       3      \n",
       "14  1      0       2      \n",
       "15  0      1       3      \n",
       "16  1      1       3      \n",
       "17  1      1       3      \n",
       "18  0      1       3      \n",
       "19  1      1       3      "
      ]
     },
     "execution_count": 257,
     "metadata": {},
     "output_type": "execute_result"
    }
   ],
   "source": [
    "data2['grade'] = data2['G3']\n",
    "data2.loc[data2['grade'] < 8, 'grade'] = 2   # Неудовлетворительно: G3 < 8\n",
    "data2.loc[data2['grade'] >= 18, 'grade'] = 5 # Отлично: 18 <= G3 <= 20\n",
    "data2.loc[data2['grade'] >=14, 'grade'] = 4  # Хорошо: 14 <= G3 <= 17\n",
    "data2.loc[data2['grade'] >= 8, 'grade'] = 3  # Удовлетворительно: 8 <= G3 <= 13\n",
    "data2.head(20)"
   ]
  },
  {
   "cell_type": "code",
   "execution_count": 258,
   "metadata": {
    "collapsed": true
   },
   "outputs": [],
   "source": [
    "(trainData, \n",
    " testData, \n",
    " trainDependentVariables, \n",
    " testDependentVariables) = train_test_split(data2.drop('grade', axis=1),\n",
    "                                            data2['grade'],\n",
    "                                            test_size=0.3, \n",
    "                                            random_state=5)"
   ]
  },
  {
   "cell_type": "markdown",
   "metadata": {},
   "source": [
    "# KNN"
   ]
  },
  {
   "cell_type": "code",
   "execution_count": 282,
   "metadata": {},
   "outputs": [],
   "source": [
    "knnKlass = KNeighborsClassifier(n_neighbors=5)\n",
    "knnKlass.fit(trainData, trainDependentVariables)\n",
    "predictedDenendentVariable = knnKlass.predict(testData)"
   ]
  },
  {
   "cell_type": "code",
   "execution_count": 283,
   "metadata": {},
   "outputs": [
    {
     "name": "stdout",
     "output_type": "stream",
     "text": [
      "             precision    recall  f1-score   support\n",
      "\n",
      "          2       0.95      0.77      0.85        26\n",
      "          3       0.93      0.97      0.95       191\n",
      "          4       0.88      0.90      0.89        86\n",
      "          5       1.00      0.45      0.62        11\n",
      "\n",
      "avg / total       0.92      0.91      0.91       314\n",
      "\n"
     ]
    }
   ],
   "source": [
    "print(metrics.classification_report(testDependentVariables, predictedDenendentVariable))"
   ]
  },
  {
   "cell_type": "code",
   "execution_count": 285,
   "metadata": {},
   "outputs": [
    {
     "data": {
      "text/plain": [
       "0.9140127388535032"
      ]
     },
     "execution_count": 285,
     "metadata": {},
     "output_type": "execute_result"
    }
   ],
   "source": [
    "metrics.accuracy_score(testDependentVariables, predictedDenendentVariable)"
   ]
  },
  {
   "cell_type": "code",
   "execution_count": 280,
   "metadata": {},
   "outputs": [
    {
     "name": "stdout",
     "output_type": "stream",
     "text": [
      "5\n",
      "0.905479452055\n"
     ]
    }
   ],
   "source": [
    "accuracy = 0\n",
    "param = 0\n",
    "for i in range(4, 15):\n",
    "    error = 0\n",
    "    kf = KFold(n_splits = 5, shuffle = True)\n",
    "    knnKlass = KNeighborsClassifier(n_neighbors=i)\n",
    "        \n",
    "    for train_index, test_index in kf.split(trainData):\n",
    "            knnKlass.fit(trainData.iloc[train_index], trainDependentVariables.iloc[train_index])\n",
    "            predictedDependentVariables = knnKlass.predict(trainData.iloc[test_index])\n",
    "            error += metrics.precision_score(trainDependentVariables.iloc[test_index], predictedDependentVariables, average='micro')\n",
    "            \n",
    "    error = error/5;\n",
    "    #print(error)\n",
    "    if (error > accuracy):\n",
    "        accuracy = error\n",
    "        param = i\n",
    "print(param)\n",
    "print(accuracy)"
   ]
  },
  {
   "cell_type": "code",
   "execution_count": 281,
   "metadata": {},
   "outputs": [
    {
     "name": "stdout",
     "output_type": "stream",
     "text": [
      "             precision    recall  f1-score   support\n",
      "\n",
      "          2       0.95      0.77      0.85        26\n",
      "          3       0.93      0.97      0.95       191\n",
      "          4       0.88      0.90      0.89        86\n",
      "          5       1.00      0.45      0.62        11\n",
      "\n",
      "avg / total       0.92      0.91      0.91       314\n",
      "\n"
     ]
    }
   ],
   "source": [
    "knnKlass = KNeighborsClassifier(n_neighbors=5)\n",
    "knnKlass.fit(trainData, trainDependentVariables)\n",
    "predictedDenendentVariable = knnKlass.predict(testData)\n",
    "print(metrics.classification_report(testDependentVariables, predictedDenendentVariable))"
   ]
  },
  {
   "cell_type": "markdown",
   "metadata": {},
   "source": [
    "# Radius"
   ]
  },
  {
   "cell_type": "code",
   "execution_count": 303,
   "metadata": {},
   "outputs": [],
   "source": [
    "radClass = RadiusNeighborsClassifier(radius=10)\n",
    "radClass.fit(trainData, trainDependentVariables)\n",
    "predictedDenendentVariable = radClass.predict(testData)"
   ]
  },
  {
   "cell_type": "code",
   "execution_count": 304,
   "metadata": {},
   "outputs": [
    {
     "name": "stdout",
     "output_type": "stream",
     "text": [
      "             precision    recall  f1-score   support\n",
      "\n",
      "          2       1.00      0.62      0.76        26\n",
      "          3       0.64      1.00      0.78       191\n",
      "          4       0.00      0.00      0.00        86\n",
      "          5       0.00      0.00      0.00        11\n",
      "\n",
      "avg / total       0.47      0.66      0.54       314\n",
      "\n"
     ]
    },
    {
     "name": "stderr",
     "output_type": "stream",
     "text": [
      "C:\\Anaconda3\\lib\\site-packages\\sklearn\\metrics\\classification.py:1135: UndefinedMetricWarning: Precision and F-score are ill-defined and being set to 0.0 in labels with no predicted samples.\n",
      "  'precision', 'predicted', average, warn_for)\n"
     ]
    }
   ],
   "source": [
    "print(metrics.classification_report(testDependentVariables, predictedDenendentVariable))"
   ]
  },
  {
   "cell_type": "code",
   "execution_count": 307,
   "metadata": {},
   "outputs": [
    {
     "name": "stdout",
     "output_type": "stream",
     "text": [
      "             precision    recall  f1-score   support\n",
      "\n",
      "          2       0.94      0.62      0.74        26\n",
      "          3       0.86      0.99      0.92       191\n",
      "          4       0.86      0.76      0.80        86\n",
      "          5       0.00      0.00      0.00        11\n",
      "\n",
      "avg / total       0.84      0.86      0.84       314\n",
      "\n"
     ]
    },
    {
     "name": "stderr",
     "output_type": "stream",
     "text": [
      "C:\\Anaconda3\\lib\\site-packages\\sklearn\\metrics\\classification.py:1135: UndefinedMetricWarning: Precision and F-score are ill-defined and being set to 0.0 in labels with no predicted samples.\n",
      "  'precision', 'predicted', average, warn_for)\n"
     ]
    }
   ],
   "source": [
    "radClass = RadiusNeighborsClassifier(radius=6)\n",
    "radClass.fit(trainData, trainDependentVariables)\n",
    "predictedDenendentVariable = radClass.predict(testData)\n",
    "print(metrics.classification_report(testDependentVariables, predictedDenendentVariable))"
   ]
  },
  {
   "cell_type": "markdown",
   "metadata": {},
   "source": [
    "# LogisticRegression"
   ]
  },
  {
   "cell_type": "code",
   "execution_count": 308,
   "metadata": {},
   "outputs": [],
   "source": [
    "logClass = LogisticRegression()\n",
    "logClass.fit(trainData, trainDependentVariables)\n",
    "predictedDenendentVariable = logClass.predict(testData)"
   ]
  },
  {
   "cell_type": "code",
   "execution_count": 309,
   "metadata": {},
   "outputs": [
    {
     "name": "stdout",
     "output_type": "stream",
     "text": [
      "             precision    recall  f1-score   support\n",
      "\n",
      "          2       1.00      1.00      1.00        26\n",
      "          3       0.91      1.00      0.95       191\n",
      "          4       0.87      0.79      0.83        86\n",
      "          5       1.00      0.09      0.17        11\n",
      "\n",
      "avg / total       0.91      0.91      0.90       314\n",
      "\n"
     ]
    }
   ],
   "source": [
    "print(metrics.classification_report(testDependentVariables, predictedDenendentVariable))"
   ]
  },
  {
   "cell_type": "code",
   "execution_count": 310,
   "metadata": {},
   "outputs": [
    {
     "data": {
      "text/plain": [
       "0.91082802547770703"
      ]
     },
     "execution_count": 310,
     "metadata": {},
     "output_type": "execute_result"
    }
   ],
   "source": [
    "metrics.accuracy_score(testDependentVariables, predictedDenendentVariable)"
   ]
  },
  {
   "cell_type": "markdown",
   "metadata": {},
   "source": [
    "# DecisionTree"
   ]
  },
  {
   "cell_type": "code",
   "execution_count": 311,
   "metadata": {},
   "outputs": [],
   "source": [
    "dtree_model = DecisionTreeClassifier()\n",
    "dtree_model.fit(trainData, trainDependentVariables)\n",
    "predictedDenendentVariable = dtree_model.predict(testData)"
   ]
  },
  {
   "cell_type": "code",
   "execution_count": 312,
   "metadata": {},
   "outputs": [
    {
     "name": "stdout",
     "output_type": "stream",
     "text": [
      "             precision    recall  f1-score   support\n",
      "\n",
      "          2       1.00      1.00      1.00        26\n",
      "          3       1.00      1.00      1.00       191\n",
      "          4       1.00      1.00      1.00        86\n",
      "          5       1.00      1.00      1.00        11\n",
      "\n",
      "avg / total       1.00      1.00      1.00       314\n",
      "\n"
     ]
    }
   ],
   "source": [
    "print(metrics.classification_report(testDependentVariables, predictedDenendentVariable))"
   ]
  },
  {
   "cell_type": "code",
   "execution_count": 313,
   "metadata": {},
   "outputs": [
    {
     "data": {
      "text/plain": [
       "1.0"
      ]
     },
     "execution_count": 313,
     "metadata": {},
     "output_type": "execute_result"
    }
   ],
   "source": [
    "metrics.accuracy_score(testDependentVariables, predictedDenendentVariable)"
   ]
  },
  {
   "cell_type": "code",
   "execution_count": null,
   "metadata": {
    "collapsed": true
   },
   "outputs": [],
   "source": []
  }
 ],
 "metadata": {
  "kernelspec": {
   "display_name": "Python 3",
   "language": "python",
   "name": "python3"
  },
  "language_info": {
   "codemirror_mode": {
    "name": "ipython",
    "version": 3
   },
   "file_extension": ".py",
   "mimetype": "text/x-python",
   "name": "python",
   "nbconvert_exporter": "python",
   "pygments_lexer": "ipython3",
   "version": "3.6.3"
  }
 },
 "nbformat": 4,
 "nbformat_minor": 1
}
