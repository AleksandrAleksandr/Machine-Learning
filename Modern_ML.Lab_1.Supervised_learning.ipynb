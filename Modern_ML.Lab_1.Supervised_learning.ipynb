{
 "cells": [
  {
   "cell_type": "markdown",
   "metadata": {},
   "source": [
    "# <center> Майнор \"Интеллектуальный анализ данных\" <center>"
   ]
  },
  {
   "cell_type": "markdown",
   "metadata": {},
   "source": [
    "# <center> Курс \"Современные методы машинного обучения\" <center>"
   ]
  },
  {
   "cell_type": "markdown",
   "metadata": {},
   "source": [
    "# <center> Лабораторная работа №1. Supervised learning <center>"
   ]
  },
  {
   "cell_type": "markdown",
   "metadata": {},
   "source": [
    "## Table of contents  \n",
    "  \n",
    "* [Часть 1. Работа с данными](#part1)\n",
    "* [Часть 2. Методы машинного обучения](#part2)\n",
    "* [Часть 3. Соревнование по машинному обучению](#part3)"
   ]
  },
  {
   "cell_type": "markdown",
   "metadata": {},
   "source": [
    "## Часть 1. Работа с данными <a id=\"part1\"></a>"
   ]
  },
  {
   "cell_type": "markdown",
   "metadata": {},
   "source": [
    "В данной части лабораторной вам предстоит работать с данными по оттоку клиентов одной телекомуникационной компании. Оригинал данных доступен [здесь](https://bigml.com/user/francisco/gallery/dataset/5163ad540c0b5e5b22000383). Для лабораторной работы данные были модифицированы."
   ]
  },
  {
   "cell_type": "markdown",
   "metadata": {},
   "source": [
    "Данные находятся в файле `telecom_churn_mod.csv`"
   ]
  },
  {
   "cell_type": "markdown",
   "metadata": {},
   "source": [
    "**Описание данных:**"
   ]
  },
  {
   "cell_type": "code",
   "execution_count": 2,
   "metadata": {
    "collapsed": true
   },
   "outputs": [],
   "source": [
    "import pandas as pd\n",
    "import seaborn as sns\n",
    "import matplotlib.pyplot as plt"
   ]
  },
  {
   "cell_type": "code",
   "execution_count": 3,
   "metadata": {
    "collapsed": true
   },
   "outputs": [],
   "source": [
    "pd.set_option('display.max_columns', 25)\n",
    "pd.set_option('display.max_colwidth', -1)"
   ]
  },
  {
   "cell_type": "markdown",
   "metadata": {},
   "source": [
    "### Задание 1  \n",
    "  \n",
    "Считайте данные из файла. Оцените размерность данных, есть ли в данных пропущенные значения. Посмотрите на автоматически определенные типы признаков."
   ]
  },
  {
   "cell_type": "code",
   "execution_count": 32,
   "metadata": {},
   "outputs": [
    {
     "data": {
      "text/html": [
       "<div>\n",
       "<style>\n",
       "    .dataframe thead tr:only-child th {\n",
       "        text-align: right;\n",
       "    }\n",
       "\n",
       "    .dataframe thead th {\n",
       "        text-align: left;\n",
       "    }\n",
       "\n",
       "    .dataframe tbody tr th {\n",
       "        vertical-align: top;\n",
       "    }\n",
       "</style>\n",
       "<table border=\"1\" class=\"dataframe\">\n",
       "  <thead>\n",
       "    <tr style=\"text-align: right;\">\n",
       "      <th></th>\n",
       "      <th>ID</th>\n",
       "      <th>Sex</th>\n",
       "      <th>Age</th>\n",
       "      <th>State</th>\n",
       "      <th>Account length</th>\n",
       "      <th>Phone number</th>\n",
       "      <th>Plans</th>\n",
       "      <th>Number vmail messages</th>\n",
       "      <th>Total day minutes</th>\n",
       "      <th>Total day calls</th>\n",
       "      <th>Total day charge</th>\n",
       "      <th>Total eve minutes</th>\n",
       "      <th>Total eve calls</th>\n",
       "      <th>Total eve charge</th>\n",
       "      <th>Total night minutes</th>\n",
       "      <th>Total night calls</th>\n",
       "      <th>Total night charge</th>\n",
       "      <th>Total intl minutes</th>\n",
       "      <th>Total intl calls</th>\n",
       "      <th>Total intl charge</th>\n",
       "      <th>Total charge</th>\n",
       "      <th>Customer service calls</th>\n",
       "      <th>Churn</th>\n",
       "    </tr>\n",
       "  </thead>\n",
       "  <tbody>\n",
       "    <tr>\n",
       "      <th>0</th>\n",
       "      <td>40075</td>\n",
       "      <td>Female</td>\n",
       "      <td>37.0</td>\n",
       "      <td>KS</td>\n",
       "      <td>128</td>\n",
       "      <td>415 424 17 55</td>\n",
       "      <td>Voice mail</td>\n",
       "      <td>25</td>\n",
       "      <td>265.1</td>\n",
       "      <td>110.0</td>\n",
       "      <td>45.07</td>\n",
       "      <td>197.4</td>\n",
       "      <td>99.0</td>\n",
       "      <td>16.78</td>\n",
       "      <td>244.7</td>\n",
       "      <td>91.0</td>\n",
       "      <td>11.01</td>\n",
       "      <td>10.0</td>\n",
       "      <td>3.0</td>\n",
       "      <td>2.70</td>\n",
       "      <td>75.56</td>\n",
       "      <td>1</td>\n",
       "      <td>False</td>\n",
       "    </tr>\n",
       "    <tr>\n",
       "      <th>1</th>\n",
       "      <td>17475</td>\n",
       "      <td>Female</td>\n",
       "      <td>NaN</td>\n",
       "      <td>OH</td>\n",
       "      <td>107</td>\n",
       "      <td>415 759 41 43</td>\n",
       "      <td>Voice mail</td>\n",
       "      <td>26</td>\n",
       "      <td>161.6</td>\n",
       "      <td>123.0</td>\n",
       "      <td>27.47</td>\n",
       "      <td>195.5</td>\n",
       "      <td>103.0</td>\n",
       "      <td>16.62</td>\n",
       "      <td>254.4</td>\n",
       "      <td>103.0</td>\n",
       "      <td>11.45</td>\n",
       "      <td>13.7</td>\n",
       "      <td>3.0</td>\n",
       "      <td>3.70</td>\n",
       "      <td>59.24</td>\n",
       "      <td>1</td>\n",
       "      <td>False</td>\n",
       "    </tr>\n",
       "    <tr>\n",
       "      <th>2</th>\n",
       "      <td>62242</td>\n",
       "      <td>Female</td>\n",
       "      <td>19.0</td>\n",
       "      <td>NJ</td>\n",
       "      <td>137</td>\n",
       "      <td>415 213 11 40</td>\n",
       "      <td>None</td>\n",
       "      <td>0</td>\n",
       "      <td>243.4</td>\n",
       "      <td>114.0</td>\n",
       "      <td>41.38</td>\n",
       "      <td>121.2</td>\n",
       "      <td>110.0</td>\n",
       "      <td>10.30</td>\n",
       "      <td>l62.6</td>\n",
       "      <td>104.0</td>\n",
       "      <td>7.32</td>\n",
       "      <td>12.2</td>\n",
       "      <td>5.0</td>\n",
       "      <td>3.29</td>\n",
       "      <td>62.29</td>\n",
       "      <td>0</td>\n",
       "      <td>False</td>\n",
       "    </tr>\n",
       "    <tr>\n",
       "      <th>3</th>\n",
       "      <td>81231</td>\n",
       "      <td>Female</td>\n",
       "      <td>31.0</td>\n",
       "      <td>OH</td>\n",
       "      <td>84</td>\n",
       "      <td>408 487 53 35</td>\n",
       "      <td>International</td>\n",
       "      <td>0</td>\n",
       "      <td>299.4</td>\n",
       "      <td>71.0</td>\n",
       "      <td>50.90</td>\n",
       "      <td>61.9</td>\n",
       "      <td>88.0</td>\n",
       "      <td>5.26</td>\n",
       "      <td>196.9</td>\n",
       "      <td>89.0</td>\n",
       "      <td>8.86</td>\n",
       "      <td>6.6</td>\n",
       "      <td>7.0</td>\n",
       "      <td>1.78</td>\n",
       "      <td>66.8</td>\n",
       "      <td>2</td>\n",
       "      <td>False</td>\n",
       "    </tr>\n",
       "    <tr>\n",
       "      <th>4</th>\n",
       "      <td>78542</td>\n",
       "      <td>Female</td>\n",
       "      <td>30.0</td>\n",
       "      <td>OK</td>\n",
       "      <td>75</td>\n",
       "      <td>415 509 25 27</td>\n",
       "      <td>International</td>\n",
       "      <td>0</td>\n",
       "      <td>166.7</td>\n",
       "      <td>113.0</td>\n",
       "      <td>28.34</td>\n",
       "      <td>148.3</td>\n",
       "      <td>122.0</td>\n",
       "      <td>12.61</td>\n",
       "      <td>186.9</td>\n",
       "      <td>121.0</td>\n",
       "      <td>8.41</td>\n",
       "      <td>10.1</td>\n",
       "      <td>3.0</td>\n",
       "      <td>2.73</td>\n",
       "      <td>52.09</td>\n",
       "      <td>3</td>\n",
       "      <td>False</td>\n",
       "    </tr>\n",
       "  </tbody>\n",
       "</table>\n",
       "</div>"
      ],
      "text/plain": [
       "      ID     Sex   Age State  Account length   Phone number          Plans  \\\n",
       "0  40075  Female  37.0  KS    128             415 424 17 55  Voice mail      \n",
       "1  17475  Female NaN    OH    107             415 759 41 43  Voice mail      \n",
       "2  62242  Female  19.0  NJ    137             415 213 11 40  None            \n",
       "3  81231  Female  31.0  OH    84              408 487 53 35  International   \n",
       "4  78542  Female  30.0  OK    75              415 509 25 27  International   \n",
       "\n",
       "   Number vmail messages Total day minutes Total day calls  Total day charge  \\\n",
       "0  25                     265.1             110.0           45.07              \n",
       "1  26                     161.6             123.0           27.47              \n",
       "2  0                      243.4             114.0           41.38              \n",
       "3  0                      299.4             71.0            50.90              \n",
       "4  0                      166.7             113.0           28.34              \n",
       "\n",
       "   Total eve minutes  Total eve calls  Total eve charge Total night minutes  \\\n",
       "0  197.4              99.0             16.78             244.7                \n",
       "1  195.5              103.0            16.62             254.4                \n",
       "2  121.2              110.0            10.30             l62.6                \n",
       "3  61.9               88.0             5.26              196.9                \n",
       "4  148.3              122.0            12.61             186.9                \n",
       "\n",
       "   Total night calls  Total night charge Total intl minutes  Total intl calls  \\\n",
       "0  91.0               11.01               10.0               3.0                \n",
       "1  103.0              11.45               13.7               3.0                \n",
       "2  104.0              7.32                12.2               5.0                \n",
       "3  89.0               8.86                6.6                7.0                \n",
       "4  121.0              8.41                10.1               3.0                \n",
       "\n",
       "   Total intl charge Total charge Customer service calls  Churn  \n",
       "0  2.70               75.56        1                      False  \n",
       "1  3.70               59.24        1                      False  \n",
       "2  3.29               62.29        0                      False  \n",
       "3  1.78               66.8         2                      False  \n",
       "4  2.73               52.09        3                      False  "
      ]
     },
     "execution_count": 32,
     "metadata": {},
     "output_type": "execute_result"
    }
   ],
   "source": [
    "data = pd.read_csv('telecom_churn_mod.csv', delimiter=';')\n",
    "data.head(5)"
   ]
  },
  {
   "cell_type": "code",
   "execution_count": 4,
   "metadata": {},
   "outputs": [
    {
     "name": "stdout",
     "output_type": "stream",
     "text": [
      "<class 'pandas.core.frame.DataFrame'>\n",
      "RangeIndex: 3333 entries, 0 to 3332\n",
      "Data columns (total 23 columns):\n",
      "ID                        3333 non-null int64\n",
      "Sex                       3333 non-null object\n",
      "Age                       2333 non-null float64\n",
      "State                     3333 non-null object\n",
      "Account length            3333 non-null int64\n",
      "Phone number              3333 non-null object\n",
      "Plans                     3233 non-null object\n",
      "Number vmail messages     3333 non-null int64\n",
      "Total day minutes         3333 non-null object\n",
      "Total day calls           3333 non-null object\n",
      "Total day charge          3333 non-null float64\n",
      "Total eve minutes         3333 non-null float64\n",
      "Total eve calls           3333 non-null float64\n",
      "Total eve charge          3333 non-null float64\n",
      "Total night minutes       3333 non-null object\n",
      "Total night calls         3333 non-null float64\n",
      "Total night charge        3333 non-null float64\n",
      "Total intl minutes        3333 non-null object\n",
      "Total intl calls          3333 non-null float64\n",
      "Total intl charge         3333 non-null float64\n",
      "Total charge              3333 non-null object\n",
      "Customer service calls    3333 non-null object\n",
      "Churn                     3333 non-null bool\n",
      "dtypes: bool(1), float64(9), int64(3), object(10)\n",
      "memory usage: 576.2+ KB\n"
     ]
    }
   ],
   "source": [
    "data.info()"
   ]
  },
  {
   "cell_type": "markdown",
   "metadata": {},
   "source": [
    "### Задание 2  \n",
    "  \n",
    "Приведите числовые признаки, которые были распознаны некорректно, к числовому типу данных.  \n",
    "Найдите и опишите ошибки в данных, которые мешают приведению типов. Сколько признаков содержат ошибки, сколько наблюдений по каждому такому признаку? Исправьте эти ошибки и снова выполните приведение типов.  \n",
    "**NB:** Исправлять ошибки необходимо программно (используя python), изменять исходный файл \"руками\" не разрешается. "
   ]
  },
  {
   "cell_type": "code",
   "execution_count": 33,
   "metadata": {},
   "outputs": [
    {
     "name": "stderr",
     "output_type": "stream",
     "text": [
      "C:\\Anaconda3\\lib\\site-packages\\ipykernel_launcher.py:14: SettingWithCopyWarning: \n",
      "A value is trying to be set on a copy of a slice from a DataFrame\n",
      "\n",
      "See the caveats in the documentation: http://pandas.pydata.org/pandas-docs/stable/indexing.html#indexing-view-versus-copy\n",
      "  \n",
      "C:\\Anaconda3\\lib\\site-packages\\ipykernel_launcher.py:32: SettingWithCopyWarning: \n",
      "A value is trying to be set on a copy of a slice from a DataFrame\n",
      "\n",
      "See the caveats in the documentation: http://pandas.pydata.org/pandas-docs/stable/indexing.html#indexing-view-versus-copy\n",
      "C:\\Anaconda3\\lib\\site-packages\\ipykernel_launcher.py:23: SettingWithCopyWarning: \n",
      "A value is trying to be set on a copy of a slice from a DataFrame\n",
      "\n",
      "See the caveats in the documentation: http://pandas.pydata.org/pandas-docs/stable/indexing.html#indexing-view-versus-copy\n",
      "C:\\Anaconda3\\lib\\site-packages\\ipykernel_launcher.py:29: SettingWithCopyWarning: \n",
      "A value is trying to be set on a copy of a slice from a DataFrame\n",
      "\n",
      "See the caveats in the documentation: http://pandas.pydata.org/pandas-docs/stable/indexing.html#indexing-view-versus-copy\n",
      "C:\\Anaconda3\\lib\\site-packages\\ipykernel_launcher.py:17: SettingWithCopyWarning: \n",
      "A value is trying to be set on a copy of a slice from a DataFrame\n",
      "\n",
      "See the caveats in the documentation: http://pandas.pydata.org/pandas-docs/stable/indexing.html#indexing-view-versus-copy\n",
      "C:\\Anaconda3\\lib\\site-packages\\ipykernel_launcher.py:20: SettingWithCopyWarning: \n",
      "A value is trying to be set on a copy of a slice from a DataFrame\n",
      "\n",
      "See the caveats in the documentation: http://pandas.pydata.org/pandas-docs/stable/indexing.html#indexing-view-versus-copy\n"
     ]
    },
    {
     "name": "stdout",
     "output_type": "stream",
     "text": [
      "mistake_DayMinutes  50 \n",
      "mistake_NightMinutes  10 \n",
      "mistake_DayCalls  4 \n",
      "mistake_IntlMinutes  32 \n",
      "mistake_Charge 15 \n",
      "mistake_ServiceCalls 6\n"
     ]
    }
   ],
   "source": [
    "replace = [',', 'o', 'l']\n",
    "insert = ['.', '0', '1']\n",
    "\n",
    "mistake_NightMinutes = 0\n",
    "mistake_DayMinutes = 0\n",
    "mistake_DayCalls = 0\n",
    "mistake_IntlMinutes = 0\n",
    "mistake_Charge = 0\n",
    "mistake_ServiceCalls = 0\n",
    "\n",
    "for i in range(1, data['Total day minutes'].shape[0]):\n",
    "    for k in range(0,3):\n",
    "        if replace[k] in data['Total night minutes'][i]:\n",
    "            data['Total night minutes'][i]=data['Total night minutes'][i].replace(replace[k], insert[k])\n",
    "            mistake_NightMinutes += 1\n",
    "        if replace[k] in data['Total day minutes'][i]:\n",
    "            data['Total day minutes'][i]=data['Total day minutes'][i].replace(replace[k], insert[k])\n",
    "            mistake_DayMinutes += 1\n",
    "        if replace[k] in data['Total day calls'][i]:\n",
    "            data['Total day calls'][i]=data['Total day calls'][i].replace(replace[k], insert[k])\n",
    "            mistake_DayCalls += 1\n",
    "        if replace[k] in data['Total intl minutes'][i]:\n",
    "            data['Total intl minutes'][i]=data['Total intl minutes'][i].replace(replace[k], insert[k])\n",
    "            mistake_IntlMinutes += 1\n",
    "        if replace[k] in data['Total charge'][i]:\n",
    "            data['Total charge'][i]=data['Total charge'][i].replace(replace[k], insert[k])\n",
    "            mistake_Charge += 1\n",
    "        if replace[k] in data['Customer service calls'][i]:\n",
    "            data['Customer service calls'][i]=data['Customer service calls'][i].replace(replace[k], insert[k])\n",
    "            mistake_ServiceCalls += 1\n",
    "    if 'hundred' in data['Total charge'][i]:\n",
    "        data['Total charge'][i]=data['Total charge'][i].replace('hundred', '')\n",
    "        mistake_Charge += 1\n",
    "\n",
    "data['Total day minutes'] = data['Total day minutes'].astype('float64')\n",
    "data['Total day calls'] = data['Total day calls'].astype('float64')\n",
    "data['Total night minutes'] = data['Total night minutes'].astype('float64')\n",
    "data['Total intl minutes'] = data['Total intl minutes'].astype('float64')\n",
    "data['Total charge'] = data['Total charge'].astype('float64')\n",
    "data['Customer service calls'] = data['Customer service calls'].astype('int64')\n",
    "\n",
    "print('mistake_DayMinutes ',mistake_DayMinutes,\n",
    "    '\\nmistake_NightMinutes ',mistake_NightMinutes,\n",
    "    '\\nmistake_DayCalls ',mistake_DayCalls,\n",
    "    '\\nmistake_IntlMinutes ',mistake_IntlMinutes,\n",
    "    '\\nmistake_Charge',mistake_Charge,\n",
    "    '\\nmistake_ServiceCalls',mistake_ServiceCalls)"
   ]
  },
  {
   "cell_type": "markdown",
   "metadata": {},
   "source": [
    "Ошибки содержат 6 признаков:\n",
    "'Total day minutes' - 50 наблюдений\n",
    "'Total day calls' - 4 наблюдения \n",
    "'Total night minutes' - 10 наблюдений\n",
    "'Total intl minutes' - 32 наблюдения\n",
    "'Total charge' - 15 наблюдений\n",
    "'Customer service calls' - 6 наблюдений"
   ]
  },
  {
   "cell_type": "code",
   "execution_count": 6,
   "metadata": {},
   "outputs": [
    {
     "name": "stdout",
     "output_type": "stream",
     "text": [
      "<class 'pandas.core.frame.DataFrame'>\n",
      "RangeIndex: 3333 entries, 0 to 3332\n",
      "Data columns (total 23 columns):\n",
      "ID                        3333 non-null int64\n",
      "Sex                       3333 non-null object\n",
      "Age                       2333 non-null float64\n",
      "State                     3333 non-null object\n",
      "Account length            3333 non-null int64\n",
      "Phone number              3333 non-null object\n",
      "Plans                     3233 non-null object\n",
      "Number vmail messages     3333 non-null int64\n",
      "Total day minutes         3333 non-null float64\n",
      "Total day calls           3333 non-null float64\n",
      "Total day charge          3333 non-null float64\n",
      "Total eve minutes         3333 non-null float64\n",
      "Total eve calls           3333 non-null float64\n",
      "Total eve charge          3333 non-null float64\n",
      "Total night minutes       3333 non-null float64\n",
      "Total night calls         3333 non-null float64\n",
      "Total night charge        3333 non-null float64\n",
      "Total intl minutes        3333 non-null float64\n",
      "Total intl calls          3333 non-null float64\n",
      "Total intl charge         3333 non-null float64\n",
      "Total charge              3333 non-null float64\n",
      "Customer service calls    3333 non-null int64\n",
      "Churn                     3333 non-null bool\n",
      "dtypes: bool(1), float64(14), int64(4), object(4)\n",
      "memory usage: 576.2+ KB\n"
     ]
    }
   ],
   "source": [
    "data.info()"
   ]
  },
  {
   "cell_type": "markdown",
   "metadata": {},
   "source": [
    "### Задание 3  \n",
    "  \n",
    "Оцените набор данных на предмет пропущенных значений. Какие признаки содержат пропуски? Сколько наблюдений с пропусками по каждому такому признаку?  \n",
    "По каждому признаку предложите и обоснуйте, что делать с пропущенными значениями. "
   ]
  },
  {
   "cell_type": "code",
   "execution_count": 7,
   "metadata": {},
   "outputs": [
    {
     "data": {
      "text/plain": [
       "ID                        0   \n",
       "Sex                       0   \n",
       "Age                       1000\n",
       "State                     0   \n",
       "Account length            0   \n",
       "Phone number              0   \n",
       "Plans                     100 \n",
       "Number vmail messages     0   \n",
       "Total day minutes         0   \n",
       "Total day calls           0   \n",
       "Total day charge          0   \n",
       "Total eve minutes         0   \n",
       "Total eve calls           0   \n",
       "Total eve charge          0   \n",
       "Total night minutes       0   \n",
       "Total night calls         0   \n",
       "Total night charge        0   \n",
       "Total intl minutes        0   \n",
       "Total intl calls          0   \n",
       "Total intl charge         0   \n",
       "Total charge              0   \n",
       "Customer service calls    0   \n",
       "Churn                     0   \n",
       "dtype: int64"
      ]
     },
     "execution_count": 7,
     "metadata": {},
     "output_type": "execute_result"
    }
   ],
   "source": [
    "data.isnull().sum()"
   ]
  },
  {
   "cell_type": "code",
   "execution_count": 34,
   "metadata": {
    "collapsed": true
   },
   "outputs": [],
   "source": [
    "data.Age = data.Age.fillna(data.Age.mean())\n",
    "data.Age = data.Age.astype('int64')"
   ]
  },
  {
   "cell_type": "code",
   "execution_count": 35,
   "metadata": {
    "collapsed": true
   },
   "outputs": [],
   "source": [
    "data.Plans = data.Plans.fillna('None')"
   ]
  },
  {
   "cell_type": "markdown",
   "metadata": {},
   "source": [
    "В Age - 1000 пропусков, в Plans - 100\n",
    "Age разумно заполнить средними значениями по этому признаку, а в пропуски Plans можно поставить None"
   ]
  },
  {
   "cell_type": "markdown",
   "metadata": {},
   "source": [
    "### Задание 4  \n",
    "  \n",
    "В признаке `Phone number` первые три цифры номера отвечают за код зоны покрытия сети.  \n",
    "Создайте новый признак `Area code`, содержайщий код покрытия сети.  \n",
    "Вычислите, сколько таких зон представлено в данных. Сколько наблюдений по каждой зоне?  \n",
    "Вычислите, сколько штатов входит в каждую зону. Есть ли штаты, которые находятся сразу в нескольких зонах покрытия? Если есть, приведите примеры."
   ]
  },
  {
   "cell_type": "code",
   "execution_count": 36,
   "metadata": {
    "collapsed": true
   },
   "outputs": [],
   "source": [
    "data['Area code'] = [x[0] for x in data['Phone number'].str.split()]"
   ]
  },
  {
   "cell_type": "code",
   "execution_count": 37,
   "metadata": {
    "collapsed": true
   },
   "outputs": [],
   "source": [
    "data['Area code'] = data['Area code'].astype('int64')"
   ]
  },
  {
   "cell_type": "code",
   "execution_count": 11,
   "metadata": {},
   "outputs": [
    {
     "data": {
      "text/plain": [
       "array([415, 408, 510], dtype=int64)"
      ]
     },
     "execution_count": 11,
     "metadata": {},
     "output_type": "execute_result"
    }
   ],
   "source": [
    "data['Area code'].unique()"
   ]
  },
  {
   "cell_type": "code",
   "execution_count": 12,
   "metadata": {},
   "outputs": [
    {
     "data": {
      "text/plain": [
       "415    1655\n",
       "510    840 \n",
       "408    838 \n",
       "Name: Area code, dtype: int64"
      ]
     },
     "execution_count": 12,
     "metadata": {},
     "output_type": "execute_result"
    }
   ],
   "source": [
    "data['Area code'].value_counts()"
   ]
  },
  {
   "cell_type": "markdown",
   "metadata": {},
   "source": [
    "в данных присутствует 3 зоны покрытия: 415 - 1655 наблюдений, 510 - 840 наблюдений, 408 - 838 наблюдений"
   ]
  },
  {
   "cell_type": "code",
   "execution_count": 13,
   "metadata": {
    "scrolled": true
   },
   "outputs": [
    {
     "data": {
      "text/html": [
       "<div>\n",
       "<style>\n",
       "    .dataframe thead tr:only-child th {\n",
       "        text-align: right;\n",
       "    }\n",
       "\n",
       "    .dataframe thead th {\n",
       "        text-align: left;\n",
       "    }\n",
       "\n",
       "    .dataframe tbody tr th {\n",
       "        vertical-align: top;\n",
       "    }\n",
       "</style>\n",
       "<table border=\"1\" class=\"dataframe\">\n",
       "  <thead>\n",
       "    <tr style=\"text-align: right;\">\n",
       "      <th>Area code</th>\n",
       "      <th>408</th>\n",
       "      <th>415</th>\n",
       "      <th>510</th>\n",
       "    </tr>\n",
       "    <tr>\n",
       "      <th>State</th>\n",
       "      <th></th>\n",
       "      <th></th>\n",
       "      <th></th>\n",
       "    </tr>\n",
       "  </thead>\n",
       "  <tbody>\n",
       "    <tr>\n",
       "      <th>AK</th>\n",
       "      <td>14</td>\n",
       "      <td>24</td>\n",
       "      <td>14</td>\n",
       "    </tr>\n",
       "    <tr>\n",
       "      <th>AL</th>\n",
       "      <td>25</td>\n",
       "      <td>40</td>\n",
       "      <td>15</td>\n",
       "    </tr>\n",
       "    <tr>\n",
       "      <th>AR</th>\n",
       "      <td>13</td>\n",
       "      <td>27</td>\n",
       "      <td>15</td>\n",
       "    </tr>\n",
       "    <tr>\n",
       "      <th>AZ</th>\n",
       "      <td>15</td>\n",
       "      <td>36</td>\n",
       "      <td>13</td>\n",
       "    </tr>\n",
       "    <tr>\n",
       "      <th>CA</th>\n",
       "      <td>7</td>\n",
       "      <td>17</td>\n",
       "      <td>10</td>\n",
       "    </tr>\n",
       "    <tr>\n",
       "      <th>CO</th>\n",
       "      <td>25</td>\n",
       "      <td>29</td>\n",
       "      <td>12</td>\n",
       "    </tr>\n",
       "    <tr>\n",
       "      <th>CT</th>\n",
       "      <td>22</td>\n",
       "      <td>39</td>\n",
       "      <td>13</td>\n",
       "    </tr>\n",
       "    <tr>\n",
       "      <th>DC</th>\n",
       "      <td>14</td>\n",
       "      <td>27</td>\n",
       "      <td>13</td>\n",
       "    </tr>\n",
       "    <tr>\n",
       "      <th>DE</th>\n",
       "      <td>13</td>\n",
       "      <td>31</td>\n",
       "      <td>17</td>\n",
       "    </tr>\n",
       "    <tr>\n",
       "      <th>FL</th>\n",
       "      <td>12</td>\n",
       "      <td>31</td>\n",
       "      <td>20</td>\n",
       "    </tr>\n",
       "    <tr>\n",
       "      <th>GA</th>\n",
       "      <td>15</td>\n",
       "      <td>21</td>\n",
       "      <td>18</td>\n",
       "    </tr>\n",
       "    <tr>\n",
       "      <th>HI</th>\n",
       "      <td>15</td>\n",
       "      <td>30</td>\n",
       "      <td>8</td>\n",
       "    </tr>\n",
       "    <tr>\n",
       "      <th>IA</th>\n",
       "      <td>8</td>\n",
       "      <td>20</td>\n",
       "      <td>16</td>\n",
       "    </tr>\n",
       "    <tr>\n",
       "      <th>ID</th>\n",
       "      <td>12</td>\n",
       "      <td>41</td>\n",
       "      <td>20</td>\n",
       "    </tr>\n",
       "    <tr>\n",
       "      <th>IL</th>\n",
       "      <td>15</td>\n",
       "      <td>28</td>\n",
       "      <td>15</td>\n",
       "    </tr>\n",
       "    <tr>\n",
       "      <th>IN</th>\n",
       "      <td>18</td>\n",
       "      <td>33</td>\n",
       "      <td>20</td>\n",
       "    </tr>\n",
       "    <tr>\n",
       "      <th>KS</th>\n",
       "      <td>12</td>\n",
       "      <td>37</td>\n",
       "      <td>21</td>\n",
       "    </tr>\n",
       "    <tr>\n",
       "      <th>KY</th>\n",
       "      <td>15</td>\n",
       "      <td>32</td>\n",
       "      <td>12</td>\n",
       "    </tr>\n",
       "    <tr>\n",
       "      <th>LA</th>\n",
       "      <td>13</td>\n",
       "      <td>27</td>\n",
       "      <td>11</td>\n",
       "    </tr>\n",
       "    <tr>\n",
       "      <th>MA</th>\n",
       "      <td>24</td>\n",
       "      <td>29</td>\n",
       "      <td>12</td>\n",
       "    </tr>\n",
       "    <tr>\n",
       "      <th>MD</th>\n",
       "      <td>16</td>\n",
       "      <td>39</td>\n",
       "      <td>15</td>\n",
       "    </tr>\n",
       "    <tr>\n",
       "      <th>ME</th>\n",
       "      <td>15</td>\n",
       "      <td>25</td>\n",
       "      <td>22</td>\n",
       "    </tr>\n",
       "    <tr>\n",
       "      <th>MI</th>\n",
       "      <td>12</td>\n",
       "      <td>39</td>\n",
       "      <td>22</td>\n",
       "    </tr>\n",
       "    <tr>\n",
       "      <th>MN</th>\n",
       "      <td>20</td>\n",
       "      <td>40</td>\n",
       "      <td>24</td>\n",
       "    </tr>\n",
       "    <tr>\n",
       "      <th>MO</th>\n",
       "      <td>15</td>\n",
       "      <td>37</td>\n",
       "      <td>11</td>\n",
       "    </tr>\n",
       "    <tr>\n",
       "      <th>MS</th>\n",
       "      <td>15</td>\n",
       "      <td>31</td>\n",
       "      <td>19</td>\n",
       "    </tr>\n",
       "    <tr>\n",
       "      <th>MT</th>\n",
       "      <td>17</td>\n",
       "      <td>34</td>\n",
       "      <td>17</td>\n",
       "    </tr>\n",
       "    <tr>\n",
       "      <th>NC</th>\n",
       "      <td>25</td>\n",
       "      <td>28</td>\n",
       "      <td>15</td>\n",
       "    </tr>\n",
       "    <tr>\n",
       "      <th>ND</th>\n",
       "      <td>19</td>\n",
       "      <td>28</td>\n",
       "      <td>15</td>\n",
       "    </tr>\n",
       "    <tr>\n",
       "      <th>NE</th>\n",
       "      <td>13</td>\n",
       "      <td>34</td>\n",
       "      <td>14</td>\n",
       "    </tr>\n",
       "    <tr>\n",
       "      <th>NH</th>\n",
       "      <td>25</td>\n",
       "      <td>19</td>\n",
       "      <td>12</td>\n",
       "    </tr>\n",
       "    <tr>\n",
       "      <th>NJ</th>\n",
       "      <td>15</td>\n",
       "      <td>34</td>\n",
       "      <td>19</td>\n",
       "    </tr>\n",
       "    <tr>\n",
       "      <th>NM</th>\n",
       "      <td>16</td>\n",
       "      <td>35</td>\n",
       "      <td>11</td>\n",
       "    </tr>\n",
       "    <tr>\n",
       "      <th>NV</th>\n",
       "      <td>14</td>\n",
       "      <td>34</td>\n",
       "      <td>18</td>\n",
       "    </tr>\n",
       "    <tr>\n",
       "      <th>NY</th>\n",
       "      <td>19</td>\n",
       "      <td>47</td>\n",
       "      <td>17</td>\n",
       "    </tr>\n",
       "    <tr>\n",
       "      <th>OH</th>\n",
       "      <td>22</td>\n",
       "      <td>40</td>\n",
       "      <td>16</td>\n",
       "    </tr>\n",
       "    <tr>\n",
       "      <th>OK</th>\n",
       "      <td>17</td>\n",
       "      <td>27</td>\n",
       "      <td>17</td>\n",
       "    </tr>\n",
       "    <tr>\n",
       "      <th>OR</th>\n",
       "      <td>14</td>\n",
       "      <td>44</td>\n",
       "      <td>20</td>\n",
       "    </tr>\n",
       "    <tr>\n",
       "      <th>PA</th>\n",
       "      <td>14</td>\n",
       "      <td>19</td>\n",
       "      <td>12</td>\n",
       "    </tr>\n",
       "    <tr>\n",
       "      <th>RI</th>\n",
       "      <td>12</td>\n",
       "      <td>35</td>\n",
       "      <td>18</td>\n",
       "    </tr>\n",
       "    <tr>\n",
       "      <th>SC</th>\n",
       "      <td>13</td>\n",
       "      <td>30</td>\n",
       "      <td>17</td>\n",
       "    </tr>\n",
       "    <tr>\n",
       "      <th>SD</th>\n",
       "      <td>16</td>\n",
       "      <td>28</td>\n",
       "      <td>16</td>\n",
       "    </tr>\n",
       "    <tr>\n",
       "      <th>TN</th>\n",
       "      <td>11</td>\n",
       "      <td>30</td>\n",
       "      <td>12</td>\n",
       "    </tr>\n",
       "    <tr>\n",
       "      <th>TX</th>\n",
       "      <td>20</td>\n",
       "      <td>37</td>\n",
       "      <td>15</td>\n",
       "    </tr>\n",
       "    <tr>\n",
       "      <th>UT</th>\n",
       "      <td>12</td>\n",
       "      <td>37</td>\n",
       "      <td>23</td>\n",
       "    </tr>\n",
       "    <tr>\n",
       "      <th>VA</th>\n",
       "      <td>25</td>\n",
       "      <td>35</td>\n",
       "      <td>17</td>\n",
       "    </tr>\n",
       "    <tr>\n",
       "      <th>VT</th>\n",
       "      <td>17</td>\n",
       "      <td>36</td>\n",
       "      <td>20</td>\n",
       "    </tr>\n",
       "    <tr>\n",
       "      <th>WA</th>\n",
       "      <td>23</td>\n",
       "      <td>26</td>\n",
       "      <td>17</td>\n",
       "    </tr>\n",
       "    <tr>\n",
       "      <th>WI</th>\n",
       "      <td>22</td>\n",
       "      <td>35</td>\n",
       "      <td>21</td>\n",
       "    </tr>\n",
       "    <tr>\n",
       "      <th>WV</th>\n",
       "      <td>20</td>\n",
       "      <td>52</td>\n",
       "      <td>34</td>\n",
       "    </tr>\n",
       "    <tr>\n",
       "      <th>WY</th>\n",
       "      <td>17</td>\n",
       "      <td>41</td>\n",
       "      <td>19</td>\n",
       "    </tr>\n",
       "  </tbody>\n",
       "</table>\n",
       "</div>"
      ],
      "text/plain": [
       "Area code  408  415  510\n",
       "State                   \n",
       "AK         14   24   14 \n",
       "AL         25   40   15 \n",
       "AR         13   27   15 \n",
       "AZ         15   36   13 \n",
       "CA         7    17   10 \n",
       "CO         25   29   12 \n",
       "CT         22   39   13 \n",
       "DC         14   27   13 \n",
       "DE         13   31   17 \n",
       "FL         12   31   20 \n",
       "GA         15   21   18 \n",
       "HI         15   30   8  \n",
       "IA         8    20   16 \n",
       "ID         12   41   20 \n",
       "IL         15   28   15 \n",
       "IN         18   33   20 \n",
       "KS         12   37   21 \n",
       "KY         15   32   12 \n",
       "LA         13   27   11 \n",
       "MA         24   29   12 \n",
       "MD         16   39   15 \n",
       "ME         15   25   22 \n",
       "MI         12   39   22 \n",
       "MN         20   40   24 \n",
       "MO         15   37   11 \n",
       "MS         15   31   19 \n",
       "MT         17   34   17 \n",
       "NC         25   28   15 \n",
       "ND         19   28   15 \n",
       "NE         13   34   14 \n",
       "NH         25   19   12 \n",
       "NJ         15   34   19 \n",
       "NM         16   35   11 \n",
       "NV         14   34   18 \n",
       "NY         19   47   17 \n",
       "OH         22   40   16 \n",
       "OK         17   27   17 \n",
       "OR         14   44   20 \n",
       "PA         14   19   12 \n",
       "RI         12   35   18 \n",
       "SC         13   30   17 \n",
       "SD         16   28   16 \n",
       "TN         11   30   12 \n",
       "TX         20   37   15 \n",
       "UT         12   37   23 \n",
       "VA         25   35   17 \n",
       "VT         17   36   20 \n",
       "WA         23   26   17 \n",
       "WI         22   35   21 \n",
       "WV         20   52   34 \n",
       "WY         17   41   19 "
      ]
     },
     "execution_count": 13,
     "metadata": {},
     "output_type": "execute_result"
    }
   ],
   "source": [
    "pd.crosstab(data['State'], data['Area code'])\n",
    "#sns.countplot(x='Area code', hue='State', data=data)\n",
    "#plt.show()"
   ]
  },
  {
   "cell_type": "markdown",
   "metadata": {},
   "source": [
    "Из таблицы видно, что в каждую зону входит каждый штат, все штаты находятся сразу во всех зонах покрытия"
   ]
  },
  {
   "cell_type": "markdown",
   "metadata": {},
   "source": [
    "### Задание 5  \n",
    "  \n",
    "Вычислите тарифные планы (стоимость минуты разговора): day, eve, night, intl.  \n",
    "Проверьте, различаются ли они для различных зон покрытия сети. "
   ]
  },
  {
   "cell_type": "code",
   "execution_count": 34,
   "metadata": {},
   "outputs": [
    {
     "data": {
      "text/plain": [
       "0.17000296833948486"
      ]
     },
     "execution_count": 34,
     "metadata": {},
     "output_type": "execute_result"
    }
   ],
   "source": [
    "data['Total day charge'].mean()/data['Total day minutes'].mean()"
   ]
  },
  {
   "cell_type": "code",
   "execution_count": 35,
   "metadata": {},
   "outputs": [
    {
     "data": {
      "text/plain": [
       "0.08500103722220424"
      ]
     },
     "execution_count": 35,
     "metadata": {},
     "output_type": "execute_result"
    }
   ],
   "source": [
    "data['Total eve charge'].mean()/data['Total eve minutes'].mean()"
   ]
  },
  {
   "cell_type": "code",
   "execution_count": 36,
   "metadata": {},
   "outputs": [
    {
     "data": {
      "text/plain": [
       "0.04500039969594803"
      ]
     },
     "execution_count": 36,
     "metadata": {},
     "output_type": "execute_result"
    }
   ],
   "source": [
    "data['Total night charge'].mean()/data['Total night minutes'].mean()"
   ]
  },
  {
   "cell_type": "code",
   "execution_count": 37,
   "metadata": {},
   "outputs": [
    {
     "data": {
      "text/plain": [
       "0.27005020776129424"
      ]
     },
     "execution_count": 37,
     "metadata": {},
     "output_type": "execute_result"
    }
   ],
   "source": [
    "data['Total intl charge'].mean()/data['Total intl minutes'].mean()"
   ]
  },
  {
   "cell_type": "code",
   "execution_count": 80,
   "metadata": {},
   "outputs": [
    {
     "data": {
      "text/html": [
       "<div>\n",
       "<style>\n",
       "    .dataframe thead tr:only-child th {\n",
       "        text-align: right;\n",
       "    }\n",
       "\n",
       "    .dataframe thead th {\n",
       "        text-align: left;\n",
       "    }\n",
       "\n",
       "    .dataframe tbody tr th {\n",
       "        vertical-align: top;\n",
       "    }\n",
       "</style>\n",
       "<table border=\"1\" class=\"dataframe\">\n",
       "  <thead>\n",
       "    <tr style=\"text-align: right;\">\n",
       "      <th></th>\n",
       "      <th>Total day minutes</th>\n",
       "      <th>Total day charge</th>\n",
       "      <th>Total eve minutes</th>\n",
       "      <th>Total eve charge</th>\n",
       "      <th>Total night minutes</th>\n",
       "      <th>Total night charge</th>\n",
       "      <th>Total intl minutes</th>\n",
       "      <th>Total intl charge</th>\n",
       "    </tr>\n",
       "    <tr>\n",
       "      <th>Area code</th>\n",
       "      <th></th>\n",
       "      <th></th>\n",
       "      <th></th>\n",
       "      <th></th>\n",
       "      <th></th>\n",
       "      <th></th>\n",
       "      <th></th>\n",
       "      <th></th>\n",
       "    </tr>\n",
       "  </thead>\n",
       "  <tbody>\n",
       "    <tr>\n",
       "      <th>408</th>\n",
       "      <td>177.367840</td>\n",
       "      <td>30.152983</td>\n",
       "      <td>201.406325</td>\n",
       "      <td>17.119678</td>\n",
       "      <td>199.325776</td>\n",
       "      <td>8.969785</td>\n",
       "      <td>10.131981</td>\n",
       "      <td>2.736253</td>\n",
       "    </tr>\n",
       "    <tr>\n",
       "      <th>415</th>\n",
       "      <td>182.498701</td>\n",
       "      <td>31.025366</td>\n",
       "      <td>201.298248</td>\n",
       "      <td>17.110495</td>\n",
       "      <td>202.614713</td>\n",
       "      <td>9.117764</td>\n",
       "      <td>10.371360</td>\n",
       "      <td>2.800792</td>\n",
       "    </tr>\n",
       "    <tr>\n",
       "      <th>510</th>\n",
       "      <td>179.778095</td>\n",
       "      <td>30.562798</td>\n",
       "      <td>201.878571</td>\n",
       "      <td>17.160083</td>\n",
       "      <td>200.920000</td>\n",
       "      <td>9.041393</td>\n",
       "      <td>10.169881</td>\n",
       "      <td>2.746262</td>\n",
       "    </tr>\n",
       "  </tbody>\n",
       "</table>\n",
       "</div>"
      ],
      "text/plain": [
       "           Total day minutes  Total day charge  Total eve minutes  \\\n",
       "Area code                                                           \n",
       "408        177.367840         30.152983         201.406325          \n",
       "415        182.498701         31.025366         201.298248          \n",
       "510        179.778095         30.562798         201.878571          \n",
       "\n",
       "           Total eve charge  Total night minutes  Total night charge  \\\n",
       "Area code                                                              \n",
       "408        17.119678         199.325776           8.969785             \n",
       "415        17.110495         202.614713           9.117764             \n",
       "510        17.160083         200.920000           9.041393             \n",
       "\n",
       "           Total intl minutes  Total intl charge  \n",
       "Area code                                         \n",
       "408        10.131981           2.736253           \n",
       "415        10.371360           2.800792           \n",
       "510        10.169881           2.746262           "
      ]
     },
     "execution_count": 80,
     "metadata": {},
     "output_type": "execute_result"
    }
   ],
   "source": [
    "price = data.groupby(['Area code']).agg({'Total day minutes':'mean', 'Total day charge':'mean', 'Total eve minutes':'mean', 'Total eve charge':'mean',\n",
    "                                        'Total night minutes':'mean', 'Total night charge':'mean', 'Total intl minutes':'mean', 'Total intl charge':'mean',})\n",
    "price"
   ]
  },
  {
   "cell_type": "code",
   "execution_count": 98,
   "metadata": {},
   "outputs": [
    {
     "name": "stdout",
     "output_type": "stream",
     "text": [
      "Area 408-day cost:  0.17\n",
      "Area 415-day cost:  0.17\n",
      "Area 510-day cost:  0.17\n",
      "Area 408-eve cost:  0.085\n",
      "Area 415-eve cost:  0.085\n",
      "Area 510-eve cost:  0.085\n",
      "Area 408-night cost:  0.045\n",
      "Area 415-night cost:  0.045\n",
      "Area 510-night cost:  0.045\n"
     ]
    }
   ],
   "source": [
    "print('Area 408-day cost: ',round(price['Total day charge']['408']/price['Total day minutes']['408'],3))\n",
    "print('Area 415-day cost: ',round(price['Total day charge']['415']/price['Total day minutes']['415'],3))\n",
    "print('Area 510-day cost: ',round(price['Total day charge']['510']/price['Total day minutes']['510'],3))\n",
    "\n",
    "print('Area 408-eve cost: ',round(price['Total eve charge']['408']/price['Total eve minutes']['408'],3))\n",
    "print('Area 415-eve cost: ',round(price['Total eve charge']['415']/price['Total eve minutes']['415'],3))\n",
    "print('Area 510-eve cost: ',round(price['Total eve charge']['510']/price['Total eve minutes']['510'],3))\n",
    "\n",
    "print('Area 408-night cost: ',round(price['Total night charge']['408']/price['Total night minutes']['408'],3))\n",
    "print('Area 415-night cost: ',round(price['Total night charge']['415']/price['Total night minutes']['415'],3))\n",
    "print('Area 510-night cost: ',round(price['Total night charge']['510']/price['Total night minutes']['510'],3))"
   ]
  },
  {
   "cell_type": "markdown",
   "metadata": {},
   "source": [
    "Тарифные планы для различных зон не различаются"
   ]
  },
  {
   "cell_type": "markdown",
   "metadata": {},
   "source": [
    "### Задание 6  \n",
    "  \n",
    "По каждому штату и каждому плану в признаке `Plans` (International и Voice mail) вычислите количество клиентов, подключивших этот план и их долю внутри штата. Пример вывода:\n",
    "  \n",
    "<table border=\"1\" class=\"dataframe\">\n",
    "  <thead>\n",
    "    <tr style=\"text-align: right;\">\n",
    "      <th></th>\n",
    "      <th>State</th>\n",
    "      <th>Plan</th>\n",
    "      <th>Count</th>\n",
    "      <th>Frac</th>\n",
    "    </tr>\n",
    "  </thead>\n",
    "  <tbody>\n",
    "    <tr>\n",
    "      <th>0</th>\n",
    "      <td>state_1</td>\n",
    "      <td>International</td>\n",
    "      <td>40</td>\n",
    "      <td>0.4</td>\n",
    "    </tr>\n",
    "    <tr>\n",
    "      <th>1</th>\n",
    "      <td>state_1</td>\n",
    "      <td>Voice mail</td>\n",
    "      <td>30</td>\n",
    "      <td>0.3</td>\n",
    "    </tr>\n",
    "    <tr>\n",
    "      <th>2</th>\n",
    "      <td>state_2</td>\n",
    "      <td>International</td>\n",
    "      <td>25</td>\n",
    "      <td>0.5</td>\n",
    "    </tr>\n",
    "    <tr>\n",
    "      <th>3</th>\n",
    "      <td>state_2</td>\n",
    "      <td>Voice mail</td>\n",
    "      <td>35</td>\n",
    "      <td>0.7</td>\n",
    "    </tr>\n",
    "  </tbody>\n",
    "</table>"
   ]
  },
  {
   "cell_type": "code",
   "execution_count": 13,
   "metadata": {
    "collapsed": true,
    "scrolled": true
   },
   "outputs": [],
   "source": [
    "#clients = data.groupby(['State','Plans']).agg({'Plans':'count'})\n",
    "#clients"
   ]
  },
  {
   "cell_type": "code",
   "execution_count": 14,
   "metadata": {},
   "outputs": [
    {
     "data": {
      "text/html": [
       "<div>\n",
       "<style>\n",
       "    .dataframe thead tr:only-child th {\n",
       "        text-align: right;\n",
       "    }\n",
       "\n",
       "    .dataframe thead th {\n",
       "        text-align: left;\n",
       "    }\n",
       "\n",
       "    .dataframe tbody tr th {\n",
       "        vertical-align: top;\n",
       "    }\n",
       "</style>\n",
       "<table border=\"1\" class=\"dataframe\">\n",
       "  <thead>\n",
       "    <tr style=\"text-align: right;\">\n",
       "      <th></th>\n",
       "      <th>State</th>\n",
       "      <th>Plan</th>\n",
       "      <th>Count</th>\n",
       "      <th>Frac</th>\n",
       "    </tr>\n",
       "  </thead>\n",
       "  <tbody>\n",
       "    <tr>\n",
       "      <th>0</th>\n",
       "      <td>KS</td>\n",
       "      <td>International</td>\n",
       "      <td>6</td>\n",
       "      <td>0.085714</td>\n",
       "    </tr>\n",
       "    <tr>\n",
       "      <th>1</th>\n",
       "      <td>KS</td>\n",
       "      <td>Voice mail</td>\n",
       "      <td>17</td>\n",
       "      <td>0.242857</td>\n",
       "    </tr>\n",
       "    <tr>\n",
       "      <th>2</th>\n",
       "      <td>OH</td>\n",
       "      <td>International</td>\n",
       "      <td>4</td>\n",
       "      <td>0.051282</td>\n",
       "    </tr>\n",
       "    <tr>\n",
       "      <th>3</th>\n",
       "      <td>OH</td>\n",
       "      <td>Voice mail</td>\n",
       "      <td>22</td>\n",
       "      <td>0.282051</td>\n",
       "    </tr>\n",
       "    <tr>\n",
       "      <th>4</th>\n",
       "      <td>NJ</td>\n",
       "      <td>International</td>\n",
       "      <td>2</td>\n",
       "      <td>0.029412</td>\n",
       "    </tr>\n",
       "    <tr>\n",
       "      <th>5</th>\n",
       "      <td>NJ</td>\n",
       "      <td>Voice mail</td>\n",
       "      <td>16</td>\n",
       "      <td>0.235294</td>\n",
       "    </tr>\n",
       "    <tr>\n",
       "      <th>6</th>\n",
       "      <td>OK</td>\n",
       "      <td>International</td>\n",
       "      <td>4</td>\n",
       "      <td>0.065574</td>\n",
       "    </tr>\n",
       "    <tr>\n",
       "      <th>7</th>\n",
       "      <td>OK</td>\n",
       "      <td>Voice mail</td>\n",
       "      <td>16</td>\n",
       "      <td>0.262295</td>\n",
       "    </tr>\n",
       "    <tr>\n",
       "      <th>8</th>\n",
       "      <td>AL</td>\n",
       "      <td>International</td>\n",
       "      <td>7</td>\n",
       "      <td>0.087500</td>\n",
       "    </tr>\n",
       "    <tr>\n",
       "      <th>9</th>\n",
       "      <td>AL</td>\n",
       "      <td>Voice mail</td>\n",
       "      <td>20</td>\n",
       "      <td>0.250000</td>\n",
       "    </tr>\n",
       "    <tr>\n",
       "      <th>10</th>\n",
       "      <td>MA</td>\n",
       "      <td>International</td>\n",
       "      <td>7</td>\n",
       "      <td>0.107692</td>\n",
       "    </tr>\n",
       "    <tr>\n",
       "      <th>11</th>\n",
       "      <td>MA</td>\n",
       "      <td>Voice mail</td>\n",
       "      <td>18</td>\n",
       "      <td>0.276923</td>\n",
       "    </tr>\n",
       "    <tr>\n",
       "      <th>12</th>\n",
       "      <td>MO</td>\n",
       "      <td>International</td>\n",
       "      <td>5</td>\n",
       "      <td>0.079365</td>\n",
       "    </tr>\n",
       "    <tr>\n",
       "      <th>13</th>\n",
       "      <td>MO</td>\n",
       "      <td>Voice mail</td>\n",
       "      <td>16</td>\n",
       "      <td>0.253968</td>\n",
       "    </tr>\n",
       "    <tr>\n",
       "      <th>14</th>\n",
       "      <td>LA</td>\n",
       "      <td>International</td>\n",
       "      <td>1</td>\n",
       "      <td>0.019608</td>\n",
       "    </tr>\n",
       "    <tr>\n",
       "      <th>15</th>\n",
       "      <td>LA</td>\n",
       "      <td>Voice mail</td>\n",
       "      <td>13</td>\n",
       "      <td>0.254902</td>\n",
       "    </tr>\n",
       "    <tr>\n",
       "      <th>16</th>\n",
       "      <td>WV</td>\n",
       "      <td>International</td>\n",
       "      <td>3</td>\n",
       "      <td>0.028302</td>\n",
       "    </tr>\n",
       "    <tr>\n",
       "      <th>17</th>\n",
       "      <td>WV</td>\n",
       "      <td>Voice mail</td>\n",
       "      <td>25</td>\n",
       "      <td>0.235849</td>\n",
       "    </tr>\n",
       "    <tr>\n",
       "      <th>18</th>\n",
       "      <td>IN</td>\n",
       "      <td>International</td>\n",
       "      <td>1</td>\n",
       "      <td>0.014085</td>\n",
       "    </tr>\n",
       "    <tr>\n",
       "      <th>19</th>\n",
       "      <td>IN</td>\n",
       "      <td>Voice mail</td>\n",
       "      <td>16</td>\n",
       "      <td>0.225352</td>\n",
       "    </tr>\n",
       "  </tbody>\n",
       "</table>\n",
       "</div>"
      ],
      "text/plain": [
       "   State           Plan Count      Frac\n",
       "0   KS    International  6     0.085714\n",
       "1   KS    Voice mail     17    0.242857\n",
       "2   OH    International  4     0.051282\n",
       "3   OH    Voice mail     22    0.282051\n",
       "4   NJ    International  2     0.029412\n",
       "5   NJ    Voice mail     16    0.235294\n",
       "6   OK    International  4     0.065574\n",
       "7   OK    Voice mail     16    0.262295\n",
       "8   AL    International  7     0.087500\n",
       "9   AL    Voice mail     20    0.250000\n",
       "10  MA    International  7     0.107692\n",
       "11  MA    Voice mail     18    0.276923\n",
       "12  MO    International  5     0.079365\n",
       "13  MO    Voice mail     16    0.253968\n",
       "14  LA    International  1     0.019608\n",
       "15  LA    Voice mail     13    0.254902\n",
       "16  WV    International  3     0.028302\n",
       "17  WV    Voice mail     25    0.235849\n",
       "18  IN    International  1     0.014085\n",
       "19  IN    Voice mail     16    0.225352"
      ]
     },
     "execution_count": 14,
     "metadata": {},
     "output_type": "execute_result"
    }
   ],
   "source": [
    "clients = pd.DataFrame(columns=['State', 'Plan', 'Count', 'Frac']) \n",
    "\n",
    "for i in data['State'].unique(): \n",
    "    buf = data.loc[data['State'] == i] \n",
    "\n",
    "    count = len(buf.loc[buf['Plans'] == 'International']) \n",
    "    frac = count / len(buf) \n",
    "    s = pd.Series([i, 'International', count, frac], index=['State', 'Plan', 'Count', 'Frac']) \n",
    "    clients = clients.append(s, ignore_index=True) \n",
    "\n",
    "    count = len(buf.loc[buf['Plans'] == 'Voice mail']) \n",
    "    frac = count / len(buf) \n",
    "    s = pd.Series([i, 'Voice mail', count, frac], index=['State', 'Plan', 'Count', 'Frac']) \n",
    "    clients = clients.append(s, ignore_index=True) \n",
    "\n",
    "clients.head(20)"
   ]
  },
  {
   "cell_type": "markdown",
   "metadata": {},
   "source": [
    "### Задание 7  \n",
    "  \n",
    "Для нечисловых признаков выполните преобразование к числовому виду. Обоснуйте выбранное преобразование для каждого признака. "
   ]
  },
  {
   "cell_type": "code",
   "execution_count": 38,
   "metadata": {
    "collapsed": true
   },
   "outputs": [],
   "source": [
    "data['International plan'] = data.Plans.map({'None' : 0, 'International' : 1, 'Voice mail' : 0, 'International, Voice mail':1})\n",
    "data['Voice mail plan'] = data.Plans.map({'None' : 0, 'International' : 0, 'Voice mail' : 1, 'International, Voice mail':1})\n",
    "\n",
    "data['Male'] = data['Sex'].map({'Female' : 0, 'Male' : 1})\n",
    "data['Female'] = data['Sex'].map({'Male' : 0, 'Female' : 1})\n",
    "\n",
    "data.Male = data.Male.astype('int64')\n",
    "data.Female = data.Female.astype('int64')\n",
    "data['International plan'] = data['International plan'].astype('int64')\n",
    "data['Voice mail plan'] = data['Voice mail plan'].astype('int64')"
   ]
  },
  {
   "cell_type": "markdown",
   "metadata": {
    "collapsed": true
   },
   "source": [
    "Для эффективности решения нужно преобразовать признак Plans в два бинарных признака, то же самое - с признаком Sex "
   ]
  },
  {
   "cell_type": "markdown",
   "metadata": {},
   "source": [
    "### Задание 8  \n",
    "  \n",
    "Сколько линейно-зависимых признаков присуствует в данных?  \n",
    "Определите и удалите признаки, которые линейно зависят от остальных."
   ]
  },
  {
   "cell_type": "code",
   "execution_count": 39,
   "metadata": {
    "collapsed": true
   },
   "outputs": [],
   "source": [
    "data = data.drop(['ID', 'Sex', 'State', 'Phone number', 'Plans'], axis=1, inplace=False)"
   ]
  },
  {
   "cell_type": "markdown",
   "metadata": {},
   "source": [
    "Признаки ID и Phone number являются уникальными - можно удалить "
   ]
  },
  {
   "cell_type": "code",
   "execution_count": 40,
   "metadata": {},
   "outputs": [
    {
     "data": {
      "text/html": [
       "<div>\n",
       "<style>\n",
       "    .dataframe thead tr:only-child th {\n",
       "        text-align: right;\n",
       "    }\n",
       "\n",
       "    .dataframe thead th {\n",
       "        text-align: left;\n",
       "    }\n",
       "\n",
       "    .dataframe tbody tr th {\n",
       "        vertical-align: top;\n",
       "    }\n",
       "</style>\n",
       "<table border=\"1\" class=\"dataframe\">\n",
       "  <thead>\n",
       "    <tr style=\"text-align: right;\">\n",
       "      <th></th>\n",
       "      <th>Age</th>\n",
       "      <th>Account length</th>\n",
       "      <th>Number vmail messages</th>\n",
       "      <th>Total day minutes</th>\n",
       "      <th>Total day calls</th>\n",
       "      <th>Total day charge</th>\n",
       "      <th>Total eve minutes</th>\n",
       "      <th>Total eve calls</th>\n",
       "      <th>Total eve charge</th>\n",
       "      <th>Total night minutes</th>\n",
       "      <th>Total night calls</th>\n",
       "      <th>Total night charge</th>\n",
       "      <th>Total intl minutes</th>\n",
       "      <th>Total intl calls</th>\n",
       "      <th>Total intl charge</th>\n",
       "      <th>Total charge</th>\n",
       "      <th>Customer service calls</th>\n",
       "      <th>Churn</th>\n",
       "      <th>Area code</th>\n",
       "      <th>International plan</th>\n",
       "      <th>Voice mail plan</th>\n",
       "      <th>Male</th>\n",
       "      <th>Female</th>\n",
       "    </tr>\n",
       "  </thead>\n",
       "  <tbody>\n",
       "    <tr>\n",
       "      <th>0</th>\n",
       "      <td>37</td>\n",
       "      <td>128</td>\n",
       "      <td>25</td>\n",
       "      <td>265.1</td>\n",
       "      <td>110.0</td>\n",
       "      <td>45.07</td>\n",
       "      <td>197.4</td>\n",
       "      <td>99.0</td>\n",
       "      <td>16.78</td>\n",
       "      <td>244.7</td>\n",
       "      <td>91.0</td>\n",
       "      <td>11.01</td>\n",
       "      <td>10.0</td>\n",
       "      <td>3.0</td>\n",
       "      <td>2.70</td>\n",
       "      <td>75.56</td>\n",
       "      <td>1</td>\n",
       "      <td>False</td>\n",
       "      <td>415</td>\n",
       "      <td>0</td>\n",
       "      <td>1</td>\n",
       "      <td>0</td>\n",
       "      <td>1</td>\n",
       "    </tr>\n",
       "    <tr>\n",
       "      <th>1</th>\n",
       "      <td>34</td>\n",
       "      <td>107</td>\n",
       "      <td>26</td>\n",
       "      <td>161.6</td>\n",
       "      <td>123.0</td>\n",
       "      <td>27.47</td>\n",
       "      <td>195.5</td>\n",
       "      <td>103.0</td>\n",
       "      <td>16.62</td>\n",
       "      <td>254.4</td>\n",
       "      <td>103.0</td>\n",
       "      <td>11.45</td>\n",
       "      <td>13.7</td>\n",
       "      <td>3.0</td>\n",
       "      <td>3.70</td>\n",
       "      <td>59.24</td>\n",
       "      <td>1</td>\n",
       "      <td>False</td>\n",
       "      <td>415</td>\n",
       "      <td>0</td>\n",
       "      <td>1</td>\n",
       "      <td>0</td>\n",
       "      <td>1</td>\n",
       "    </tr>\n",
       "    <tr>\n",
       "      <th>2</th>\n",
       "      <td>19</td>\n",
       "      <td>137</td>\n",
       "      <td>0</td>\n",
       "      <td>243.4</td>\n",
       "      <td>114.0</td>\n",
       "      <td>41.38</td>\n",
       "      <td>121.2</td>\n",
       "      <td>110.0</td>\n",
       "      <td>10.30</td>\n",
       "      <td>162.6</td>\n",
       "      <td>104.0</td>\n",
       "      <td>7.32</td>\n",
       "      <td>12.2</td>\n",
       "      <td>5.0</td>\n",
       "      <td>3.29</td>\n",
       "      <td>62.29</td>\n",
       "      <td>0</td>\n",
       "      <td>False</td>\n",
       "      <td>415</td>\n",
       "      <td>0</td>\n",
       "      <td>0</td>\n",
       "      <td>0</td>\n",
       "      <td>1</td>\n",
       "    </tr>\n",
       "    <tr>\n",
       "      <th>3</th>\n",
       "      <td>31</td>\n",
       "      <td>84</td>\n",
       "      <td>0</td>\n",
       "      <td>299.4</td>\n",
       "      <td>71.0</td>\n",
       "      <td>50.90</td>\n",
       "      <td>61.9</td>\n",
       "      <td>88.0</td>\n",
       "      <td>5.26</td>\n",
       "      <td>196.9</td>\n",
       "      <td>89.0</td>\n",
       "      <td>8.86</td>\n",
       "      <td>6.6</td>\n",
       "      <td>7.0</td>\n",
       "      <td>1.78</td>\n",
       "      <td>66.80</td>\n",
       "      <td>2</td>\n",
       "      <td>False</td>\n",
       "      <td>408</td>\n",
       "      <td>1</td>\n",
       "      <td>0</td>\n",
       "      <td>0</td>\n",
       "      <td>1</td>\n",
       "    </tr>\n",
       "    <tr>\n",
       "      <th>4</th>\n",
       "      <td>30</td>\n",
       "      <td>75</td>\n",
       "      <td>0</td>\n",
       "      <td>166.7</td>\n",
       "      <td>113.0</td>\n",
       "      <td>28.34</td>\n",
       "      <td>148.3</td>\n",
       "      <td>122.0</td>\n",
       "      <td>12.61</td>\n",
       "      <td>186.9</td>\n",
       "      <td>121.0</td>\n",
       "      <td>8.41</td>\n",
       "      <td>10.1</td>\n",
       "      <td>3.0</td>\n",
       "      <td>2.73</td>\n",
       "      <td>52.09</td>\n",
       "      <td>3</td>\n",
       "      <td>False</td>\n",
       "      <td>415</td>\n",
       "      <td>1</td>\n",
       "      <td>0</td>\n",
       "      <td>0</td>\n",
       "      <td>1</td>\n",
       "    </tr>\n",
       "  </tbody>\n",
       "</table>\n",
       "</div>"
      ],
      "text/plain": [
       "   Age  Account length  Number vmail messages  Total day minutes  \\\n",
       "0  37   128             25                     265.1               \n",
       "1  34   107             26                     161.6               \n",
       "2  19   137             0                      243.4               \n",
       "3  31   84              0                      299.4               \n",
       "4  30   75              0                      166.7               \n",
       "\n",
       "   Total day calls  Total day charge  Total eve minutes  Total eve calls  \\\n",
       "0  110.0            45.07             197.4              99.0              \n",
       "1  123.0            27.47             195.5              103.0             \n",
       "2  114.0            41.38             121.2              110.0             \n",
       "3  71.0             50.90             61.9               88.0              \n",
       "4  113.0            28.34             148.3              122.0             \n",
       "\n",
       "   Total eve charge  Total night minutes  Total night calls  \\\n",
       "0  16.78             244.7                91.0                \n",
       "1  16.62             254.4                103.0               \n",
       "2  10.30             162.6                104.0               \n",
       "3  5.26              196.9                89.0                \n",
       "4  12.61             186.9                121.0               \n",
       "\n",
       "   Total night charge  Total intl minutes  Total intl calls  \\\n",
       "0  11.01               10.0                3.0                \n",
       "1  11.45               13.7                3.0                \n",
       "2  7.32                12.2                5.0                \n",
       "3  8.86                6.6                 7.0                \n",
       "4  8.41                10.1                3.0                \n",
       "\n",
       "   Total intl charge  Total charge  Customer service calls  Churn  Area code  \\\n",
       "0  2.70               75.56         1                       False  415         \n",
       "1  3.70               59.24         1                       False  415         \n",
       "2  3.29               62.29         0                       False  415         \n",
       "3  1.78               66.80         2                       False  408         \n",
       "4  2.73               52.09         3                       False  415         \n",
       "\n",
       "   International plan  Voice mail plan  Male  Female  \n",
       "0  0                   1                0     1       \n",
       "1  0                   1                0     1       \n",
       "2  0                   0                0     1       \n",
       "3  1                   0                0     1       \n",
       "4  1                   0                0     1       "
      ]
     },
     "execution_count": 40,
     "metadata": {},
     "output_type": "execute_result"
    }
   ],
   "source": [
    "data.head(5)"
   ]
  },
  {
   "cell_type": "markdown",
   "metadata": {},
   "source": [
    "### Задание 9  \n",
    "  \n",
    "Проведите анализ зависимости признаков.  \n",
    "Для числовых признаков вычислите корреляции друг с другом и с целевой переменной `Churn`. Постройте heatmap.  \n",
    "Для категориальных признаков оцените их связь с целевой переменной, постройте графики.  \n",
    "  \n",
    "Сделайте выводы по результатм анализа. Можно ли избавиться от некоторых признаков? Если да, то от каких и почему?"
   ]
  },
  {
   "cell_type": "code",
   "execution_count": 41,
   "metadata": {},
   "outputs": [
    {
     "data": {
      "image/png": "[encoded data removed]",
      "text/plain": [
       "<matplotlib.figure.Figure at 0x1d73d2e26a0>"
      ]
     },
     "metadata": {},
     "output_type": "display_data"
    }
   ],
   "source": [
    "plt.figure(figsize=(10, 8))\n",
    "sns.heatmap(data.corr(), annot=True, fmt=\".2f\", linewidths=.5)\n",
    "plt.show()"
   ]
  },
  {
   "cell_type": "markdown",
   "metadata": {},
   "source": [
    "Из таблицы видно, что признаки total day charge (night, eve, intl) зависят от\n",
    "признака total day minutes (night, eve, intl), и вычисляются умножением total minutes на опред. коэф(стоимость тарифного плана), поэтомуих можно удалить.  \n",
    "Total charge является суммой всех признаков charge,его можно удалить. \n"
   ]
  },
  {
   "cell_type": "code",
   "execution_count": 42,
   "metadata": {
    "collapsed": true
   },
   "outputs": [],
   "source": [
    "data = data.drop(['Total charge', 'Total day charge', 'Total night charge', \n",
    "                  'Total intl charge', 'Total eve charge'], axis=1, inplace=False)"
   ]
  },
  {
   "cell_type": "code",
   "execution_count": 43,
   "metadata": {},
   "outputs": [
    {
     "data": {
      "image/png": "[encoded data removed]",
      "text/plain": [
       "<matplotlib.figure.Figure at 0x1d73dd3dba8>"
      ]
     },
     "metadata": {},
     "output_type": "display_data"
    }
   ],
   "source": [
    "plt.figure(figsize=(10, 8))\n",
    "sns.heatmap(data.corr(), annot=True, fmt=\".2f\", linewidths=.5)\n",
    "plt.show()"
   ]
  },
  {
   "cell_type": "markdown",
   "metadata": {},
   "source": [
    "### Задание 10  \n",
    "  \n",
    "Рассмотрим основанную на правилах модель для предсказания оттока клиентов: \n",
    "* Если у пользователя подключен роуминг (International plan) & клиент звонил в тех. поддержку более 3-х раз => клиент уйдет (Churn = True)\n",
    "* Иначе => клиент останется (Churn = False)  \n",
    "  \n",
    "  \n",
    "Оцените качество данной модели на 5-fold валидации из 5 повторений. Для оценки качества рассмотрите различные метрики: F1-score, precision, recall, accuracy, balanced accuracy. Дайте комментарий к оценке."
   ]
  },
  {
   "cell_type": "code",
   "execution_count": 19,
   "metadata": {
    "collapsed": true
   },
   "outputs": [],
   "source": [
    "Data = data.drop(['Churn'], axis=1)\n",
    "label = data['Churn']"
   ]
  },
  {
   "cell_type": "code",
   "execution_count": 24,
   "metadata": {
    "collapsed": true
   },
   "outputs": [],
   "source": [
    "from sklearn.model_selection import RepeatedStratifiedKFold\n",
    "from sklearn.model_selection import cross_val_score\n",
    "from sklearn import metrics"
   ]
  },
  {
   "cell_type": "code",
   "execution_count": 26,
   "metadata": {},
   "outputs": [
    {
     "name": "stdout",
     "output_type": "stream",
     "text": [
      "f1_score  0.07399237865805555\n",
      "percision  0.6878095238095239\n",
      "recall  0.039342783505154647\n",
      "accuracy  0.8580866323594961\n"
     ]
    }
   ],
   "source": [
    "rskf = RepeatedStratifiedKFold(n_splits=5, n_repeats=5)\n",
    "f1 = []\n",
    "precision = []\n",
    "recall = []\n",
    "accuracy = []\n",
    "\n",
    "for train_index, test_index in rskf.split(Data, label):\n",
    "    model = (Data.loc[test_index]['International plan']==1) & (Data.loc[test_index]['Customer service calls']>3)\n",
    "    \n",
    "    f1.append(metrics.f1_score(y_true=label[test_index], y_pred=model))\n",
    "    precision.append(metrics.precision_score(y_true=label[test_index], y_pred=model))\n",
    "    recall.append(metrics.recall_score(y_true=label[test_index], y_pred=model))\n",
    "    accuracy.append(metrics.accuracy_score(y_true=label[test_index], y_pred=model))\n",
    "    \n",
    "print('f1_score ', pd.Series(f1).mean())\n",
    "print('percision ', pd.Series(precision).mean())\n",
    "print('recall ', pd.Series(recall).mean())\n",
    "print('accuracy ', pd.Series(accuracy).mean())"
   ]
  },
  {
   "cell_type": "markdown",
   "metadata": {},
   "source": [
    "## Часть 2. Методы машинного обучения <a id=\"part2\"></a>"
   ]
  },
  {
   "cell_type": "markdown",
   "metadata": {},
   "source": [
    "Продолжаем работать с данными по оттоку клиентов.  \n",
    "Сформулируем задачу машинного обучения: необходимо построить модель, определяющую, останется клиент или уйдет. \n",
    "  \n",
    "Для решения заданий, представленных ниже, необходимо использовать данные, полученные после выполнения всех преобразований в первой части. "
   ]
  },
  {
   "cell_type": "code",
   "execution_count": 27,
   "metadata": {
    "collapsed": true
   },
   "outputs": [],
   "source": [
    "from sklearn.model_selection import train_test_split\n",
    "from sklearn.tree import DecisionTreeClassifier\n",
    "from sklearn.ensemble import RandomForestClassifier\n",
    "from plot_cm import plot_confusion_matrix\n",
    "from sklearn.model_selection import KFold"
   ]
  },
  {
   "cell_type": "code",
   "execution_count": 44,
   "metadata": {
    "collapsed": true
   },
   "outputs": [],
   "source": [
    "Data = data.drop(['Churn'], axis=1)\n",
    "label = data['Churn']"
   ]
  },
  {
   "cell_type": "code",
   "execution_count": 28,
   "metadata": {
    "collapsed": true
   },
   "outputs": [],
   "source": [
    "(trainData, \n",
    " testData, \n",
    " train_label, \n",
    " test_label) = train_test_split(Data,\n",
    "                                label,\n",
    "                                test_size=0.3, \n",
    "                                random_state=56428234)"
   ]
  },
  {
   "cell_type": "markdown",
   "metadata": {},
   "source": [
    "### Задание 1  \n",
    "  \n",
    "* Постройте дерево решений глубины 5 (остальные параметры по умолчанию), оцените качество на 5-fold валидации.  \n",
    "* Для одного из деревьев (т.е. обученного на одной из итераций кросс-валидации) выведите само дерево - постройте график или выведите в текстовом виде. По структуре дерева сформулируйте правила, по которым принимается решение.  \n",
    "* Сравните между собой деревья решений, полученных на различных итерациях 5-fold валидации. Сделайте вывод, насколько сильно они похожи или различаются между собой. "
   ]
  },
  {
   "cell_type": "code",
   "execution_count": 29,
   "metadata": {},
   "outputs": [
    {
     "data": {
      "text/plain": [
       "0.93549576563069825"
      ]
     },
     "execution_count": 29,
     "metadata": {},
     "output_type": "execute_result"
    }
   ],
   "source": [
    "dtree_model = DecisionTreeClassifier(max_depth=5)\n",
    "\n",
    "kf = KFold(n_splits=5)\n",
    "kf_scores = cross_val_score(dtree_model, Data, label, cv=kf, scoring='f1_micro')\n",
    "kf_scores.mean()"
   ]
  },
  {
   "cell_type": "code",
   "execution_count": 30,
   "metadata": {},
   "outputs": [
    {
     "data": {
      "text/plain": [
       "count    5.000000\n",
       "mean     0.935796\n",
       "std      0.006105\n",
       "min      0.928036\n",
       "25%      0.933934\n",
       "50%      0.934033\n",
       "75%      0.938531\n",
       "max      0.944444\n",
       "dtype: float64"
      ]
     },
     "execution_count": 30,
     "metadata": {},
     "output_type": "execute_result"
    }
   ],
   "source": [
    "pd.Series(kf_scores).describe()\n"
   ]
  },
  {
   "cell_type": "markdown",
   "metadata": {},
   "source": [
    "### Задание 2  \n",
    "  \n",
    "На кросс-валидации (5-fold из 5 повторений) оцените, как меняется качество модели Random Forest с ростом числа деревьев (при дефолтных значениях остальных параметров). Провизуализируйте результаты. Сколько деревьев достаточно в данном случае и почему?  \n",
    "**NB:** В сравнение включите конфигурацию, аналогичную простому дереву решений. "
   ]
  },
  {
   "cell_type": "code",
   "execution_count": 31,
   "metadata": {
    "collapsed": true
   },
   "outputs": [],
   "source": [
    "scores = {1: [],\n",
    "          2: [],\n",
    "          5: [],\n",
    "          10: [],\n",
    "          50: [],\n",
    "          100: []}\n",
    "\n",
    "rskf = RepeatedStratifiedKFold(n_splits=5, n_repeats=5)\n",
    "\n",
    "for x in scores:\n",
    "    if x == 1:\n",
    "        bootstrap = False\n",
    "    else:\n",
    "        bootstrap = True\n",
    "            \n",
    "    rf_model = RandomForestClassifier(n_estimators=x, bootstrap=bootstrap)\n",
    "    scores[x] = cross_val_score(rf_model, Data, label, cv=rskf, scoring='f1_micro')\n",
    "    \n",
    "scores = pd.DataFrame(scores)\n",
    "scores.columns = [str(x) + ' estimators' for x in scores.columns]"
   ]
  },
  {
   "cell_type": "code",
   "execution_count": 32,
   "metadata": {},
   "outputs": [
    {
     "data": {
      "text/html": [
       "<div>\n",
       "<style>\n",
       "    .dataframe thead tr:only-child th {\n",
       "        text-align: right;\n",
       "    }\n",
       "\n",
       "    .dataframe thead th {\n",
       "        text-align: left;\n",
       "    }\n",
       "\n",
       "    .dataframe tbody tr th {\n",
       "        vertical-align: top;\n",
       "    }\n",
       "</style>\n",
       "<table border=\"1\" class=\"dataframe\">\n",
       "  <thead>\n",
       "    <tr style=\"text-align: right;\">\n",
       "      <th></th>\n",
       "      <th>1 estimators</th>\n",
       "      <th>2 estimators</th>\n",
       "      <th>5 estimators</th>\n",
       "      <th>10 estimators</th>\n",
       "      <th>50 estimators</th>\n",
       "      <th>100 estimators</th>\n",
       "    </tr>\n",
       "  </thead>\n",
       "  <tbody>\n",
       "    <tr>\n",
       "      <th>count</th>\n",
       "      <td>25.000000</td>\n",
       "      <td>25.000000</td>\n",
       "      <td>25.000000</td>\n",
       "      <td>25.000000</td>\n",
       "      <td>25.000000</td>\n",
       "      <td>25.000000</td>\n",
       "    </tr>\n",
       "    <tr>\n",
       "      <th>mean</th>\n",
       "      <td>0.884608</td>\n",
       "      <td>0.902251</td>\n",
       "      <td>0.928472</td>\n",
       "      <td>0.936695</td>\n",
       "      <td>0.945515</td>\n",
       "      <td>0.946656</td>\n",
       "    </tr>\n",
       "    <tr>\n",
       "      <th>std</th>\n",
       "      <td>0.014624</td>\n",
       "      <td>0.014681</td>\n",
       "      <td>0.008028</td>\n",
       "      <td>0.008138</td>\n",
       "      <td>0.005488</td>\n",
       "      <td>0.007365</td>\n",
       "    </tr>\n",
       "    <tr>\n",
       "      <th>min</th>\n",
       "      <td>0.847076</td>\n",
       "      <td>0.878378</td>\n",
       "      <td>0.909910</td>\n",
       "      <td>0.919040</td>\n",
       "      <td>0.934033</td>\n",
       "      <td>0.932534</td>\n",
       "    </tr>\n",
       "    <tr>\n",
       "      <th>25%</th>\n",
       "      <td>0.877061</td>\n",
       "      <td>0.892054</td>\n",
       "      <td>0.924925</td>\n",
       "      <td>0.929429</td>\n",
       "      <td>0.944444</td>\n",
       "      <td>0.941529</td>\n",
       "    </tr>\n",
       "    <tr>\n",
       "      <th>50%</th>\n",
       "      <td>0.886057</td>\n",
       "      <td>0.902402</td>\n",
       "      <td>0.928036</td>\n",
       "      <td>0.938438</td>\n",
       "      <td>0.946027</td>\n",
       "      <td>0.946027</td>\n",
       "    </tr>\n",
       "    <tr>\n",
       "      <th>75%</th>\n",
       "      <td>0.892054</td>\n",
       "      <td>0.915916</td>\n",
       "      <td>0.935435</td>\n",
       "      <td>0.944444</td>\n",
       "      <td>0.949025</td>\n",
       "      <td>0.953453</td>\n",
       "    </tr>\n",
       "    <tr>\n",
       "      <th>max</th>\n",
       "      <td>0.917417</td>\n",
       "      <td>0.926537</td>\n",
       "      <td>0.940030</td>\n",
       "      <td>0.949025</td>\n",
       "      <td>0.955022</td>\n",
       "      <td>0.959520</td>\n",
       "    </tr>\n",
       "  </tbody>\n",
       "</table>\n",
       "</div>"
      ],
      "text/plain": [
       "       1 estimators  2 estimators  5 estimators  10 estimators  50 estimators  \\\n",
       "count  25.000000     25.000000     25.000000     25.000000      25.000000       \n",
       "mean   0.884608      0.902251      0.928472      0.936695       0.945515        \n",
       "std    0.014624      0.014681      0.008028      0.008138       0.005488        \n",
       "min    0.847076      0.878378      0.909910      0.919040       0.934033        \n",
       "25%    0.877061      0.892054      0.924925      0.929429       0.944444        \n",
       "50%    0.886057      0.902402      0.928036      0.938438       0.946027        \n",
       "75%    0.892054      0.915916      0.935435      0.944444       0.949025        \n",
       "max    0.917417      0.926537      0.940030      0.949025       0.955022        \n",
       "\n",
       "       100 estimators  \n",
       "count  25.000000       \n",
       "mean   0.946656        \n",
       "std    0.007365        \n",
       "min    0.932534        \n",
       "25%    0.941529        \n",
       "50%    0.946027        \n",
       "75%    0.953453        \n",
       "max    0.959520        "
      ]
     },
     "execution_count": 32,
     "metadata": {},
     "output_type": "execute_result"
    }
   ],
   "source": [
    "scores.describe()"
   ]
  },
  {
   "cell_type": "code",
   "execution_count": 33,
   "metadata": {},
   "outputs": [
    {
     "data": {
      "image/png": "[encoded data removed]",
      "text/plain": [
       "<matplotlib.figure.Figure at 0x294c9dac4e0>"
      ]
     },
     "metadata": {},
     "output_type": "display_data"
    }
   ],
   "source": [
    "scores.boxplot(figsize=(8,5))\n",
    "plt.ylabel('f1-micro')\n",
    "plt.show()"
   ]
  },
  {
   "cell_type": "code",
   "execution_count": 34,
   "metadata": {},
   "outputs": [
    {
     "data": {
      "image/png": "[encoded data removed]",
      "text/plain": [
       "<matplotlib.figure.Figure at 0x294ca937dd8>"
      ]
     },
     "metadata": {},
     "output_type": "display_data"
    }
   ],
   "source": [
    "scores.plot(subplots=True, sharey=True, figsize=(9, 10))\n",
    "plt.xlabel('iteration')\n",
    "plt.xlabel('f1_micro')\n",
    "plt.show()"
   ]
  },
  {
   "cell_type": "markdown",
   "metadata": {},
   "source": [
    "В данном случае достаточно 50 деревьев, посколько при увеличении кол-ва деревьев улучшение качества будет незначительным"
   ]
  },
  {
   "cell_type": "markdown",
   "metadata": {},
   "source": [
    "### Задание 3  \n",
    "  \n",
    "* Настройте гиперпараметры модели Random Forest на 5-fold валдиации из 5 повторений. В качестве метрики используйте F1-score. Замерьте время, затраченное на вычисления.\n",
    "* Разделите данные на обучающую и тестовую выборки в пропорциях 70:30. Обучите Random Forest  с настроенными параметрами на обучающей выборке. На тестовой выборке оцените качество (F1-score) всего ансамбля и <u>каждого дерева отдельно</u>. Постройте график распределения качества деревьев в ансамбле и сравните результаты с качеством всего леса. Дайте комментарий.  \n",
    "* Выведите важность признаков в Random Forest, сделайте выводы. "
   ]
  },
  {
   "cell_type": "code",
   "execution_count": 35,
   "metadata": {
    "collapsed": true
   },
   "outputs": [],
   "source": [
    "from sklearn.model_selection import GridSearchCV"
   ]
  },
  {
   "cell_type": "code",
   "execution_count": 81,
   "metadata": {
    "collapsed": true
   },
   "outputs": [],
   "source": [
    "Data = data.drop(['Churn'], axis=1)"
   ]
  },
  {
   "cell_type": "code",
   "execution_count": 51,
   "metadata": {
    "collapsed": true
   },
   "outputs": [],
   "source": [
    "params = {\n",
    "    'n_estimators': [10, 20, 50, 100],\n",
    "    'max_depth': range(5,7),\n",
    "    'min_samples_split': range(2, 9, 3),\n",
    "    'min_samples_leaf': range(1, 9, 3),\n",
    "    'max_features': [None, 3, 5]\n",
    "}"
   ]
  },
  {
   "cell_type": "code",
   "execution_count": 52,
   "metadata": {
    "collapsed": true
   },
   "outputs": [],
   "source": [
    "rskf = RepeatedStratifiedKFold(n_splits=5, n_repeats=5)\n",
    "rf_model = RandomForestClassifier()\n",
    "grid = GridSearchCV(rf_model, params, cv=rskf, scoring='f1_micro', n_jobs=1)"
   ]
  },
  {
   "cell_type": "code",
   "execution_count": 53,
   "metadata": {},
   "outputs": [
    {
     "name": "stdout",
     "output_type": "stream",
     "text": [
      "Wall time: 1h 3min 4s\n"
     ]
    },
    {
     "data": {
      "text/plain": [
       "GridSearchCV(cv=<sklearn.model_selection._split.RepeatedStratifiedKFold object at 0x00000294C9D9C3C8>,\n",
       "       error_score='raise',\n",
       "       estimator=RandomForestClassifier(bootstrap=True, class_weight=None, criterion='gini',\n",
       "            max_depth=None, max_features='auto', max_leaf_nodes=None,\n",
       "            min_impurity_decrease=0.0, min_impurity_split=None,\n",
       "            min_samples_leaf=1, min_samples_split=2,\n",
       "            min_weight_fraction_leaf=0.0, n_estimators=10, n_jobs=1,\n",
       "            oob_score=False, random_state=None, verbose=0,\n",
       "            warm_start=False),\n",
       "       fit_params=None, iid=True, n_jobs=1,\n",
       "       param_grid={'n_estimators': [10, 20, 50, 100], 'max_depth': range(5, 7), 'min_samples_split': range(2, 9, 3), 'min_samples_leaf': range(1, 9, 3), 'max_features': [None, 3, 5]},\n",
       "       pre_dispatch='2*n_jobs', refit=True, return_train_score='warn',\n",
       "       scoring='f1_micro', verbose=0)"
      ]
     },
     "execution_count": 53,
     "metadata": {},
     "output_type": "execute_result"
    }
   ],
   "source": [
    "%%time\n",
    "grid.fit(Data, label)"
   ]
  },
  {
   "cell_type": "code",
   "execution_count": 54,
   "metadata": {},
   "outputs": [
    {
     "data": {
      "text/plain": [
       "0.94815481548154812"
      ]
     },
     "execution_count": 54,
     "metadata": {},
     "output_type": "execute_result"
    }
   ],
   "source": [
    "grid.best_score_"
   ]
  },
  {
   "cell_type": "code",
   "execution_count": 55,
   "metadata": {},
   "outputs": [
    {
     "data": {
      "text/plain": [
       "{'max_depth': 6,\n",
       " 'max_features': None,\n",
       " 'min_samples_leaf': 1,\n",
       " 'min_samples_split': 2,\n",
       " 'n_estimators': 100}"
      ]
     },
     "execution_count": 55,
     "metadata": {},
     "output_type": "execute_result"
    }
   ],
   "source": [
    "grid.best_params_"
   ]
  },
  {
   "cell_type": "code",
   "execution_count": 83,
   "metadata": {
    "collapsed": true
   },
   "outputs": [],
   "source": [
    "from sklearn.metrics import f1_score"
   ]
  },
  {
   "cell_type": "code",
   "execution_count": 84,
   "metadata": {
    "collapsed": true
   },
   "outputs": [],
   "source": [
    "rskf = RepeatedStratifiedKFold(n_splits=5, n_repeats=5)\n",
    "rf_model = RandomForestClassifier(n_estimators=100, max_depth=6, min_samples_split=2)\n",
    "rf_model.fit(trainData, train_label)\n",
    "preds = rf_model.predict(testData)\n",
    "\n",
    "forest_score = f1_score(test_label, preds)"
   ]
  },
  {
   "cell_type": "code",
   "execution_count": 85,
   "metadata": {},
   "outputs": [
    {
     "data": {
      "text/plain": [
       "0.68595041322314054"
      ]
     },
     "execution_count": 85,
     "metadata": {},
     "output_type": "execute_result"
    }
   ],
   "source": [
    "forest_score"
   ]
  },
  {
   "cell_type": "code",
   "execution_count": 88,
   "metadata": {},
   "outputs": [
    {
     "data": {
      "text/plain": [
       "count    100.000000\n",
       "mean     0.506298  \n",
       "std      0.105595  \n",
       "min      0.263158  \n",
       "25%      0.442700  \n",
       "50%      0.527001  \n",
       "75%      0.577968  \n",
       "max      0.742647  \n",
       "dtype: float64"
      ]
     },
     "execution_count": 88,
     "metadata": {},
     "output_type": "execute_result"
    }
   ],
   "source": [
    "scores = pd.Series(\n",
    "    [\n",
    "        metrics.f1_score(test_label, \n",
    "                         x.predict(testData)) for x in rf_model.estimators_\n",
    "    ]\n",
    ")\n",
    "scores.describe()"
   ]
  },
  {
   "cell_type": "code",
   "execution_count": 89,
   "metadata": {},
   "outputs": [
    {
     "data": {
      "image/png": "[encoded data removed]",
      "text/plain": [
       "<matplotlib.figure.Figure at 0x294c9d88d30>"
      ]
     },
     "metadata": {},
     "output_type": "display_data"
    }
   ],
   "source": [
    "sns.boxplot(scores)\n",
    "plt.xlabel('f1 - scores')\n",
    "plt.show()"
   ]
  },
  {
   "cell_type": "code",
   "execution_count": 197,
   "metadata": {},
   "outputs": [
    {
     "data": {
      "text/plain": [
       "array([ 0.00986805,  0.01185428,  0.03823558,  0.22124733,  0.01489921,\n",
       "        0.15991623,  0.05435236,  0.01238978,  0.05663999,  0.02170107,\n",
       "        0.01082031,  0.02086057,  0.03805561,  0.03359799,  0.02345202,\n",
       "        0.1261671 ,  0.00260773,  0.11050879,  0.03102812,  0.00099991,\n",
       "        0.00079796])"
      ]
     },
     "execution_count": 197,
     "metadata": {},
     "output_type": "execute_result"
    }
   ],
   "source": [
    "rf_model.feature_importances_"
   ]
  },
  {
   "cell_type": "code",
   "execution_count": 90,
   "metadata": {},
   "outputs": [
    {
     "data": {
      "text/plain": [
       "Total day minutes         0.247382\n",
       "Customer service calls    0.183141\n",
       "International plan        0.143309\n",
       "Total eve minutes         0.094123\n",
       "Total intl minutes        0.072054\n",
       "Total intl calls          0.053934\n",
       "Total night minutes       0.038209\n",
       "Number vmail messages     0.033354\n",
       "Total eve calls           0.024258\n",
       "Total night calls         0.023752\n",
       "Total day calls           0.023477\n",
       "Voice mail plan           0.019653\n",
       "Account length            0.018234\n",
       "Age                       0.015925\n",
       "Area code                 0.005543\n",
       "Female                    0.001893\n",
       "Male                      0.001758\n",
       "dtype: float64"
      ]
     },
     "execution_count": 90,
     "metadata": {},
     "output_type": "execute_result"
    }
   ],
   "source": [
    "pd.Series(rf_model.feature_importances_, \n",
    "          index=Data.columns).sort_values(ascending=False)"
   ]
  },
  {
   "cell_type": "markdown",
   "metadata": {},
   "source": [
    "Total day minutes ожидаемо оказывает наибольшее влияние на целевую переменную, а признаки Sex, Area code, Age почти никак не влияют, их можно было удалить. "
   ]
  },
  {
   "cell_type": "markdown",
   "metadata": {},
   "source": [
    "### Задание 4  \n",
    "  \n",
    "* Используйте логистическую регрессию для решения задачи, оцените качество (roc auc) на 5-fold валидации из 5 повторений. \n",
    "* Аналогично (на такой же валидации с такой же метрикой) оцените качество Random Forest  с подобранными в предыдущем задании параметрами. Сравните с качеством логистическом регрессии.\n",
    "* Разделите данные на обучающую и тестовую выборки в пропорциях 70:30. На обучающей выборке обучите логистическую регрессию и Random Forest  с настроенными параметрами. Для обеих моделей оцените качество на тестовой выборке - постройте ROC-кривую, вычислите roc auc."
   ]
  },
  {
   "cell_type": "code",
   "execution_count": 36,
   "metadata": {
    "collapsed": true
   },
   "outputs": [],
   "source": [
    "from sklearn.linear_model import LogisticRegression"
   ]
  },
  {
   "cell_type": "code",
   "execution_count": 91,
   "metadata": {},
   "outputs": [
    {
     "data": {
      "text/plain": [
       "0.8144666003496716"
      ]
     },
     "execution_count": 91,
     "metadata": {},
     "output_type": "execute_result"
    }
   ],
   "source": [
    "log_model = LogisticRegression()\n",
    "rskf = RepeatedStratifiedKFold(n_splits=5,n_repeats=5) \n",
    "log_scores = pd.Series(cross_val_score(log_model, Data, label, cv=rskf, scoring='roc_auc'))\n",
    "log_scores.mean()"
   ]
  },
  {
   "cell_type": "code",
   "execution_count": 92,
   "metadata": {
    "collapsed": true
   },
   "outputs": [],
   "source": [
    "rskf = RepeatedStratifiedKFold(n_splits=5, n_repeats=5)\n",
    "rf_model = RandomForestClassifier(n_estimators=100, max_depth=6, min_samples_split=2)\n",
    "\n",
    "scores = pd.Series(cross_val_score(rf_model, Data, label, cv=rskf, scoring='roc_auc', n_jobs=5))"
   ]
  },
  {
   "cell_type": "code",
   "execution_count": 99,
   "metadata": {},
   "outputs": [
    {
     "data": {
      "image/png": "[encoded data removed]",
      "text/plain": [
       "<matplotlib.figure.Figure at 0x294ca8b0358>"
      ]
     },
     "metadata": {},
     "output_type": "display_data"
    }
   ],
   "source": [
    "plt.subplot(2,1,1)\n",
    "sns.boxplot(scores)\n",
    "plt.title('Random forest - score')\n",
    "\n",
    "plt.subplot(2,1,2)\n",
    "sns.boxplot(log_scores)\n",
    "plt.title('Log Regression - score')\n",
    "#plt.xlabel('Log Regression - score')\n",
    "plt.show()"
   ]
  },
  {
   "cell_type": "markdown",
   "metadata": {},
   "source": [
    "Random forest дает лучший результат"
   ]
  },
  {
   "cell_type": "code",
   "execution_count": 65,
   "metadata": {
    "collapsed": true
   },
   "outputs": [],
   "source": [
    "rf_model.fit(trainData, train_label)\n",
    "preds = rf_model.predict(testData)\n",
    "\n",
    "log_model.fit(trainData, train_label)\n",
    "log_preds = log_model.predict(testData)"
   ]
  },
  {
   "cell_type": "code",
   "execution_count": 66,
   "metadata": {},
   "outputs": [
    {
     "data": {
      "image/png": "[encoded data removed]",
      "text/plain": [
       "<matplotlib.figure.Figure at 0x294c9d5de10>"
      ]
     },
     "metadata": {},
     "output_type": "display_data"
    }
   ],
   "source": [
    "fpr, tpr, threshold = metrics.roc_curve(test_label, preds)\n",
    "roc_auc = metrics.auc(fpr, tpr)\n",
    "\n",
    "plt.plot(fpr, tpr, 'b', label = 'AUC = %0.2f' % roc_auc)\n",
    "plt.plot([0, 1], [0, 1],'r--')\n",
    "\n",
    "plt.xlim([0, 1])\n",
    "plt.ylim([0, 1])\n",
    "\n",
    "plt.ylabel('True Positive Rate')\n",
    "plt.xlabel('False Positive Rate')\n",
    "\n",
    "plt.title('Receiver Operating Characteristic')\n",
    "\n",
    "plt.legend(loc = 'lower right')\n",
    "\n",
    "plt.show()"
   ]
  },
  {
   "cell_type": "code",
   "execution_count": 67,
   "metadata": {},
   "outputs": [
    {
     "data": {
      "image/png": "[encoded data removed]",
      "text/plain": [
       "<matplotlib.figure.Figure at 0x294c9d5f898>"
      ]
     },
     "metadata": {},
     "output_type": "display_data"
    }
   ],
   "source": [
    "fpr, tpr, threshold = metrics.roc_curve(test_label, log_preds)\n",
    "roc_auc = metrics.auc(fpr, tpr)\n",
    "\n",
    "# plot auc\n",
    "plt.plot(fpr, tpr, 'b', label = 'AUC = %0.2f' % roc_auc)\n",
    "plt.plot([0, 1], [0, 1],'r--')\n",
    "\n",
    "plt.xlim([0, 1])\n",
    "plt.ylim([0, 1])\n",
    "\n",
    "plt.ylabel('True Positive Rate')\n",
    "plt.xlabel('False Positive Rate')\n",
    "\n",
    "plt.title('Receiver Operating Characteristic')\n",
    "\n",
    "plt.legend(loc = 'lower right')\n",
    "\n",
    "plt.show()"
   ]
  },
  {
   "cell_type": "markdown",
   "metadata": {},
   "source": [
    "### Задание 5  \n",
    "  \n",
    "Настройте гиперпараметры модели SVM на 5-fold валидации из 5 повторений. В качестве метрики используйте F1-score. Замерьте время, затраченное на вычисления.    \n",
    "Каково качество модели? Каков разброс значений метрики? Насколько сильно различие между лучшей и худшей конфигурациями параметров?"
   ]
  },
  {
   "cell_type": "code",
   "execution_count": 74,
   "metadata": {
    "collapsed": true
   },
   "outputs": [],
   "source": [
    "from sklearn.preprocessing import StandardScaler\n",
    "from sklearn.svm import SVC, LinearSVC\n",
    "import numpy as np"
   ]
  },
  {
   "cell_type": "code",
   "execution_count": 69,
   "metadata": {
    "collapsed": true
   },
   "outputs": [],
   "source": [
    "std_scaler = StandardScaler()\n",
    "std_scaler.fit(Data)\n",
    "norm_Data = std_scaler.transform(Data)"
   ]
  },
  {
   "cell_type": "code",
   "execution_count": 75,
   "metadata": {
    "collapsed": true
   },
   "outputs": [],
   "source": [
    "params = {'gamma': np.append(np.arange(0.01, 0.1, 0.01), np.arange(0.1, 1.51, 0.05))}\n",
    "\n",
    "rskf = RepeatedStratifiedKFold(n_splits=5, n_repeats=5)\n",
    "svm_model = SVC(kernel='rbf')\n",
    "\n",
    "clf = GridSearchCV(svm_model, params, cv=rskf, scoring='f1_micro', n_jobs=4)"
   ]
  },
  {
   "cell_type": "code",
   "execution_count": 76,
   "metadata": {},
   "outputs": [
    {
     "name": "stdout",
     "output_type": "stream",
     "text": [
      "Wall time: 15min 5s\n"
     ]
    },
    {
     "data": {
      "text/plain": [
       "GridSearchCV(cv=<sklearn.model_selection._split.RepeatedStratifiedKFold object at 0x00000294C9D73AC8>,\n",
       "       error_score='raise',\n",
       "       estimator=SVC(C=1.0, cache_size=200, class_weight=None, coef0=0.0,\n",
       "  decision_function_shape='ovr', degree=3, gamma='auto', kernel='rbf',\n",
       "  max_iter=-1, probability=False, random_state=None, shrinking=True,\n",
       "  tol=0.001, verbose=False),\n",
       "       fit_params=None, iid=True, n_jobs=4,\n",
       "       param_grid={'gamma': array([ 0.01,  0.02,  0.03,  0.04,  0.05,  0.06,  0.07,  0.08,  0.09,\n",
       "        0.1 ,  0.15,  0.2 ,  0.25,  0.3 ,  0.35,  0.4 ,  0.45,  0.5 ,\n",
       "        0.55,  0.6 ,  0.65,  0.7 ,  0.75,  0.8 ,  0.85,  0.9 ,  0.95,\n",
       "        1.  ,  1.05,  1.1 ,  1.15,  1.2 ,  1.25,  1.3 ,  1.35,  1.4 ,\n",
       "        1.45,  1.5 ])},\n",
       "       pre_dispatch='2*n_jobs', refit=True, return_train_score='warn',\n",
       "       scoring='f1_micro', verbose=0)"
      ]
     },
     "execution_count": 76,
     "metadata": {},
     "output_type": "execute_result"
    }
   ],
   "source": [
    "%%time\n",
    "clf.fit(norm_Data, label)"
   ]
  },
  {
   "cell_type": "code",
   "execution_count": 77,
   "metadata": {},
   "outputs": [
    {
     "name": "stderr",
     "output_type": "stream",
     "text": [
      "C:\\Anaconda3\\lib\\site-packages\\sklearn\\utils\\deprecation.py:122: FutureWarning: You are accessing a training score ('mean_train_score'), which will not be available by default any more in 0.21. If you need training scores, please set return_train_score=True\n",
      "  warnings.warn(*warn_args, **warn_kwargs)\n"
     ]
    }
   ],
   "source": [
    "res = pd.DataFrame({k: clf.cv_results_[k] for k in ['mean_test_score', 'mean_train_score']})\n",
    "res['gamma'] = params['gamma']"
   ]
  },
  {
   "cell_type": "code",
   "execution_count": 78,
   "metadata": {},
   "outputs": [
    {
     "data": {
      "text/plain": [
       "{'gamma': 0.069999999999999993}"
      ]
     },
     "execution_count": 78,
     "metadata": {},
     "output_type": "execute_result"
    }
   ],
   "source": [
    "clf.best_params_"
   ]
  },
  {
   "cell_type": "code",
   "execution_count": 79,
   "metadata": {},
   "outputs": [
    {
     "data": {
      "text/plain": [
       "0.90501050105010505"
      ]
     },
     "execution_count": 79,
     "metadata": {},
     "output_type": "execute_result"
    }
   ],
   "source": [
    "clf.best_score_"
   ]
  },
  {
   "cell_type": "code",
   "execution_count": 80,
   "metadata": {},
   "outputs": [
    {
     "data": {
      "image/png": "[encoded data removed]",
      "text/plain": [
       "<matplotlib.figure.Figure at 0x294c9d7c358>"
      ]
     },
     "metadata": {},
     "output_type": "display_data"
    }
   ],
   "source": [
    "res.plot(x='gamma', figsize=(10, 6), xticks=res['gamma'][::2], rot=90, fontsize=7)\n",
    "plt.axvline(x=clf.best_params_['gamma'], c='r')\n",
    "plt.ylabel('f1-score')\n",
    "plt.show()"
   ]
  },
  {
   "cell_type": "markdown",
   "metadata": {},
   "source": [
    "### Задание 6  \n",
    "  \n",
    "Для алгоритма AdaBoost с параметрами по умолчанию оцените на 5-fold валидации, как растет качество модели на обучающей и на тестовой выборках при добавлении каждого дерева. Провизуализируйте результаты. "
   ]
  },
  {
   "cell_type": "code",
   "execution_count": 41,
   "metadata": {
    "collapsed": true
   },
   "outputs": [],
   "source": [
    "from sklearn.ensemble import AdaBoostClassifier\n",
    "from sklearn.model_selection import StratifiedKFold"
   ]
  },
  {
   "cell_type": "code",
   "execution_count": 42,
   "metadata": {
    "collapsed": true
   },
   "outputs": [],
   "source": [
    "f1_train = [] # will be list of lists of scores\n",
    "acc_train = [] # will be list of lists of scores\n",
    "f1_test = [] \n",
    "\n",
    "skf = StratifiedKFold(n_splits=5, shuffle=True)\n",
    "\n",
    "for train_index, test_index in skf.split(Data, label):\n",
    "    \n",
    "    # train data\n",
    "    x_train = Data.iloc[train_index] # data\n",
    "    y_train = label.iloc[train_index] # label\n",
    "    \n",
    "    # test data\n",
    "    x_test = Data.iloc[test_index] # data\n",
    "    y_test = label.iloc[test_index] # label\n",
    "    \n",
    "    ab_model = AdaBoostClassifier()\n",
    "    ab_model.fit(x_train, y_train)\n",
    "    \n",
    "    # f1 on train on each stage\n",
    "    scores = []\n",
    "    for s in ab_model.staged_predict(x_train):\n",
    "        scores.append(metrics.f1_score(y_train, s))\n",
    "    f1_train.append(scores)\n",
    "    del scores\n",
    "    \n",
    "    # f1 on test on each stage\n",
    "    scores = []\n",
    "    for s in ab_model.staged_predict(x_test):\n",
    "        scores.append(metrics.f1_score(y_test, s))\n",
    "    f1_test.append(scores)\n",
    "    del scores\n",
    "    \n",
    "    # acc on train on each stage\n",
    "    acc_train.append(list(ab_model.staged_score(x_train, y_train)))\n",
    "    \n",
    "f1_train = pd.DataFrame(f1_train).transpose()\n",
    "acc_train = pd.DataFrame(acc_train).transpose()\n",
    "f1_test = pd.DataFrame(f1_test).transpose()"
   ]
  },
  {
   "cell_type": "code",
   "execution_count": 43,
   "metadata": {},
   "outputs": [
    {
     "data": {
      "image/png": "[encoded data removed]",
      "text/plain": [
       "<matplotlib.figure.Figure at 0x294cab51438>"
      ]
     },
     "metadata": {},
     "output_type": "display_data"
    }
   ],
   "source": [
    "f1_train.plot()\n",
    "\n",
    "plt.xlabel('stage')\n",
    "plt.ylabel('f1-score')\n",
    "plt.title('f1 on train')\n",
    "\n",
    "plt.show()"
   ]
  },
  {
   "cell_type": "code",
   "execution_count": 44,
   "metadata": {},
   "outputs": [
    {
     "data": {
      "image/png": "[encoded data removed]",
      "text/plain": [
       "<matplotlib.figure.Figure at 0x294cab0b828>"
      ]
     },
     "metadata": {},
     "output_type": "display_data"
    }
   ],
   "source": [
    "f1_test.plot()\n",
    "\n",
    "plt.xlabel('stage')\n",
    "plt.ylabel('f1-score')\n",
    "plt.title('f1 on test')\n",
    "\n",
    "plt.show()"
   ]
  },
  {
   "cell_type": "markdown",
   "metadata": {},
   "source": [
    "### Задание 7  \n",
    "  \n",
    "* Настройте гиперпараметры AdaBoost на 5-fold валидации из 5 повторений, используя в качестве базовых классификаторов дерево решений и SVM. В качестве метрики используйте F1-score. Замерьте время, затраченное на вычисления.    \n",
    "* Выведите наилучшую конфигурацию параметров для каждого базового классификатора. Сравните качество. "
   ]
  },
  {
   "cell_type": "code",
   "execution_count": 30,
   "metadata": {
    "collapsed": true
   },
   "outputs": [],
   "source": [
    "params = {\n",
    "    'base_estimator__criterion' : ['gini', 'entropy'],\n",
    "    'base_estimator__splitter' :   ['best', 'random'],\n",
    "    'base_estimator__max_depth': range(1, 6, 2),\n",
    "    'n_estimators': range(10,51,10),\n",
    "    'learning_rate': [0.5, 0.7, 1]\n",
    "}"
   ]
  },
  {
   "cell_type": "code",
   "execution_count": 101,
   "metadata": {
    "collapsed": true
   },
   "outputs": [],
   "source": [
    "rskf = RepeatedStratifiedKFold(n_splits=5, n_repeats=5)\n",
    "dtree_model = DecisionTreeClassifier()\n",
    "ab_model = AdaBoostClassifier(base_estimator=dtree_model)\n",
    "tree_grid = GridSearchCV(ab_model, params, cv=rskf, scoring='f1_micro', n_jobs=2)"
   ]
  },
  {
   "cell_type": "code",
   "execution_count": null,
   "metadata": {
    "collapsed": true
   },
   "outputs": [],
   "source": [
    "%%time\n",
    "tree_grid.fit(Data, label)"
   ]
  },
  {
   "cell_type": "code",
   "execution_count": null,
   "metadata": {
    "collapsed": true
   },
   "outputs": [],
   "source": [
    "tree_grid.best_score_"
   ]
  },
  {
   "cell_type": "code",
   "execution_count": null,
   "metadata": {
    "collapsed": true
   },
   "outputs": [],
   "source": [
    "tree_grid.best_params_"
   ]
  },
  {
   "cell_type": "code",
   "execution_count": 31,
   "metadata": {},
   "outputs": [
    {
     "ename": "NameError",
     "evalue": "name 'SVC' is not defined",
     "output_type": "error",
     "traceback": [
      "\u001b[1;31m---------------------------------------------------------------------------\u001b[0m",
      "\u001b[1;31mNameError\u001b[0m                                 Traceback (most recent call last)",
      "\u001b[1;32m<ipython-input-31-dcf53e9a1db7>\u001b[0m in \u001b[0;36m<module>\u001b[1;34m()\u001b[0m\n\u001b[0;32m      1\u001b[0m \u001b[0mrskf\u001b[0m \u001b[1;33m=\u001b[0m \u001b[0mRepeatedStratifiedKFold\u001b[0m\u001b[1;33m(\u001b[0m\u001b[0mn_splits\u001b[0m\u001b[1;33m=\u001b[0m\u001b[1;36m5\u001b[0m\u001b[1;33m,\u001b[0m \u001b[0mn_repeats\u001b[0m\u001b[1;33m=\u001b[0m\u001b[1;36m5\u001b[0m\u001b[1;33m)\u001b[0m\u001b[1;33m\u001b[0m\u001b[0m\n\u001b[1;32m----> 2\u001b[1;33m \u001b[0msvm_model\u001b[0m \u001b[1;33m=\u001b[0m \u001b[0mSVC\u001b[0m\u001b[1;33m(\u001b[0m\u001b[1;33m)\u001b[0m\u001b[1;33m\u001b[0m\u001b[0m\n\u001b[0m\u001b[0;32m      3\u001b[0m \u001b[0mab_model\u001b[0m \u001b[1;33m=\u001b[0m \u001b[0mAdaBoostClassifier\u001b[0m\u001b[1;33m(\u001b[0m\u001b[0mbase_estimator\u001b[0m\u001b[1;33m=\u001b[0m\u001b[0msvm_model\u001b[0m\u001b[1;33m)\u001b[0m\u001b[1;33m\u001b[0m\u001b[0m\n\u001b[0;32m      4\u001b[0m \u001b[0msvm_grid\u001b[0m \u001b[1;33m=\u001b[0m \u001b[0mGridSearchCV\u001b[0m\u001b[1;33m(\u001b[0m\u001b[0mab_model\u001b[0m\u001b[1;33m,\u001b[0m \u001b[0mparams\u001b[0m\u001b[1;33m,\u001b[0m \u001b[0mcv\u001b[0m\u001b[1;33m=\u001b[0m\u001b[0mrskf\u001b[0m\u001b[1;33m,\u001b[0m \u001b[0mscoring\u001b[0m\u001b[1;33m=\u001b[0m\u001b[1;34m'f1_micro'\u001b[0m\u001b[1;33m,\u001b[0m \u001b[0mn_jobs\u001b[0m\u001b[1;33m=\u001b[0m\u001b[1;36m2\u001b[0m\u001b[1;33m)\u001b[0m\u001b[1;33m\u001b[0m\u001b[0m\n",
      "\u001b[1;31mNameError\u001b[0m: name 'SVC' is not defined"
     ]
    }
   ],
   "source": [
    "rskf = RepeatedStratifiedKFold(n_splits=5, n_repeats=5)\n",
    "svm_model = SVC()\n",
    "ab_model = AdaBoostClassifier(base_estimator=svm_model)\n",
    "svm_grid = GridSearchCV(ab_model, params, cv=rskf, scoring='f1_micro', n_jobs=2)"
   ]
  },
  {
   "cell_type": "code",
   "execution_count": null,
   "metadata": {
    "collapsed": true
   },
   "outputs": [],
   "source": [
    "svm_grid.best_params_"
   ]
  },
  {
   "cell_type": "markdown",
   "metadata": {},
   "source": [
    "## Часть 3. Соревнование по машинному обучению <a id=\"part3\"></a>"
   ]
  },
  {
   "cell_type": "markdown",
   "metadata": {},
   "source": [
    "В данном задании вам предлагается принять участие в соревновании на kaggle: [PUBG Finish Placement Prediction](https://www.kaggle.com/c/pubg-finish-placement-prediction).  \n",
    "Задача соревнования заключается в том, чтобы предсказать итоговый результат игрока (место в турнирном зачете) в [популярной](https://meduza.io/feature/2017/12/22/u-etoy-igry-net-syuzheta-i-prokachki-ya-potratil-na-nee-100-chasov-zhizni-i-eto-tolko-nachalo) игре PlayerUnknownʼs Battlegrounds на основании результатов предыдущих игр.  \n",
    " \n",
    "Подробное описание задачи, данные и их описание, целевую метрику и правила вы можете найти на странице соревнования. "
   ]
  },
  {
   "cell_type": "markdown",
   "metadata": {},
   "source": [
    "Для участия в соревновании, т.е. для того, чтобы скачать данные, сабмитить результаты и попасть в leaderboard, вам необходимо создать аккаунт на [kaggle](https://www.kaggle.com/)."
   ]
  },
  {
   "cell_type": "markdown",
   "metadata": {},
   "source": [
    "Данное соревнование является `Kernels Only` - это означает, что вы должны сабмитить не файл с предсказаниями для тестовой выборки, а код, который будет выполняться (преобразовывать данные, обучать модель) и создавать файл с предсказаниями. Как это сделать сказано в [описании](https://www.kaggle.com/c/pubg-finish-placement-prediction#Kernels-FAQ), также есть хороший [тьюториал](https://www.kaggle.com/dansbecker/submitting-from-a-kernel)."
   ]
  },
  {
   "cell_type": "markdown",
   "metadata": {},
   "source": [
    "После того, как вы выполните сабмит, в leaderboard вы сможете посмотреть качество вашей модели на тестовой выборке и место в общем зачете.  \n",
    "Вы можете делать много (до 10 в день) сабмитов - в leaderbord всегда отображается самый лучший (остальные можно посмотреть в `My Submissions`)."
   ]
  },
  {
   "cell_type": "markdown",
   "metadata": {},
   "source": [
    "### Задание  \n",
    "  \n",
    "Необходимо построить и засабмитить модель, которая:   \n",
    "* Задача минимум – покажет на тестовой выборке качество выше baseline: 0.2\n",
    "* Задача максимум - решит задачу как можно точнее  \n",
    "  \n",
    "При решении можно и нужно выполнять различные преобразования признаков и применять различные модели машинного обучения.  \n",
    "\n",
    "В качестве результата необходимо: \n",
    "* Сказать ваш логин на kaggle, чтобы мы могли найти вас в leaderboard\n",
    "* Предоставить скрипт, выполняющий преобразования данных (из формата начальных данных в тот формат, который должна принимать на вход модель) и предсказания, а также сохраненную обученную модель. \n",
    "* Предоставить скрипт, который вы сабмитили.\n",
    "* Сделать краткое описание преобразования данных и итоговой модели. В описание можно также включить некоторые результаты анализа данных (если считаете их полезными и интересными) и собственную оценку модели на кросс-валидации.  \n",
    "  \n",
    "По результатам будет составлен наш локальный leaderboard. "
   ]
  }
 ],
 "metadata": {
  "anaconda-cloud": {},
  "kernelspec": {
   "display_name": "Python 3",
   "language": "python",
   "name": "python3"
  },
  "language_info": {
   "codemirror_mode": {
    "name": "ipython",
    "version": 3
   },
   "file_extension": ".py",
   "mimetype": "text/x-python",
   "name": "python",
   "nbconvert_exporter": "python",
   "pygments_lexer": "ipython3",
   "version": "3.6.3"
  }
 },
 "nbformat": 4,
 "nbformat_minor": 1
}
